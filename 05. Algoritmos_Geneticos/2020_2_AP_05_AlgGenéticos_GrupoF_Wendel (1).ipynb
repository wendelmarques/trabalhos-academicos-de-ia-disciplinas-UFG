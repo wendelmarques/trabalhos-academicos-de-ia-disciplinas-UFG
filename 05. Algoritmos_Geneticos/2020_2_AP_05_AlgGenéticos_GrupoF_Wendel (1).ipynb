{
  "nbformat": 4,
  "nbformat_minor": 0,
  "metadata": {
    "colab": {
      "name": "2020.2_AP_05_AlgGenéticos_GrupoF_Wendel.ipynb",
      "provenance": []
    },
    "kernelspec": {
      "name": "python3",
      "display_name": "Python 3"
    },
    "language_info": {
      "name": "python"
    }
  },
  "cells": [
    {
      "cell_type": "markdown",
      "metadata": {
        "id": "mLKPZajBKe3L"
      },
      "source": [
        "**Instituto de Informática - UFG**\n",
        "\n",
        "Disciplina: Inteligência Artificial\n",
        "\n",
        "Prof. Cedric Luiz de Carvalho\n",
        "\n",
        "---\n",
        "\n",
        "Aluna(o): Wendel Marques de Jesus Souza\n",
        "\n",
        "---\n",
        "\n",
        "Grupo (F)\n",
        "\n",
        "---\n",
        "\n",
        "Papel no grupo: Engenheiro de Conhecimento\n",
        "\n",
        "---"
      ]
    },
    {
      "cell_type": "markdown",
      "metadata": {
        "id": "o_bZhd8FMiSa"
      },
      "source": [
        "#Especificação do problema : Algoritmos genéticos"
      ]
    },
    {
      "cell_type": "markdown",
      "metadata": {
        "id": "YTE0x5IrTiwN"
      },
      "source": [
        "Os anos de 2020 e 2021 estão sendo anos trágicos. Mais de 156 milhões de pessoas já foram infectadas e mais de 3,25 milhões de pessoas já morreram acometidas pela COVID-19 no mundo. Um grande número de cientistas está trabalhando com afinco para produzir medicamentos que possam minimizar os efeitos do vírus e também para produzir vacinas que previnam eficientemente a doença. Um dos fatores que pode influenciar a maior ou menor gravidade da manifestação doença nos pacientes infectados pelo vírus é a sua alimentação.\n",
        "\n",
        "Utilizando as bases de [dados sobre a alimentação](https://www.kaggle.com/mariaren/covid19-healthy-diet-dataset), implemente uma ferramenta computacional, que aplique a técnica de algoritmos genéticos para identificar a melhor dieta alimentar que possa minimizar os efeitos da doença.\n",
        "\n",
        "\n",
        "\n",
        "**Artefatos a serem entregues**:\n",
        "\n",
        "\n",
        "1.   O grupo deve entregar um vídeo único apresentando o trabalho desenvolvido (o problema, o modelo utilizado (intanciação) e a solução). \n",
        "2.   *Notebooks* : o analista de dados deve apresentar a Análise Exploratório dos Dados e o engenheiro do conhecimento deve apresentar a implementação do modelo.\n",
        "\n",
        "\n",
        "\n",
        "**Observações**: \n",
        "\n",
        "\n",
        "1.   O trabalho deve ser feito em grupo, mas a avaliação será feita individualmente. O grupo deve dividir o trabalho de forma que um dos membros implemente uma análise exploratória dos dados e o outro se encarregue de implementar o modelo, o qual deve ser definido em conjunto pelo grupo.\n",
        "2.   Não deve ser feita uma mera apresentação dos *notebooks*. Deve ser feita uma apresentação do problema e da solução produzida.\n",
        "3.   Os *notebooks* devem ser ricamente documentados e incluir uma apresentação do problema tratado, a descrição dos dados utilizados e sua preparação, o modelo e sua instanciação e a solução produzida, com as devidas avaliações dos resultados obtidos.\n",
        "\n",
        "\n",
        "\n",
        "\n"
      ]
    },
    {
      "cell_type": "markdown",
      "metadata": {
        "id": "TGxS3h1zFFGw"
      },
      "source": [
        "#Informações sobre o sistema"
      ]
    },
    {
      "cell_type": "markdown",
      "metadata": {
        "id": "Gnz8qylq0Qpa"
      },
      "source": [
        "##### Problema"
      ]
    },
    {
      "cell_type": "markdown",
      "metadata": {
        "id": "f0ubonNy0SPs"
      },
      "source": [
        "As vítimas da COVID-19 ficam debilitadas em diversos sentidos. Em deles, é no sentido nutricional. Para combater a doença e por causa da febre,  sistema imunológico acelerar o metabolismo, o que ocasiona, naturalmente, a perda de calorias e fluidos. "
      ]
    },
    {
      "cell_type": "markdown",
      "metadata": {
        "id": "lxlIshmp0URz"
      },
      "source": [
        "##### Solução"
      ]
    },
    {
      "cell_type": "markdown",
      "metadata": {
        "id": "a7r2K95j0d98"
      },
      "source": [
        "O sistema é capaz de recomendar a melhor dieta de acordo com o número de KCAL desejado. A recomendação da dieta é para vítimas em recuperação, aqueles que já receberam alta.\n",
        "\n",
        "O usuário deve fornecer um valor entre 2000kcal e 4000kcal. Com esse dado, o sistema recomenda a melhor dieta. O total de kcal da dieta o mais próximo (mas não menor) do valor informado."
      ]
    },
    {
      "cell_type": "markdown",
      "metadata": {
        "id": "vUnBNcrP0XaD"
      },
      "source": [
        "##### Rank de países (função define_ranking)"
      ]
    },
    {
      "cell_type": "markdown",
      "metadata": {
        "id": "A6JiYNU704a4"
      },
      "source": [
        "\n",
        "O conjunto de dados traz o percentual de consumo médio de KCAL de cada país. Além disso, traz também dados da COVID-19. Cada país foi rotulado com um Score, calculado da seguinte forma:\n",
        "\n",
        "  \n",
        "\n",
        "*   *Score = C + O1 + O2 * 1,5*\n",
        "\n",
        "\n",
        "  Em que:\n",
        "  \n",
        "  * C = Número de casos confirmados por 100 mil dehab \n",
        "  * O1 = Número de óbitos por 100 mil de hab\n",
        "  * O2 = Número de óbitos por 1 milhão de hab\n",
        "\n",
        "Apesar da utilização de uma menor quantidade de parâmetros, parte do resultado alcançado corrobora com [New Zealand, Vietnam, Taiwan Top List of Countries With the Most Effective COVID-19 Responses\n",
        "](https://www.globalcitizen.org/en/content/new-zealand-vietnam-top-list-COVID-19/).\n",
        "\n",
        "\n",
        "Nesse sentido, partindo da abstração de que os dados nutricionais estão intimamentes relacionados com os números do impacto da doença, foi conjecturado que, quanto menor o Score, melhor é o consumo de alimentos no país em questão.\n",
        "\n",
        "Alguns países foram removidos do rank. Um do motivos foi a questão relacionada ao percentual de desnutrição no país. Uma vez que *segundo especialista, a falta de nutrientes no organismo, seja antes da infecção ou durante a internação, pode comprometer o sistema imunológico do paciente*.\n",
        "\n",
        "Fonte: [COVID-19: Desnutrição tem impacto no tempo de internação de pacientes](https://www.em.com.br/app/noticia/bem-viver/2021/03/25/interna_bem_viver,1250499/covid-19-desnutricao-tem-impacto-no-tempo-de-internacao-de-pacientes.shtml)\n"
      ]
    },
    {
      "cell_type": "markdown",
      "metadata": {
        "id": "SOutomY00adB"
      },
      "source": [
        "##### Valores de KCAL (função calcula_kcals_min_max)"
      ]
    },
    {
      "cell_type": "markdown",
      "metadata": {
        "id": "srS3WqHA0-iw"
      },
      "source": [
        "Após a seleção dos países com os melhores dados nutricionais que combatem os efeitos da COVID-19, é realizada um conversão dos dados. Originalmente apresentado por porcentagem, é ultilizado um valor base de 2500KCAL para a conversão dos valores. \n",
        "\n",
        "Em seguida, para cada grupo alimentício, é escolhido um valor mínimo e uma valor máximo de kcal entre os países do rank.\n",
        "\n",
        "Por fim, esses valores são modificados de acordo com a sua contribuição para a ação do sistema imunológico. A modificação foi realizada de acordo com as seguinte recomendações:\n",
        "\n",
        "\n",
        "* Duplicar ou triplicar o tamanho das porções de gorduras e óleos adicionados (manteiga, margarina, queijo cremoso, creme de leite e abacate);\n",
        "* Beber suco de frutas, leite ou outras bebidas que contenham calorias;\n",
        "* Tente comer 75-100 gramas de proteína por dia, o que equivale a 10-14 onças de uma fonte de proteína. Boas fontes de proteína são: manteiga de amendoim ou nozes, leite, ovos, iogurte, queijo, carne / peixe / aves, shakes de proteína;\n",
        "* Adicione mais alimentos como lentilhas, legumes, leite e derivados, soja, nozes, sementes, carne, frango, peixe e ovos. Tomar 75-100 gramas de proteína.\n",
        "* Tente beber pelo menos 2-3 litros de água todos os dias;\n",
        "* Incluir cereais integrais como milho, aveia, arroz e vegetais ricos em amido, como batata, a batata-doce pode ajudar a aumentar a ingestão de calorias e dar mais energia.\n",
        "\n",
        "Fontes: \n",
        "\n",
        "\n",
        "* [Nutrition advice for adults during the COVID-19 outbreak](http://www.emro.who.int/nutrition/news/nutrition-advice-for-adults-during-the-covid-19-outbreak.html)\n",
        "* [COVID-19 recovery diet: What to eat when recovering from coronavirus](https://timesofindia.indiatimes.com/life-style/health-fitness/diet/covid-19-recovery-diet-what-to-eat-when-recovering-from-coronavirus/articleshow/82658297.cms)\n",
        "* [Nutrition and Hydration: Quick Facts for COVID-19 Patients](https://coronavirus.providence.org/blog/uf/611471301#:~:text=Meeting%20the%20nutritional%20needs%20of%20a%20person%20with%20COVID%2D19&text=Calories%3A%202000%20%2D%202500%20calories%20per,75%20%2D%20100%20grams%20per%20day)"
      ]
    },
    {
      "cell_type": "markdown",
      "metadata": {
        "id": "Bh01B69_0sZx"
      },
      "source": [
        "#### Modelo utilizado"
      ]
    },
    {
      "cell_type": "markdown",
      "metadata": {
        "id": "mbKdSo4i0uus"
      },
      "source": [
        "Foi utilizado um algoritmo genético para a criação da solução. Um algoritmo genético é uma técnica de busca utilizada na ciência da computação para achar soluções aproximadas em problemas de otimização e busca. Nesta solução, o problema é de minimização. \n",
        "\n",
        "\n",
        "**Instanciação**\n",
        "\n",
        "- **Cromossomo**: é uma cadeia de genes que representam um indivíduo. \n",
        "  *  Cada cromossomo da solução é composta por uma cadeia de valores que possui um tamanho igual a quantidade de grupos alimenticios.\n",
        "- **Genes**: representação de algum parâmetro de acordo com um alfabeto que compõe os cromossomos.\n",
        " *  Cada gene pode assumir valores entre min_kcal e max_kcal, de acordo com cada grupo alimenticio.\n",
        "\n",
        "- **Indivíduos**: corresponde a um cromossomo, usado para representar as soluções;\n",
        "\n",
        "- **População**: conjunto de indivíduos que irão competir pela sobrevivência e reprodução;\n",
        "\n",
        "- **Geração**: população de um certo período;\n",
        "\n",
        "- **Número de Indivíduos, População e Geração**\n",
        " - O número de cada um desses itens depende do número de kcal (n_kcal) de entrada do usuário.\n",
        "\n",
        "   * 1) Se n_kcal for maior ou igual a 2000 e menor ou igual 3599:\n",
        "     * probabilidade de crossover = 100%\n",
        "     * probabilidade de mutação = 10%\n",
        "     * número de geracoes = 30\n",
        "     * tamanho da populacao = 70\n",
        "\n",
        "    * 1) Se n_kcal for maior ou igual a 3600 e menor ou igual  4000\n",
        "     * tamanho da populacao = 300\n",
        "     * probabilidade de crossover = 100%\n",
        "     * probabilidade de mutação = 10%\n",
        "     * número de geracoes = 120\n",
        "\n",
        "\n",
        "- **Função de Aptidão**: mede habilidade do indivíduo para sobreviver e se reproduzir. Sua fórmula é\n",
        "\n",
        "    * NOTA =  ((∑ kcal do individuo) - 10000) / 10000\n",
        "</br>\n",
        "</br>\n",
        "</br>\n",
        "\n",
        "**Essa instanciação e a função de aptidão foram encontradas após a realização de mais de 1200 testes.**\n",
        "\n"
      ]
    },
    {
      "cell_type": "markdown",
      "metadata": {
        "id": "UX618MS7CVUl"
      },
      "source": [
        "# Instruções de uso\n",
        "\n"
      ]
    },
    {
      "cell_type": "markdown",
      "metadata": {
        "id": "xu-Ue28U6NM2"
      },
      "source": [
        "\n",
        "Para que seja possível utilizar o modelo, antes de tudo deve-se criar uma conta do Google ($accounts.google.com$). Em seguida, se necessário, salve o arquivo $.ipynb$ no Google Drive. Após isso, abra o arquivo com Google Colaboratory.\n",
        "\n",
        "\n",
        "Execute sequenciamente as células das seções\n",
        "1)\n",
        "\n",
        "1. Preparação dos dado\n",
        "2. Implementação da solução\n",
        "3. APP - Execução da solução\n",
        "\n",
        "\n",
        "Em \"APP - Execução da solução\", informe o número mínimo de kcal que deseja que a dieta possua. "
      ]
    },
    {
      "cell_type": "markdown",
      "metadata": {
        "id": "BU4zlCJx1Fq8"
      },
      "source": [
        "#Implementação"
      ]
    },
    {
      "cell_type": "markdown",
      "metadata": {
        "id": "42U65bxYFOMU"
      },
      "source": [
        "##Bibliotecas necessárias"
      ]
    },
    {
      "cell_type": "code",
      "metadata": {
        "colab": {
          "base_uri": "https://localhost:8080/"
        },
        "id": "l3W3VmnIFL40",
        "outputId": "c037750b-0d2a-4af4-d148-2167cfa8e66b"
      },
      "source": [
        "import pandas as pd\n",
        "import numpy as np\n",
        "!pip install deap\n",
        "from deap import algorithms\n",
        "from deap import creator\n",
        "from deap import base\n",
        "from deap import tools\n",
        "import matplotlib.pyplot as plt\n",
        "import random\n",
        "from google.colab import files\n",
        "import warnings\n",
        "warnings.filterwarnings(\"ignore\")"
      ],
      "execution_count": 118,
      "outputs": [
        {
          "output_type": "stream",
          "text": [
            "Requirement already satisfied: deap in /usr/local/lib/python3.7/dist-packages (1.3.1)\n",
            "Requirement already satisfied: numpy in /usr/local/lib/python3.7/dist-packages (from deap) (1.19.5)\n"
          ],
          "name": "stdout"
        }
      ]
    },
    {
      "cell_type": "markdown",
      "metadata": {
        "id": "SVKpmK3y23Au"
      },
      "source": [
        "## Upload de arquivo\n",
        "Realize o upload da base de dados para o sistema de arquivos local. \n",
        "O caminho é automaticamente configurado para o arquivo enviado.\n",
        "\n",
        "O arquivo deve possuir o nome 'Food_Supply_kcal_Data.csv'."
      ]
    },
    {
      "cell_type": "code",
      "metadata": {
        "id": "HeJ4cBHNJBoX",
        "colab": {
          "resources": {
            "http://localhost:8080/nbextensions/google.colab/files.js": {
              "data": "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",
              "ok": true,
              "headers": [
                [
                  "content-type",
                  "application/javascript"
                ]
              ],
              "status": 200,
              "status_text": ""
            }
          },
          "base_uri": "https://localhost:8080/",
          "height": 72
        },
        "outputId": "bb4c0abc-4dfb-459f-b69c-1866d0a698be"
      },
      "source": [
        "#Carrega os dados para a plataforma\n",
        "\n",
        "flag = 0\n",
        "\n",
        "while True:\n",
        "  uploaded = files.upload()\n",
        "  \n",
        "  for arquivo in uploaded:\n",
        "    if arquivo == 'Food_Supply_kcal_Data.csv':\n",
        "      df = pd.read_csv('Food_Supply_kcal_Data.csv')\n",
        "      flag = 1\n",
        "      break\n",
        "  \n",
        "  if flag == 0:\n",
        "    print(\"\\n\\n#############\\n\\nFaça o upload do arquivo 'Food_Supply_kcal_Data.csv'!\\n\\n#############\\\\n\\n\")\n",
        "\n",
        "  if flag == 1:\n",
        "    break"
      ],
      "execution_count": 119,
      "outputs": [
        {
          "output_type": "display_data",
          "data": {
            "text/html": [
              "\n",
              "     <input type=\"file\" id=\"files-e3cf9541-dc5e-4b9d-aba1-f33a35e08874\" name=\"files[]\" multiple disabled\n",
              "        style=\"border:none\" />\n",
              "     <output id=\"result-e3cf9541-dc5e-4b9d-aba1-f33a35e08874\">\n",
              "      Upload widget is only available when the cell has been executed in the\n",
              "      current browser session. Please rerun this cell to enable.\n",
              "      </output>\n",
              "      <script src=\"/nbextensions/google.colab/files.js\"></script> "
            ],
            "text/plain": [
              "<IPython.core.display.HTML object>"
            ]
          },
          "metadata": {
            "tags": []
          }
        },
        {
          "output_type": "stream",
          "text": [
            "Saving Food_Supply_kcal_Data.csv to Food_Supply_kcal_Data (2).csv\n"
          ],
          "name": "stdout"
        }
      ]
    },
    {
      "cell_type": "markdown",
      "metadata": {
        "id": "AMpqOpzXJGcF"
      },
      "source": [
        "##Preparação dos dados"
      ]
    },
    {
      "cell_type": "markdown",
      "metadata": {
        "id": "xALwRer_J8L5"
      },
      "source": [
        "###Limpeza dados"
      ]
    },
    {
      "cell_type": "code",
      "metadata": {
        "id": "FnUUDJf4GSr0"
      },
      "source": [
        "def limpeza_dados(df):\n",
        "  # select_columns = df[['Country', 'Confirmed',\t'Deaths',\t'Recovered',\t'Active',\t'Population']]\n",
        "  # df = select_columns.copy()\n",
        "  df.drop_duplicates(inplace=True) #remove linhas duplciados\n",
        "  df.dropna(inplace=True) #remove dados linhas com dados faltantes\n",
        "  df.replace(0, 5) \n",
        "  df = df.replace('<2.5', '2.5') #remove \"<\"\n",
        "\n",
        "  return df"
      ],
      "execution_count": 120,
      "outputs": []
    },
    {
      "cell_type": "markdown",
      "metadata": {
        "id": "_0Oe6W8lJehw"
      },
      "source": [
        "###Rank dos países"
      ]
    },
    {
      "cell_type": "code",
      "metadata": {
        "id": "zN-RlV83Jdec"
      },
      "source": [
        "def define_ranking(df):\n",
        "\n",
        "  #tranforma percentuais de casos confirmados, óbitos e recuperados em decimal\n",
        "  df['Num Confirmed'] = df['Confirmed']*df['Population']/100\n",
        "  df['Num Deaths'] = df['Deaths']*df['Population']/100\n",
        "  df['Num Recovered'] = df['Recovered']*df['Population']/100\n",
        "\n",
        "  #remoção de algumas linhas que nao satifazem algumas condições\n",
        "  df = df.drop(df[df['Num Confirmed'] <= 900].index)\n",
        "  df = df.drop(df[df.Active == 0].index)\n",
        "  df = df.drop(df[df.Recovered == 0].index)\n",
        "  df = df.drop(df[df['Num Deaths'] == 0].index)\n",
        "  df = df.drop(df[df['Num Confirmed'] >= 100000].index)\n",
        "  df['Undernourished'] = df['Undernourished'].astype(float)\n",
        "  df['Obesity'] = df['Obesity'].astype(float)\n",
        "  df = df.drop(df[df['Undernourished'] >= 9.5].index)\n",
        "  #df = df.drop(df[df['Num Confirmed'] >= 500].index)\n",
        "\n",
        "\n",
        "  #calculo da taxa de incidência do numero de óbitos, confirmados e recuperados por cem mil e 1 milhão de habitantes\n",
        "  df['Deaths/CemMil'] = df['Num Deaths']/df['Population']*100000\n",
        "  df['Deaths/UmMilhao'] = df['Num Deaths']/df['Population']*1000000\n",
        "  df['Confirmed/CemMil'] = df['Num Confirmed']/df['Population']*100000\n",
        "  df['Recovered/CemMil'] = df['Num Recovered']/df['Population']*100000\n",
        "  \n",
        "  #calculo da taxa de recuperacao\n",
        "  df['Taxa recuperacao'] = 100*df['Num Recovered']/df['Num Confirmed']  \n",
        "\n",
        "  #calculo do Score de cada país\n",
        "  df['Score'] = (df['Confirmed/CemMil']+df['Deaths/CemMil']+df['Deaths/UmMilhao']*1.5)\n",
        "\n",
        "  #ordenacao do dataframe\n",
        "  df.sort_values(by=['Score'] ,ascending=True, inplace=True)\n",
        "  df.reset_index(drop=True,inplace=True)\n",
        "\n",
        "  df = df.iloc[0:5, 0:24].copy()  #recuperacao das 5 primeiras linhas\n",
        "  df = df.T #transposição do dataframe\n",
        "  df.columns = df.iloc[0]\n",
        "  df = df[1:]\n",
        "\n",
        "  return df"
      ],
      "execution_count": 121,
      "outputs": []
    },
    {
      "cell_type": "markdown",
      "metadata": {
        "id": "0BrFIlXHNw2Y"
      },
      "source": [
        "###Cálculo dos valores mínimo e máximo de kcal"
      ]
    },
    {
      "cell_type": "code",
      "metadata": {
        "id": "JrpqqrXvNz_x"
      },
      "source": [
        "def calcula_kcals_min_max(df):\n",
        "  soma_min = 0\n",
        "  soma_max = 0\n",
        "  calorias = []\n",
        "  fator = 2 #auxilia na penalização ou bonificação \n",
        "  kcal_peso = 2500 #auxilia na convesão das porcentagens em kcal\n",
        "\n",
        "  for index, row in df.iterrows():\n",
        "    #mutiplica \"fator\" pelo número de kcals \"min\" e \"max\" de alguns alimentos\n",
        "    if row.name in ['Animal fats','Treenuts','Fish, Seafood','Eggs','Meat','Cereals - Excluding Beer' ,'Starchy Roots']:\n",
        "      calorias.append({'alimento':row.name,'min': fator*(row.values.min()*kcal_peso/100), 'max': fator*(row.values.max()*kcal_peso/100)})\n",
        "\n",
        "    #divide o número de kcals \"min\" e \"max\" por fator de alguns alimentos\n",
        "    elif row.name in ['Alcoholic Beverages', 'Stimulants','Sugar & Sweeteners']:\n",
        "      calorias.append({'alimento':row.name,'min': (row.values.min()*kcal_peso/100)/fator, 'max': (row.values.max()*kcal_peso/100)/fator})\n",
        "\n",
        "    #mantem os números originais dos alimentos restantes\n",
        "    else:\n",
        "      calorias.append({'alimento':row.name,'min':row.values.min()*kcal_peso/100, 'max': row.values.max()*kcal_peso/100})\n",
        "\n",
        "  calorias_df = pd.DataFrame(calorias)\n",
        "  #tratamento de dados zerados\n",
        "  calorias_df['max'] = calorias_df['max'].replace(0, 1.1)\n",
        "  calorias_df['min'] = calorias_df['min'].replace(0, 1)\n",
        "\n",
        "  calorias_df.sum()\n",
        "\n",
        "  return calorias_df\n"
      ],
      "execution_count": 122,
      "outputs": []
    },
    {
      "cell_type": "markdown",
      "metadata": {
        "id": "4k5W_RZQPcQd"
      },
      "source": [
        "##Implementação da solução"
      ]
    },
    {
      "cell_type": "code",
      "metadata": {
        "id": "NuAQCeSoPiFQ"
      },
      "source": [
        "def solucao(n_kcal):\n",
        "\n",
        "  if n_kcal >= 2000 and n_kcal <= 3599:\n",
        "    probabilidade_crossover = 1\n",
        "    probabilidade_mutacao = 0.1\n",
        "    numero_geracoes = 30\n",
        "    tam_populacao = 70\n",
        "\n",
        "  if n_kcal >= 3600 and n_kcal <= 4000:\n",
        "    tam_populacao = 300\n",
        "    probabilidade_crossover = 1\n",
        "    probabilidade_mutacao = 0.2\n",
        "    numero_geracoes = 120\n",
        "\n",
        "  #carregamento e transformacao dos dados \n",
        "  df = pd.read_csv('Food_Supply_kcal_Data.csv')\n",
        "  df = limpeza_dados(df)\n",
        "  df = define_ranking(df)\n",
        "  calorias_df = calcula_kcals_min_max(df)\n",
        "    \n",
        "  #classe para representar o alimentos\n",
        "  class Alimento():\n",
        "    def __init__(self, nome, min, max):\n",
        "      self.nome = nome\n",
        "      self.min = min\n",
        "      self.max = max\n",
        "\n",
        "  #instacia cada alimento\n",
        "  lista_alimentos = []\n",
        "  for row in calorias_df.iterrows():\n",
        "    lista_alimentos.append(Alimento(row[1][0], row[1][1], row[1][2]))\n",
        "\n",
        "  #criacao de listas auxiliares\n",
        "  min_valores = []\n",
        "  max_valores = []\n",
        "  nomes = []\n",
        "  for alimento in lista_alimentos:\n",
        "      nomes.append(alimento.nome)\n",
        "      min_valores.append(alimento.min)\n",
        "      max_valores.append(alimento.max)\n",
        "\n",
        "  # criacao da toolboox, que uma função para fazer a inicialização dos recursos da bilbioteca DEAP\n",
        "  toolbox = base.Toolbox()\n",
        "  # instanciação da funcao de avaliação, cujo objetivo é a minimização\n",
        "  # o peso -1 indica que quanto mais proxima desse valor for a nota do individuo, melhor ele será o individuo\n",
        "  creator.create('FitnessMin', base.Fitness, weights=(-1,))\n",
        "  # registra como um individuo será criado\n",
        "  # \"list\" indica que cada individuo é composto por uma lista de valores \n",
        "  # ele possui a funcao FitnessMin\n",
        "  creator.create('Individual', list, fitness=creator.FitnessMin)\n",
        "\n",
        "  # o trecho a baixo indica como o atributo \"list\" do individuo será preenchido\n",
        "  ### em cada posição da lista (tamanho = quantidade de grupos alimenticios), um valor (float) entre a quantidade min de kcal e a quantidade max de kcal é atribuido \n",
        "  # registra funcoes geradoras com nomes de attr_flt1, attr_flt2, ... attr_fltn, em que n representa a quantidade de grupos alimenticios\n",
        "  count = 1\n",
        "  for value in zip(min_valores, max_valores):\n",
        "    name = 'attr_flt{}'.format(str(count))\n",
        "    toolbox.register(name, random.uniform, value[0], value[1])  \n",
        "    count+=1\n",
        "\n",
        "  # initCycle = permite executar as funcoes geradoras n vezes\n",
        "  # receve um contêiner de funcoes, que nesse caso é uma tupla \n",
        "  # n indica que cada funcao do contêiner será executada n vezes\n",
        "  toolbox.register(\"individual\", tools.initCycle, creator.Individual,\n",
        "              (toolbox.attr_flt1, toolbox.attr_flt2, toolbox.attr_flt3, toolbox.attr_flt4, toolbox.attr_flt5,\n",
        "                toolbox.attr_flt6, toolbox.attr_flt7, toolbox.attr_flt8, toolbox.attr_flt9, toolbox.attr_flt10,\n",
        "                toolbox.attr_flt11, toolbox.attr_flt12, toolbox.attr_flt13, toolbox.attr_flt14, toolbox.attr_flt15\n",
        "                , toolbox.attr_flt16, toolbox.attr_flt17, toolbox.attr_flt18, toolbox.attr_flt19, toolbox.attr_flt20\n",
        "                , toolbox.attr_flt21, toolbox.attr_flt22, toolbox.attr_flt23),\n",
        "              n=1) \n",
        "\n",
        "  #indica como a população será gerada\n",
        "  # initRepeat indica que será executado k vezes, em que k representa o numero da populaçao\n",
        "  # \"list\" indica que a população é composta por uma lista de individuos\n",
        "  toolbox.register('population', tools.initRepeat, list, toolbox.individual)\n",
        "\n",
        "  #funcao de avaliacao  \n",
        "  def avaliacao(individual):\n",
        "    kcal_soma = 0\n",
        "\n",
        "    #soma a quantidade total de kcal de cada individuo\n",
        "    for cal in individual:\n",
        "      kcal_soma += cal\n",
        "\n",
        "    #calcula a nota do individuo\n",
        "    nota = (kcal_soma-10000)/10000\n",
        "    \n",
        "    #se a kcal_soma for menor do que a quantidade kcal estabelecida pelo usuario, o individuo é penalizado (sua nota é alterada)\n",
        "    if kcal_soma < n_kcal:\n",
        "      nota = ((n_kcal-10000)/10000)+0.15\n",
        "    \n",
        "    return nota,\n",
        "\n",
        "  # registra a funcao de avaliacao\n",
        "  toolbox.register(\"evaluate\", avaliacao) \n",
        "\n",
        "  # registra o tipo de crossover\n",
        "  # 'cxTwoPoint' executa um cruzamento de dois pontos nos indivíduos da sequência de entrada\n",
        "  toolbox.register(\"mate\", tools.cxTwoPoint) \n",
        "\n",
        "  # registra o tipo e a forma da mutação\n",
        "  # mutPolynomialBounded = Mutação polinomial \n",
        "  # eta = indica o grau de aglomeração do crossover/ um eta alto produzirá filhos que se parecem com seus pais, enquanto um eta pequeno produzirá soluções muito mais diferentes\n",
        "  # indpb indica a probabilidade do indivíduo sofrer mutação\n",
        "  # low = limite inferior para cada gene/ recebe min_valores (valores min de kcal)\n",
        "  # up = limite superior para cada gene/ recebe max_valores (valores max de kcal)\n",
        "  toolbox.register(\"mutate\", tools.mutPolynomialBounded, low=min_valores, up=max_valores,eta=0.5, indpb=0.1)\n",
        "  #registra como os individuos serão selecionados para a realização do crossover\n",
        "  # tipo = tournament selection\n",
        "  # tournsize indica a quantidade de individuos que participa em cada torneio\n",
        "  toolbox.register(\"select\", tools.selTournament,tournsize=3)\n",
        "\n",
        "  #gera a populacao\n",
        "  populacao = toolbox.population(n= tam_populacao)\n",
        "\n",
        "  #registro de alguns parametros para acompanhamento das estatisticas \n",
        "  estatisticas = tools.Statistics(key=lambda individuo: individuo.fitness.values)\n",
        "  estatisticas.register(\"min\", np.min)\n",
        "  estatisticas.register(\"max\", np.max)\n",
        "  \n",
        "  print('\\n\\n\\n###############################################################\\n\\nACOMPANHAMENTO DA BUSCA PELA MELHOR DIETA:\\n\\n')\n",
        "  #Execução do eaSimple\n",
        "  #eaSimple reproduz o algoritmo evolutivo mais simples\n",
        "  populacao, info = algorithms.eaSimple(populacao, toolbox,\n",
        "                                      probabilidade_crossover,\n",
        "                                      probabilidade_mutacao,\n",
        "                                      numero_geracoes, estatisticas)\n",
        "  \n",
        "  #recupera o melhor individuo\n",
        "  melhores = tools.selBest(populacao, 1)\n",
        "  print('\\n')\n",
        "  valores_grafico = info.select(\"min\")\n",
        "  plt.plot(valores_grafico)\n",
        "  plt.title(\"Acompanhamento dos valores\")\n",
        "  plt.show()\n",
        "\n",
        "  print('\\n\\n\\n')\n",
        "  # print('#####################################################################\\n')\n",
        "  # print('\\n\\n')\n",
        "\n",
        "  aliementos=[]\n",
        "  #imprime a dieta \n",
        "  for individuo in melhores:    \n",
        "    soma = 0\n",
        "    resultado_df = []\n",
        "\n",
        "    for i in zip(individuo, lista_alimentos):\n",
        "      resultado_df.append([i[1].nome, round(i[0],3)])\n",
        "      soma+=i[0]\n",
        "      \n",
        "  dieta = pd.DataFrame(resultado_df)\n",
        "  dieta.columns = ['Grupo Alimentício', 'Quantidade KCAL']\n",
        "  print(\"\\n\\nTOTAL DE KCAL DA DIETA: \\n%s\" % round(soma,3))\n",
        "  print('\\n\\n')\n",
        "  \n",
        "\n",
        "  return dieta"
      ],
      "execution_count": 123,
      "outputs": []
    },
    {
      "cell_type": "code",
      "metadata": {
        "id": "bfMPjRZck8Qj"
      },
      "source": [
        "def main():\n",
        "  print(\"Digite o número mínimo de KCAL que a dieta diária do paciente paciente X deve conter\\n\\n\")\n",
        "  print('Digite um número entre 2000 kcal e 4000 kcal')\n",
        "\n",
        "  while True:\n",
        "    flag = 0\n",
        "    n_kcal = 0\n",
        "\n",
        "    #tratamegnto de erro caso o usuario digite uma string\n",
        "    try: \n",
        "      n_kcal = float(input())\n",
        "    except  ValueError:\n",
        "      print('Digite um número entre 2000kcal e 4000kcal')\n",
        "\n",
        "    if n_kcal >= 2000 and n_kcal <=4000:\n",
        "      dieta = solucao(n_kcal)\n",
        "      print('\\n\\n\\nDIETA DIÁRIA RECOMENDADA:')\n",
        "      print(dieta)\n",
        "      flag = 1\n",
        "    \n",
        "    if n_kcal < 2000 and n_kcal > 4000:\n",
        "      print('Digite um número entre 2000kcal e 4000kcal')\n",
        "    \n",
        "    if flag == 1:\n",
        "      break"
      ],
      "execution_count": 124,
      "outputs": []
    },
    {
      "cell_type": "markdown",
      "metadata": {
        "id": "ryUn4ekHr9ob"
      },
      "source": [
        "## APP - Execução da solução"
      ]
    },
    {
      "cell_type": "code",
      "metadata": {
        "colab": {
          "base_uri": "https://localhost:8080/",
          "height": 1000
        },
        "id": "8qs_qrQ1quiJ",
        "outputId": "94d8f8d3-3ffa-4979-d07e-69b2c3e250ac"
      },
      "source": [
        "#Execução da solução\n",
        "main()"
      ],
      "execution_count": 125,
      "outputs": [
        {
          "output_type": "stream",
          "text": [
            "Digite o número mínimo de KCAL que a dieta diária do paciente paciente X deve conter\n",
            "\n",
            "\n",
            "Digite um número entre 2000 kcal e 4000 kcal\n",
            "2000\n",
            "\n",
            "\n",
            "\n",
            "###############################################################\n",
            "\n",
            "ACOMPANHAMENTO DA BUSCA PELA MELHOR DIETA:\n",
            "\n",
            "\n",
            "gen\tnevals\tmin     \tmax      \n",
            "0  \t70    \t-0.76533\t-0.605822\n",
            "1  \t70    \t-0.771193\t-0.634207\n",
            "2  \t70    \t-0.773621\t-0.679956\n",
            "3  \t70    \t-0.7753  \t-0.715757\n",
            "4  \t70    \t-0.777704\t-0.741096\n",
            "5  \t70    \t-0.781853\t-0.757322\n",
            "6  \t70    \t-0.782518\t-0.721751\n",
            "7  \t70    \t-0.783047\t-0.762255\n",
            "8  \t70    \t-0.785969\t-0.770445\n",
            "9  \t70    \t-0.78736 \t-0.761136\n",
            "10 \t70    \t-0.787874\t-0.698592\n",
            "11 \t70    \t-0.789505\t-0.782034\n",
            "12 \t70    \t-0.79238 \t-0.768459\n",
            "13 \t70    \t-0.793761\t-0.775993\n",
            "14 \t70    \t-0.794344\t-0.770168\n",
            "15 \t70    \t-0.795708\t-0.773591\n",
            "16 \t70    \t-0.796706\t-0.790003\n",
            "17 \t70    \t-0.797369\t-0.781453\n",
            "18 \t70    \t-0.798149\t-0.766845\n",
            "19 \t70    \t-0.798194\t-0.795147\n",
            "20 \t70    \t-0.798692\t-0.776584\n",
            "21 \t70    \t-0.799469\t-0.770223\n",
            "22 \t70    \t-0.799677\t-0.65    \n",
            "23 \t70    \t-0.799963\t-0.65    \n",
            "24 \t70    \t-0.799963\t-0.65    \n",
            "25 \t70    \t-0.799992\t-0.65    \n",
            "26 \t70    \t-0.799959\t-0.65    \n",
            "27 \t70    \t-0.79998 \t-0.65    \n",
            "28 \t70    \t-0.79998 \t-0.65    \n",
            "29 \t70    \t-0.79998 \t-0.65    \n",
            "30 \t70    \t-0.799984\t-0.65    \n",
            "\n",
            "\n"
          ],
          "name": "stdout"
        },
        {
          "output_type": "display_data",
          "data": {
            "image/png": "[encoded data removed]",
            "text/plain": [
              "<Figure size 432x288 with 1 Axes>"
            ]
          },
          "metadata": {
            "tags": [],
            "needs_background": "light"
          }
        },
        {
          "output_type": "stream",
          "text": [
            "\n",
            "\n",
            "\n",
            "\n",
            "\n",
            "\n",
            "TOTAL DE KCAL DA DIETA: \n",
            "2000.155\n",
            "\n",
            "\n",
            "\n",
            "\n",
            "\n",
            "\n",
            "DIETA DIÁRIA RECOMENDADA:\n",
            "           Grupo Alimentício  Quantidade KCAL\n",
            "0        Alcoholic Beverages           19.863\n",
            "1            Animal Products          145.605\n",
            "2                Animal fats           14.725\n",
            "3    Aquatic Products, Other            1.054\n",
            "4   Cereals - Excluding Beer          586.780\n",
            "5                       Eggs            3.798\n",
            "6              Fish, Seafood           26.771\n",
            "7    Fruits - Excluding Wine           23.802\n",
            "8                       Meat           93.074\n",
            "9    Milk - Excluding Butter           21.557\n",
            "10             Miscellaneous            2.517\n",
            "11                    Offals            6.430\n",
            "12                  Oilcrops           16.891\n",
            "13                    Pulses            5.488\n",
            "14                    Spices            4.664\n",
            "15             Starchy Roots           43.248\n",
            "16                Stimulants            0.664\n",
            "17               Sugar Crops            3.287\n",
            "18        Sugar & Sweeteners           29.184\n",
            "19                  Treenuts           10.849\n",
            "20          Vegetal Products          878.144\n",
            "21            Vegetable Oils           37.252\n",
            "22                Vegetables           24.506\n"
          ],
          "name": "stdout"
        }
      ]
    },
    {
      "cell_type": "markdown",
      "metadata": {
        "id": "QGZiYduH5QDi"
      },
      "source": [
        "#Avaliação"
      ]
    },
    {
      "cell_type": "markdown",
      "metadata": {
        "id": "HygdpkLS5SIA"
      },
      "source": [
        "O sistema cumpre com o objetivo estabelecido: fornecer a melhor dieta com base no número de kcal informada pelo usuário. Entretanto, é necessário um maior número de testes para uma melhor a averiguação e otimização do modelo.\n",
        "\n",
        "Os gráficos gerados depende de cada número de kcal informado. No geração, ele mostra a minimização do resultado da função de aptidão. "
      ]
    }
  ]
}