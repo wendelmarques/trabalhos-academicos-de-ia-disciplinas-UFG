{
  "nbformat": 4,
  "nbformat_minor": 0,
  "metadata": {
    "colab": {
      "name": "Cópia de 2020.2_AP_03_LógicaNebulosa_GabrielDantas_ThiagoMoura_WendelMarques.ipynb",
      "provenance": [],
      "collapsed_sections": [
        "o_bZhd8FMiSa",
        "e0IEfqwfSX5N",
        "7iiFNQiZi7qF",
        "78jz3gvIn6Tp",
        "Z30w6iF1n-Jy",
        "JvDJ7aaTUBu5",
        "ueNal_8vVLWI",
        "945AAsvBhzkt",
        "BXbFUlqDJxZK"
      ]
    },
    "kernelspec": {
      "name": "python3",
      "display_name": "Python 3"
    }
  },
  "cells": [
    {
      "cell_type": "markdown",
      "metadata": {
        "id": "mLKPZajBKe3L"
      },
      "source": [
        "**Instituto de Informática - UFG**\n",
        "\n",
        "Disciplina: Inteligência Artificial\n",
        "\n",
        "Prof. Cedric Luiz de Carvalho\n",
        "\n",
        "\n",
        "Grupo (A)\n",
        "\n",
        "---\n",
        "\n",
        "\n",
        "Aluna(o): Gabriel Viana Dantas - Engenheiro de Conhecimento\n",
        "\n",
        "---\n",
        "\n",
        "Aluna(o): Thiago Emanuell Vieira Moura - Gerente\n",
        "\n",
        "---\n",
        "\n",
        "Aluna(o): Wendel Marques de Jesus Souza - Analista de Dados"
      ]
    },
    {
      "cell_type": "markdown",
      "metadata": {
        "id": "o_bZhd8FMiSa"
      },
      "source": [
        "#Especificação do problema : Lógica nebulosa"
      ]
    },
    {
      "cell_type": "markdown",
      "metadata": {
        "id": "YTE0x5IrTiwN"
      },
      "source": [
        "O setor de aluguéis de imóveis movimenta milhões por ano. Com a pandemia do coronavírus, esse setor tem sido forçado a se reinventar, uma vez que o contato direto (presencial) entre os interessados em alugar um imóvel e os corretores tem sido prejudicado. Você e sua equipe foram contratados por uma empresa do setor para projetar e implementar um sistema de recomendação que faça sugestões para os clientes de imóveis que possam ser do seu interesse. \n",
        "\n",
        "Utilizando a base de dados [brazilian_houses_to_rent](https://www.kaggle.com/rubenssjr/brasilian-houses-to-rent), projete e implemente um sistema de recomendação, baseado em lógica nebulosa, que identifique os imóveis mais adequados às necessidades de um determinado cliente.\n",
        "\n",
        "Nesse projeto, devem ser identificadas as variáveis de entrada nebulosas, as quais devem ter, no mínimo, três faixas valores. Também deve ser definida uma variável de saída que indique a probabilidade do cliente se interessar por um dado imóvel.\n",
        "\n",
        "\n"
      ]
    },
    {
      "cell_type": "markdown",
      "metadata": {
        "id": "VtKqcll18SvD"
      },
      "source": [
        "**Recomendações:**\n",
        "\n",
        "O primeiro passo para resolver um problema é entendê-lo muito bem, considerar o contexto e fazer as abstrações necessárias. A seguir, para não \"reinventar a roda\" é preciso identificar como a comunidade resolveu o problema em questão, ou problemas parecidos, cuja solução possa ser mapeada para situação em análise. Desta forma, deve ser feito um estudo, o mais amplo possível sobre esse assunto. O próximo passo é o grupo se reunir e instanciar o modelo em estudo para o caso específico do problema a ser resolvido. Em paralelo, uma análise rigorosa deve ser feita na base de dados a fim de prepará-la para seu uso no modelo. Finalmente, com o modelo bem compreendido e instanciado e os dados devidamente preparados, a implementação do modelo pode ser feita."
      ]
    },
    {
      "cell_type": "markdown",
      "metadata": {
        "id": "Q__nJy9T8XQZ"
      },
      "source": [
        "Observação: O trabalho deve ser feito EM GRUPO, mas a avaliação será feita individualmente. Para isso, o grupo deverá fazer um planejamento/cronograma de trabalho."
      ]
    },
    {
      "cell_type": "markdown",
      "metadata": {
        "id": "wb63RNsd8aKF"
      },
      "source": [
        "**Produtos a serem entregues:**\n",
        "\n",
        "Relatório técnico, no formato especificado (gerente). Deve indicar o grupo, com a designação dos respectivos papeis.\n",
        "Notebook com a AED (analista de dados). A base de dados original não deve ser alterada. Todo o processamento e seleção dos dados a serem utilizados deve ser feita na aplicação.\n",
        "Notebook com a implementação (engenheiro de conhecimento)\n",
        "Video de apresentação do trabalho (gerente) - no grupo com 4 alunos, essa tarefa deve ser feita pelo quarto aluno, e não pelo gerente."
      ]
    },
    {
      "cell_type": "markdown",
      "metadata": {
        "id": "e0IEfqwfSX5N"
      },
      "source": [
        "# Objetivos deste artefato"
      ]
    },
    {
      "cell_type": "markdown",
      "metadata": {
        "id": "SfGRAAi2Sbnd"
      },
      "source": [
        "O objetivo geral é a obtenção de *insights* sobre o conjunto de dados.  Para tanto, serão utilizadas técnicas de visualização de dados e alguns cálculos estátisticos básicos. Essa etapa é chamada de análise exploratória de dados (AED). Por meio dela, é possível também encontrar problemas, padrões e relacionamentos que poderão apoiar a etapa de pré-processamento, que antecede a implementação. "
      ]
    },
    {
      "cell_type": "markdown",
      "metadata": {
        "id": "7iiFNQiZi7qF"
      },
      "source": [
        "# Descrição geral da base de dados"
      ]
    },
    {
      "cell_type": "markdown",
      "metadata": {
        "id": "M3_4Gtn-i-my"
      },
      "source": [
        "### A base de dados"
      ]
    },
    {
      "cell_type": "markdown",
      "metadata": {
        "id": "tLbsrfL1v-CY"
      },
      "source": [
        "A base [brazilian_houses_to_rent](https://www.kaggle.com/rubenssjr/brasilian-houses-to-rent) é composta por dados sobre imóveis para alugar no Brasil. Os dados foram coletados da plataforma [Quinto Andar](https://www.quintoandar.com.br/) via Web Crawler."
      ]
    },
    {
      "cell_type": "markdown",
      "metadata": {
        "id": "7ng6R8GTxRM8"
      },
      "source": [
        "#### Headers\n",
        "\n",
        "* **city**: Cidade onde o imóvel está localizado;\n",
        "* **area**: Área do imóvel (em m²);\n",
        "* **rooms**: quantidade de quartos;\n",
        "* **bathroom**: quantidade de banheiros;\n",
        "* **parking spaces**: Quantidade de vagas de estacionamento;\n",
        "* **floor**: informa o andar do imóvel;\n",
        "* **animal**: informa se aceita animal;\n",
        "* **furniture**: informa se o apartamento já é mobilíado;\n",
        "\n",
        "* **hoa**: Valor do condomínio (em R$);\n",
        "\n",
        "* **rent amount**: valor do aluguel (em R$);\n",
        "\n",
        "* **property tax**: IPTU (em R$);\n",
        "\n",
        "* **fire insurance**: valor do Seguro Incendio (em R$)\n",
        "\n",
        "* **total**: custo total por mês (em R$)\n",
        "\n",
        "</br></br></br>\n",
        "\n",
        "Cobertura temporal: 13/03/2020 a 10/04/2020\n",
        "\n",
        "Nome do arquivo (base de dados): houses_to_rent_v2.csv"
      ]
    },
    {
      "cell_type": "markdown",
      "metadata": {
        "id": "ao9brJj5T136"
      },
      "source": [
        "# Passos preliminares"
      ]
    },
    {
      "cell_type": "markdown",
      "metadata": {
        "id": "78jz3gvIn6Tp"
      },
      "source": [
        "###Bibliotecas utilizadas"
      ]
    },
    {
      "cell_type": "code",
      "metadata": {
        "id": "ebUQXRyyTwDU"
      },
      "source": [
        "#biblitoecas utilizadas na etada AED\n",
        "import pandas as pd\n",
        "import numpy as np\n",
        "import seaborn as sns\n",
        "import matplotlib.pyplot as plt\n",
        "import warnings \n",
        "warnings.filterwarnings('ignore') #evita que warnings sejam mostrados\n",
        "from sklearn.preprocessing import LabelEncoder\n",
        "from scipy import stats"
      ],
      "execution_count": null,
      "outputs": []
    },
    {
      "cell_type": "markdown",
      "metadata": {
        "id": "Z30w6iF1n-Jy"
      },
      "source": [
        "### Leitura dos dados"
      ]
    },
    {
      "cell_type": "code",
      "metadata": {
        "id": "THMFTlwB9vyl",
        "colab": {
          "resources": {
            "http://localhost:8080/nbextensions/google.colab/files.js": {
              "data": "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",
              "ok": true,
              "headers": [
                [
                  "content-type",
                  "application/javascript"
                ]
              ],
              "status": 200,
              "status_text": ""
            }
          },
          "base_uri": "https://localhost:8080/",
          "height": 72
        },
        "outputId": "e7be46df-eb8d-4e6f-d842-708c3f9dcab4"
      },
      "source": [
        "# Carrega a base de dados para o ambiente virtual\n",
        "from google.colab import files\n",
        "uploaded = files.upload()"
      ],
      "execution_count": null,
      "outputs": [
        {
          "output_type": "display_data",
          "data": {
            "text/html": [
              "\n",
              "     <input type=\"file\" id=\"files-f6580b0c-f524-4a59-8ea2-2d86980aac17\" name=\"files[]\" multiple disabled\n",
              "        style=\"border:none\" />\n",
              "     <output id=\"result-f6580b0c-f524-4a59-8ea2-2d86980aac17\">\n",
              "      Upload widget is only available when the cell has been executed in the\n",
              "      current browser session. Please rerun this cell to enable.\n",
              "      </output>\n",
              "      <script src=\"/nbextensions/google.colab/files.js\"></script> "
            ],
            "text/plain": [
              "<IPython.core.display.HTML object>"
            ]
          },
          "metadata": {
            "tags": []
          }
        },
        {
          "output_type": "stream",
          "text": [
            "Saving houses_to_rent_v2.csv to houses_to_rent_v2.csv\n"
          ],
          "name": "stdout"
        }
      ]
    },
    {
      "cell_type": "code",
      "metadata": {
        "id": "8WGBT3NPUBIh"
      },
      "source": [
        "#Leitura dos dados\n",
        "df = pd.read_csv('/content/houses_to_rent_v2.csv')"
      ],
      "execution_count": null,
      "outputs": []
    },
    {
      "cell_type": "code",
      "metadata": {
        "colab": {
          "base_uri": "https://localhost:8080/",
          "height": 80
        },
        "id": "eu2KFmeCJN6O",
        "outputId": "7a68c8b6-0cbc-4160-ccdb-cf8447031b1d"
      },
      "source": [
        "#Exemplo de uma linha do conjunto de dados \n",
        "df.head(1)"
      ],
      "execution_count": null,
      "outputs": [
        {
          "output_type": "execute_result",
          "data": {
            "text/html": [
              "<div>\n",
              "<style scoped>\n",
              "    .dataframe tbody tr th:only-of-type {\n",
              "        vertical-align: middle;\n",
              "    }\n",
              "\n",
              "    .dataframe tbody tr th {\n",
              "        vertical-align: top;\n",
              "    }\n",
              "\n",
              "    .dataframe thead th {\n",
              "        text-align: right;\n",
              "    }\n",
              "</style>\n",
              "<table border=\"1\" class=\"dataframe\">\n",
              "  <thead>\n",
              "    <tr style=\"text-align: right;\">\n",
              "      <th></th>\n",
              "      <th>city</th>\n",
              "      <th>area</th>\n",
              "      <th>rooms</th>\n",
              "      <th>bathroom</th>\n",
              "      <th>parking spaces</th>\n",
              "      <th>floor</th>\n",
              "      <th>animal</th>\n",
              "      <th>furniture</th>\n",
              "      <th>hoa (R$)</th>\n",
              "      <th>rent amount (R$)</th>\n",
              "      <th>property tax (R$)</th>\n",
              "      <th>fire insurance (R$)</th>\n",
              "      <th>total (R$)</th>\n",
              "    </tr>\n",
              "  </thead>\n",
              "  <tbody>\n",
              "    <tr>\n",
              "      <th>0</th>\n",
              "      <td>São Paulo</td>\n",
              "      <td>70</td>\n",
              "      <td>2</td>\n",
              "      <td>1</td>\n",
              "      <td>1</td>\n",
              "      <td>7</td>\n",
              "      <td>acept</td>\n",
              "      <td>furnished</td>\n",
              "      <td>2065</td>\n",
              "      <td>3300</td>\n",
              "      <td>211</td>\n",
              "      <td>42</td>\n",
              "      <td>5618</td>\n",
              "    </tr>\n",
              "  </tbody>\n",
              "</table>\n",
              "</div>"
            ],
            "text/plain": [
              "        city  area  rooms  ...  property tax (R$)  fire insurance (R$) total (R$)\n",
              "0  São Paulo    70      2  ...                211                   42       5618\n",
              "\n",
              "[1 rows x 13 columns]"
            ]
          },
          "metadata": {
            "tags": []
          },
          "execution_count": 4
        }
      ]
    },
    {
      "cell_type": "markdown",
      "metadata": {
        "id": "ixNi1L46TtBT"
      },
      "source": [
        "# Análise exploratória dos dados"
      ]
    },
    {
      "cell_type": "markdown",
      "metadata": {
        "id": "JvDJ7aaTUBu5"
      },
      "source": [
        "### Informações básicas sobre o DataFrame\n",
        "Dimensionalidade e descrição estatística"
      ]
    },
    {
      "cell_type": "code",
      "metadata": {
        "colab": {
          "base_uri": "https://localhost:8080/",
          "height": 204
        },
        "id": "CDeeAfgXU2cc",
        "outputId": "e57ff8aa-93e4-461d-fa56-6b1891769da5"
      },
      "source": [
        "#Verificação de algumas linhas \n",
        "df.head()"
      ],
      "execution_count": null,
      "outputs": [
        {
          "output_type": "execute_result",
          "data": {
            "text/html": [
              "<div>\n",
              "<style scoped>\n",
              "    .dataframe tbody tr th:only-of-type {\n",
              "        vertical-align: middle;\n",
              "    }\n",
              "\n",
              "    .dataframe tbody tr th {\n",
              "        vertical-align: top;\n",
              "    }\n",
              "\n",
              "    .dataframe thead th {\n",
              "        text-align: right;\n",
              "    }\n",
              "</style>\n",
              "<table border=\"1\" class=\"dataframe\">\n",
              "  <thead>\n",
              "    <tr style=\"text-align: right;\">\n",
              "      <th></th>\n",
              "      <th>city</th>\n",
              "      <th>area</th>\n",
              "      <th>rooms</th>\n",
              "      <th>bathroom</th>\n",
              "      <th>parking spaces</th>\n",
              "      <th>floor</th>\n",
              "      <th>animal</th>\n",
              "      <th>furniture</th>\n",
              "      <th>hoa (R$)</th>\n",
              "      <th>rent amount (R$)</th>\n",
              "      <th>property tax (R$)</th>\n",
              "      <th>fire insurance (R$)</th>\n",
              "      <th>total (R$)</th>\n",
              "    </tr>\n",
              "  </thead>\n",
              "  <tbody>\n",
              "    <tr>\n",
              "      <th>0</th>\n",
              "      <td>São Paulo</td>\n",
              "      <td>70</td>\n",
              "      <td>2</td>\n",
              "      <td>1</td>\n",
              "      <td>1</td>\n",
              "      <td>7</td>\n",
              "      <td>acept</td>\n",
              "      <td>furnished</td>\n",
              "      <td>2065</td>\n",
              "      <td>3300</td>\n",
              "      <td>211</td>\n",
              "      <td>42</td>\n",
              "      <td>5618</td>\n",
              "    </tr>\n",
              "    <tr>\n",
              "      <th>1</th>\n",
              "      <td>São Paulo</td>\n",
              "      <td>320</td>\n",
              "      <td>4</td>\n",
              "      <td>4</td>\n",
              "      <td>0</td>\n",
              "      <td>20</td>\n",
              "      <td>acept</td>\n",
              "      <td>not furnished</td>\n",
              "      <td>1200</td>\n",
              "      <td>4960</td>\n",
              "      <td>1750</td>\n",
              "      <td>63</td>\n",
              "      <td>7973</td>\n",
              "    </tr>\n",
              "    <tr>\n",
              "      <th>2</th>\n",
              "      <td>Porto Alegre</td>\n",
              "      <td>80</td>\n",
              "      <td>1</td>\n",
              "      <td>1</td>\n",
              "      <td>1</td>\n",
              "      <td>6</td>\n",
              "      <td>acept</td>\n",
              "      <td>not furnished</td>\n",
              "      <td>1000</td>\n",
              "      <td>2800</td>\n",
              "      <td>0</td>\n",
              "      <td>41</td>\n",
              "      <td>3841</td>\n",
              "    </tr>\n",
              "    <tr>\n",
              "      <th>3</th>\n",
              "      <td>Porto Alegre</td>\n",
              "      <td>51</td>\n",
              "      <td>2</td>\n",
              "      <td>1</td>\n",
              "      <td>0</td>\n",
              "      <td>2</td>\n",
              "      <td>acept</td>\n",
              "      <td>not furnished</td>\n",
              "      <td>270</td>\n",
              "      <td>1112</td>\n",
              "      <td>22</td>\n",
              "      <td>17</td>\n",
              "      <td>1421</td>\n",
              "    </tr>\n",
              "    <tr>\n",
              "      <th>4</th>\n",
              "      <td>São Paulo</td>\n",
              "      <td>25</td>\n",
              "      <td>1</td>\n",
              "      <td>1</td>\n",
              "      <td>0</td>\n",
              "      <td>1</td>\n",
              "      <td>not acept</td>\n",
              "      <td>not furnished</td>\n",
              "      <td>0</td>\n",
              "      <td>800</td>\n",
              "      <td>25</td>\n",
              "      <td>11</td>\n",
              "      <td>836</td>\n",
              "    </tr>\n",
              "  </tbody>\n",
              "</table>\n",
              "</div>"
            ],
            "text/plain": [
              "           city  area  ...  fire insurance (R$)  total (R$)\n",
              "0     São Paulo    70  ...                   42        5618\n",
              "1     São Paulo   320  ...                   63        7973\n",
              "2  Porto Alegre    80  ...                   41        3841\n",
              "3  Porto Alegre    51  ...                   17        1421\n",
              "4     São Paulo    25  ...                   11         836\n",
              "\n",
              "[5 rows x 13 columns]"
            ]
          },
          "metadata": {
            "tags": []
          },
          "execution_count": 5
        }
      ]
    },
    {
      "cell_type": "code",
      "metadata": {
        "colab": {
          "base_uri": "https://localhost:8080/"
        },
        "id": "HY3AHP8SUTzR",
        "outputId": "58808f6b-acd4-4269-b725-90e40a185f23"
      },
      "source": [
        "#Verificação da dimensionalidade do DataFrame\n",
        "df.shape"
      ],
      "execution_count": null,
      "outputs": [
        {
          "output_type": "execute_result",
          "data": {
            "text/plain": [
              "(10692, 13)"
            ]
          },
          "metadata": {
            "tags": []
          },
          "execution_count": 6
        }
      ]
    },
    {
      "cell_type": "code",
      "metadata": {
        "colab": {
          "base_uri": "https://localhost:8080/"
        },
        "id": "3vRBEbwPUdqw",
        "outputId": "1a3d0071-6a3e-4e51-f509-10ede1380f4f"
      },
      "source": [
        "#Informações dos atributos\n",
        "df.info()"
      ],
      "execution_count": null,
      "outputs": [
        {
          "output_type": "stream",
          "text": [
            "<class 'pandas.core.frame.DataFrame'>\n",
            "RangeIndex: 10692 entries, 0 to 10691\n",
            "Data columns (total 13 columns):\n",
            " #   Column               Non-Null Count  Dtype \n",
            "---  ------               --------------  ----- \n",
            " 0   city                 10692 non-null  object\n",
            " 1   area                 10692 non-null  int64 \n",
            " 2   rooms                10692 non-null  int64 \n",
            " 3   bathroom             10692 non-null  int64 \n",
            " 4   parking spaces       10692 non-null  int64 \n",
            " 5   floor                10692 non-null  object\n",
            " 6   animal               10692 non-null  object\n",
            " 7   furniture            10692 non-null  object\n",
            " 8   hoa (R$)             10692 non-null  int64 \n",
            " 9   rent amount (R$)     10692 non-null  int64 \n",
            " 10  property tax (R$)    10692 non-null  int64 \n",
            " 11  fire insurance (R$)  10692 non-null  int64 \n",
            " 12  total (R$)           10692 non-null  int64 \n",
            "dtypes: int64(9), object(4)\n",
            "memory usage: 1.1+ MB\n"
          ],
          "name": "stdout"
        }
      ]
    },
    {
      "cell_type": "code",
      "metadata": {
        "colab": {
          "base_uri": "https://localhost:8080/",
          "height": 297
        },
        "id": "BZf6o92ohsN-",
        "outputId": "50f266ec-9c23-4c56-9836-df9370c75379"
      },
      "source": [
        "#Descrição estatística de cada recurso\n",
        "df.describe()"
      ],
      "execution_count": null,
      "outputs": [
        {
          "output_type": "execute_result",
          "data": {
            "text/html": [
              "<div>\n",
              "<style scoped>\n",
              "    .dataframe tbody tr th:only-of-type {\n",
              "        vertical-align: middle;\n",
              "    }\n",
              "\n",
              "    .dataframe tbody tr th {\n",
              "        vertical-align: top;\n",
              "    }\n",
              "\n",
              "    .dataframe thead th {\n",
              "        text-align: right;\n",
              "    }\n",
              "</style>\n",
              "<table border=\"1\" class=\"dataframe\">\n",
              "  <thead>\n",
              "    <tr style=\"text-align: right;\">\n",
              "      <th></th>\n",
              "      <th>area</th>\n",
              "      <th>rooms</th>\n",
              "      <th>bathroom</th>\n",
              "      <th>parking spaces</th>\n",
              "      <th>hoa (R$)</th>\n",
              "      <th>rent amount (R$)</th>\n",
              "      <th>property tax (R$)</th>\n",
              "      <th>fire insurance (R$)</th>\n",
              "      <th>total (R$)</th>\n",
              "    </tr>\n",
              "  </thead>\n",
              "  <tbody>\n",
              "    <tr>\n",
              "      <th>count</th>\n",
              "      <td>10692.000000</td>\n",
              "      <td>10692.000000</td>\n",
              "      <td>10692.000000</td>\n",
              "      <td>10692.000000</td>\n",
              "      <td>1.069200e+04</td>\n",
              "      <td>10692.000000</td>\n",
              "      <td>10692.000000</td>\n",
              "      <td>10692.000000</td>\n",
              "      <td>1.069200e+04</td>\n",
              "    </tr>\n",
              "    <tr>\n",
              "      <th>mean</th>\n",
              "      <td>149.217920</td>\n",
              "      <td>2.506079</td>\n",
              "      <td>2.236813</td>\n",
              "      <td>1.609147</td>\n",
              "      <td>1.174022e+03</td>\n",
              "      <td>3896.247194</td>\n",
              "      <td>366.704358</td>\n",
              "      <td>53.300879</td>\n",
              "      <td>5.490487e+03</td>\n",
              "    </tr>\n",
              "    <tr>\n",
              "      <th>std</th>\n",
              "      <td>537.016942</td>\n",
              "      <td>1.171266</td>\n",
              "      <td>1.407198</td>\n",
              "      <td>1.589521</td>\n",
              "      <td>1.559231e+04</td>\n",
              "      <td>3408.545518</td>\n",
              "      <td>3107.832321</td>\n",
              "      <td>47.768031</td>\n",
              "      <td>1.648473e+04</td>\n",
              "    </tr>\n",
              "    <tr>\n",
              "      <th>min</th>\n",
              "      <td>11.000000</td>\n",
              "      <td>1.000000</td>\n",
              "      <td>1.000000</td>\n",
              "      <td>0.000000</td>\n",
              "      <td>0.000000e+00</td>\n",
              "      <td>450.000000</td>\n",
              "      <td>0.000000</td>\n",
              "      <td>3.000000</td>\n",
              "      <td>4.990000e+02</td>\n",
              "    </tr>\n",
              "    <tr>\n",
              "      <th>25%</th>\n",
              "      <td>56.000000</td>\n",
              "      <td>2.000000</td>\n",
              "      <td>1.000000</td>\n",
              "      <td>0.000000</td>\n",
              "      <td>1.700000e+02</td>\n",
              "      <td>1530.000000</td>\n",
              "      <td>38.000000</td>\n",
              "      <td>21.000000</td>\n",
              "      <td>2.061750e+03</td>\n",
              "    </tr>\n",
              "    <tr>\n",
              "      <th>50%</th>\n",
              "      <td>90.000000</td>\n",
              "      <td>2.000000</td>\n",
              "      <td>2.000000</td>\n",
              "      <td>1.000000</td>\n",
              "      <td>5.600000e+02</td>\n",
              "      <td>2661.000000</td>\n",
              "      <td>125.000000</td>\n",
              "      <td>36.000000</td>\n",
              "      <td>3.581500e+03</td>\n",
              "    </tr>\n",
              "    <tr>\n",
              "      <th>75%</th>\n",
              "      <td>182.000000</td>\n",
              "      <td>3.000000</td>\n",
              "      <td>3.000000</td>\n",
              "      <td>2.000000</td>\n",
              "      <td>1.237500e+03</td>\n",
              "      <td>5000.000000</td>\n",
              "      <td>375.000000</td>\n",
              "      <td>68.000000</td>\n",
              "      <td>6.768000e+03</td>\n",
              "    </tr>\n",
              "    <tr>\n",
              "      <th>max</th>\n",
              "      <td>46335.000000</td>\n",
              "      <td>13.000000</td>\n",
              "      <td>10.000000</td>\n",
              "      <td>12.000000</td>\n",
              "      <td>1.117000e+06</td>\n",
              "      <td>45000.000000</td>\n",
              "      <td>313700.000000</td>\n",
              "      <td>677.000000</td>\n",
              "      <td>1.120000e+06</td>\n",
              "    </tr>\n",
              "  </tbody>\n",
              "</table>\n",
              "</div>"
            ],
            "text/plain": [
              "               area         rooms  ...  fire insurance (R$)    total (R$)\n",
              "count  10692.000000  10692.000000  ...         10692.000000  1.069200e+04\n",
              "mean     149.217920      2.506079  ...            53.300879  5.490487e+03\n",
              "std      537.016942      1.171266  ...            47.768031  1.648473e+04\n",
              "min       11.000000      1.000000  ...             3.000000  4.990000e+02\n",
              "25%       56.000000      2.000000  ...            21.000000  2.061750e+03\n",
              "50%       90.000000      2.000000  ...            36.000000  3.581500e+03\n",
              "75%      182.000000      3.000000  ...            68.000000  6.768000e+03\n",
              "max    46335.000000     13.000000  ...           677.000000  1.120000e+06\n",
              "\n",
              "[8 rows x 9 columns]"
            ]
          },
          "metadata": {
            "tags": []
          },
          "execution_count": 8
        }
      ]
    },
    {
      "cell_type": "markdown",
      "metadata": {
        "id": "T3dYmfasrCui"
      },
      "source": [
        "**Observações:**\n",
        "\n",
        "* Os valores máximos para cada coluna (dos atributos númericos) estão longe da mediana da coluna e da média que significa que eles são valores discrepantes em potencial (outliers).\n",
        "\n",
        "* Há tipos *int e object.*\n",
        "\n",
        "* Possui 10692 linhas (imóveis para alugar) e 13 colunas (atributos).\n",
        "\n",
        "* Média dos aluguéis: R$ 3896,25"
      ]
    },
    {
      "cell_type": "markdown",
      "metadata": {
        "id": "ueNal_8vVLWI"
      },
      "source": [
        "### Valores faltantes e linhas duplicadas"
      ]
    },
    {
      "cell_type": "code",
      "metadata": {
        "colab": {
          "base_uri": "https://localhost:8080/"
        },
        "id": "KGGxjtjIVPSr",
        "outputId": "66cc5093-bdcc-4315-b447-30e756e0dc3b"
      },
      "source": [
        "#Verificação de valores missing\n",
        "for coluna in df.columns:\n",
        "    print(\"Qtd. de valores faltantes em {}: {}\".format(coluna, df[coluna].isna().sum()))"
      ],
      "execution_count": null,
      "outputs": [
        {
          "output_type": "stream",
          "text": [
            "Qtd. de valores faltantes em city: 0\n",
            "Qtd. de valores faltantes em area: 0\n",
            "Qtd. de valores faltantes em rooms: 0\n",
            "Qtd. de valores faltantes em bathroom: 0\n",
            "Qtd. de valores faltantes em parking spaces: 0\n",
            "Qtd. de valores faltantes em floor: 0\n",
            "Qtd. de valores faltantes em animal: 0\n",
            "Qtd. de valores faltantes em furniture: 0\n",
            "Qtd. de valores faltantes em hoa (R$): 0\n",
            "Qtd. de valores faltantes em rent amount (R$): 0\n",
            "Qtd. de valores faltantes em property tax (R$): 0\n",
            "Qtd. de valores faltantes em fire insurance (R$): 0\n",
            "Qtd. de valores faltantes em total (R$): 0\n"
          ],
          "name": "stdout"
        }
      ]
    },
    {
      "cell_type": "code",
      "metadata": {
        "colab": {
          "base_uri": "https://localhost:8080/",
          "height": 589
        },
        "id": "qTpYhxR9WPP7",
        "outputId": "5e3411f0-4536-4b34-dd8f-3659acc865d3"
      },
      "source": [
        "#Verifica se tem duplicates\n",
        "df[df.duplicated()]"
      ],
      "execution_count": null,
      "outputs": [
        {
          "output_type": "execute_result",
          "data": {
            "text/html": [
              "<div>\n",
              "<style scoped>\n",
              "    .dataframe tbody tr th:only-of-type {\n",
              "        vertical-align: middle;\n",
              "    }\n",
              "\n",
              "    .dataframe tbody tr th {\n",
              "        vertical-align: top;\n",
              "    }\n",
              "\n",
              "    .dataframe thead th {\n",
              "        text-align: right;\n",
              "    }\n",
              "</style>\n",
              "<table border=\"1\" class=\"dataframe\">\n",
              "  <thead>\n",
              "    <tr style=\"text-align: right;\">\n",
              "      <th></th>\n",
              "      <th>city</th>\n",
              "      <th>area</th>\n",
              "      <th>rooms</th>\n",
              "      <th>bathroom</th>\n",
              "      <th>parking spaces</th>\n",
              "      <th>floor</th>\n",
              "      <th>animal</th>\n",
              "      <th>furniture</th>\n",
              "      <th>hoa (R$)</th>\n",
              "      <th>rent amount (R$)</th>\n",
              "      <th>property tax (R$)</th>\n",
              "      <th>fire insurance (R$)</th>\n",
              "      <th>total (R$)</th>\n",
              "    </tr>\n",
              "  </thead>\n",
              "  <tbody>\n",
              "    <tr>\n",
              "      <th>244</th>\n",
              "      <td>Porto Alegre</td>\n",
              "      <td>47</td>\n",
              "      <td>1</td>\n",
              "      <td>1</td>\n",
              "      <td>1</td>\n",
              "      <td>1</td>\n",
              "      <td>not acept</td>\n",
              "      <td>furnished</td>\n",
              "      <td>400</td>\n",
              "      <td>2200</td>\n",
              "      <td>0</td>\n",
              "      <td>33</td>\n",
              "      <td>2633</td>\n",
              "    </tr>\n",
              "    <tr>\n",
              "      <th>920</th>\n",
              "      <td>Belo Horizonte</td>\n",
              "      <td>40</td>\n",
              "      <td>1</td>\n",
              "      <td>1</td>\n",
              "      <td>1</td>\n",
              "      <td>2</td>\n",
              "      <td>not acept</td>\n",
              "      <td>furnished</td>\n",
              "      <td>0</td>\n",
              "      <td>970</td>\n",
              "      <td>0</td>\n",
              "      <td>13</td>\n",
              "      <td>983</td>\n",
              "    </tr>\n",
              "    <tr>\n",
              "      <th>1060</th>\n",
              "      <td>São Paulo</td>\n",
              "      <td>136</td>\n",
              "      <td>3</td>\n",
              "      <td>3</td>\n",
              "      <td>3</td>\n",
              "      <td>13</td>\n",
              "      <td>acept</td>\n",
              "      <td>not furnished</td>\n",
              "      <td>1430</td>\n",
              "      <td>4206</td>\n",
              "      <td>364</td>\n",
              "      <td>54</td>\n",
              "      <td>6054</td>\n",
              "    </tr>\n",
              "    <tr>\n",
              "      <th>1064</th>\n",
              "      <td>São Paulo</td>\n",
              "      <td>20</td>\n",
              "      <td>1</td>\n",
              "      <td>1</td>\n",
              "      <td>0</td>\n",
              "      <td>5</td>\n",
              "      <td>acept</td>\n",
              "      <td>furnished</td>\n",
              "      <td>602</td>\n",
              "      <td>1800</td>\n",
              "      <td>130</td>\n",
              "      <td>23</td>\n",
              "      <td>2555</td>\n",
              "    </tr>\n",
              "    <tr>\n",
              "      <th>1108</th>\n",
              "      <td>Campinas</td>\n",
              "      <td>184</td>\n",
              "      <td>4</td>\n",
              "      <td>3</td>\n",
              "      <td>4</td>\n",
              "      <td>-</td>\n",
              "      <td>acept</td>\n",
              "      <td>not furnished</td>\n",
              "      <td>0</td>\n",
              "      <td>3240</td>\n",
              "      <td>220</td>\n",
              "      <td>49</td>\n",
              "      <td>3509</td>\n",
              "    </tr>\n",
              "    <tr>\n",
              "      <th>...</th>\n",
              "      <td>...</td>\n",
              "      <td>...</td>\n",
              "      <td>...</td>\n",
              "      <td>...</td>\n",
              "      <td>...</td>\n",
              "      <td>...</td>\n",
              "      <td>...</td>\n",
              "      <td>...</td>\n",
              "      <td>...</td>\n",
              "      <td>...</td>\n",
              "      <td>...</td>\n",
              "      <td>...</td>\n",
              "      <td>...</td>\n",
              "    </tr>\n",
              "    <tr>\n",
              "      <th>10560</th>\n",
              "      <td>Porto Alegre</td>\n",
              "      <td>40</td>\n",
              "      <td>1</td>\n",
              "      <td>1</td>\n",
              "      <td>1</td>\n",
              "      <td>9</td>\n",
              "      <td>not acept</td>\n",
              "      <td>furnished</td>\n",
              "      <td>1300</td>\n",
              "      <td>1200</td>\n",
              "      <td>68</td>\n",
              "      <td>18</td>\n",
              "      <td>2586</td>\n",
              "    </tr>\n",
              "    <tr>\n",
              "      <th>10569</th>\n",
              "      <td>Belo Horizonte</td>\n",
              "      <td>20</td>\n",
              "      <td>1</td>\n",
              "      <td>1</td>\n",
              "      <td>1</td>\n",
              "      <td>-</td>\n",
              "      <td>acept</td>\n",
              "      <td>furnished</td>\n",
              "      <td>0</td>\n",
              "      <td>1100</td>\n",
              "      <td>0</td>\n",
              "      <td>15</td>\n",
              "      <td>1115</td>\n",
              "    </tr>\n",
              "    <tr>\n",
              "      <th>10623</th>\n",
              "      <td>Porto Alegre</td>\n",
              "      <td>47</td>\n",
              "      <td>1</td>\n",
              "      <td>1</td>\n",
              "      <td>1</td>\n",
              "      <td>1</td>\n",
              "      <td>not acept</td>\n",
              "      <td>furnished</td>\n",
              "      <td>400</td>\n",
              "      <td>2200</td>\n",
              "      <td>0</td>\n",
              "      <td>33</td>\n",
              "      <td>2633</td>\n",
              "    </tr>\n",
              "    <tr>\n",
              "      <th>10640</th>\n",
              "      <td>São Paulo</td>\n",
              "      <td>27</td>\n",
              "      <td>1</td>\n",
              "      <td>1</td>\n",
              "      <td>0</td>\n",
              "      <td>5</td>\n",
              "      <td>not acept</td>\n",
              "      <td>not furnished</td>\n",
              "      <td>1405</td>\n",
              "      <td>3500</td>\n",
              "      <td>1</td>\n",
              "      <td>45</td>\n",
              "      <td>4951</td>\n",
              "    </tr>\n",
              "    <tr>\n",
              "      <th>10641</th>\n",
              "      <td>Belo Horizonte</td>\n",
              "      <td>58</td>\n",
              "      <td>2</td>\n",
              "      <td>2</td>\n",
              "      <td>1</td>\n",
              "      <td>5</td>\n",
              "      <td>acept</td>\n",
              "      <td>not furnished</td>\n",
              "      <td>400</td>\n",
              "      <td>999</td>\n",
              "      <td>99</td>\n",
              "      <td>14</td>\n",
              "      <td>1512</td>\n",
              "    </tr>\n",
              "  </tbody>\n",
              "</table>\n",
              "<p>358 rows × 13 columns</p>\n",
              "</div>"
            ],
            "text/plain": [
              "                 city  area  ...  fire insurance (R$)  total (R$)\n",
              "244      Porto Alegre    47  ...                   33        2633\n",
              "920    Belo Horizonte    40  ...                   13         983\n",
              "1060        São Paulo   136  ...                   54        6054\n",
              "1064        São Paulo    20  ...                   23        2555\n",
              "1108         Campinas   184  ...                   49        3509\n",
              "...               ...   ...  ...                  ...         ...\n",
              "10560    Porto Alegre    40  ...                   18        2586\n",
              "10569  Belo Horizonte    20  ...                   15        1115\n",
              "10623    Porto Alegre    47  ...                   33        2633\n",
              "10640       São Paulo    27  ...                   45        4951\n",
              "10641  Belo Horizonte    58  ...                   14        1512\n",
              "\n",
              "[358 rows x 13 columns]"
            ]
          },
          "metadata": {
            "tags": []
          },
          "execution_count": 11
        }
      ]
    },
    {
      "cell_type": "markdown",
      "metadata": {
        "id": "WO5Ou20fVc8c"
      },
      "source": [
        "**Resultados:**\n",
        "* Como base nos resultados, é possível afirmar que a base de dados não possui valores faltantes, mas que possui linhas duplicadas."
      ]
    },
    {
      "cell_type": "markdown",
      "metadata": {
        "id": "YPkpKTNoXlNJ"
      },
      "source": [
        "### Análise dos atributos\n",
        "\n",
        "O processo de análise foi guiado pelos seguintes questionamentos:\n",
        "* Como os dados estão distribuídos?\n",
        "* A base tem outliers?\n",
        "* Qual é a correlação entre cada atributo?"
      ]
    },
    {
      "cell_type": "markdown",
      "metadata": {
        "id": "HVVvgYXLSLxa"
      },
      "source": [
        "#### Como os dados estão distribuídos?"
      ]
    },
    {
      "cell_type": "code",
      "metadata": {
        "colab": {
          "base_uri": "https://localhost:8080/",
          "height": 1000
        },
        "id": "7GZGhmSdN_L9",
        "outputId": "b3298634-6652-453f-c08d-85030238bdbc"
      },
      "source": [
        "#Verificando a distribuição dos dados\n",
        "plt.style.use('seaborn-whitegrid')\n",
        "df.hist(bins=18,figsize=(20,20))\n",
        "plt.show()"
      ],
      "execution_count": null,
      "outputs": [
        {
          "output_type": "display_data",
          "data": {
            "image/png": "[encoded data removed]",
            "text/plain": [
              "<Figure size 1440x1440 with 9 Axes>"
            ]
          },
          "metadata": {
            "tags": []
          }
        }
      ]
    },
    {
      "cell_type": "code",
      "metadata": {
        "colab": {
          "base_uri": "https://localhost:8080/",
          "height": 874
        },
        "id": "fagURzurOx93",
        "outputId": "8c699470-ff0d-4ec6-85b1-b0d8a3339571"
      },
      "source": [
        "discrete=['city','rooms','bathroom','parking spaces','animal']\n",
        "fig,axis=plt.subplots(3,2,figsize=(15,15))\n",
        "k=0\n",
        "for discrete in discrete:\n",
        "    plt.style.use('seaborn-whitegrid')\n",
        "    data=df[discrete].value_counts().to_dict()\n",
        "    axis=axis.flatten()\n",
        "    sns.countplot(x=df[discrete],hue=df[discrete],ax=axis[k])\n",
        "    k=k+1\n",
        "plt.show()\n",
        "\n"
      ],
      "execution_count": null,
      "outputs": [
        {
          "output_type": "display_data",
          "data": {
            "image/png": "[encoded data removed]",
            "text/plain": [
              "<Figure size 1080x1080 with 6 Axes>"
            ]
          },
          "metadata": {
            "tags": []
          }
        }
      ]
    },
    {
      "cell_type": "code",
      "metadata": {
        "colab": {
          "base_uri": "https://localhost:8080/",
          "height": 874
        },
        "id": "lYeGFrNyO_QD",
        "outputId": "a6d6fe26-b85f-4e08-95bf-70a46ad9adfa"
      },
      "source": [
        "df2 = df\n",
        "#Subsitui \"-\" por zero em floor\n",
        "df2.floor.replace(to_replace={\"-\": 0}, inplace=True)\n",
        "discrete=['floor', 'furniture']\n",
        "fig,axis=plt.subplots(2,1,figsize=(15,15))\n",
        "k=0\n",
        "for discrete in discrete:\n",
        "    plt.style.use('seaborn-whitegrid')\n",
        "    data=df2[discrete].value_counts().to_dict()\n",
        "    axis=axis.flatten()\n",
        "    if k == 0:\n",
        "      sns.countplot(df2.floor,order=df2.floor.value_counts().keys(),ax=axis[k])\n",
        "    else:\n",
        "      sns.countplot(x=df[discrete],hue=df[discrete],ax=axis[k])\n",
        "    k=k+1\n",
        "plt.show()"
      ],
      "execution_count": null,
      "outputs": [
        {
          "output_type": "display_data",
          "data": {
            "image/png": "[encoded data removed]",
            "text/plain": [
              "<Figure size 1080x1080 with 2 Axes>"
            ]
          },
          "metadata": {
            "tags": []
          }
        }
      ]
    },
    {
      "cell_type": "code",
      "metadata": {
        "colab": {
          "base_uri": "https://localhost:8080/"
        },
        "id": "B2E1sjx9SW6f",
        "outputId": "7d5ecfc4-eea0-4fde-e119-86e9a05a05a1"
      },
      "source": [
        "print('furniture:')\n",
        "print(df.furniture.value_counts())\n",
        "\n",
        "print('\\n\\nanimal:')\n",
        "print(df.animal.value_counts())\n",
        "\n",
        "print('\\n\\ncity:')\n",
        "print(df.city.value_counts())\n",
        "\n",
        "print('\\n\\nbathroom:')\n",
        "print(df.bathroom.value_counts())\n",
        "\n",
        "print('\\nfloor:')\n",
        "print(df2.floor.value_counts())\n"
      ],
      "execution_count": null,
      "outputs": [
        {
          "output_type": "stream",
          "text": [
            "furniture:\n",
            "not furnished    8086\n",
            "furnished        2606\n",
            "Name: furniture, dtype: int64\n",
            "\n",
            "\n",
            "animal:\n",
            "acept        8316\n",
            "not acept    2376\n",
            "Name: animal, dtype: int64\n",
            "\n",
            "\n",
            "city:\n",
            "São Paulo         5887\n",
            "Rio de Janeiro    1501\n",
            "Belo Horizonte    1258\n",
            "Porto Alegre      1193\n",
            "Campinas           853\n",
            "Name: city, dtype: int64\n",
            "\n",
            "\n",
            "bathroom:\n",
            "1     4301\n",
            "2     2910\n",
            "3     1474\n",
            "4     1111\n",
            "5      578\n",
            "6      215\n",
            "7       85\n",
            "8       11\n",
            "9        4\n",
            "10       3\n",
            "Name: bathroom, dtype: int64\n",
            "\n",
            "floor:\n",
            "0      2461\n",
            "1      1081\n",
            "2       985\n",
            "3       931\n",
            "4       748\n",
            "5       600\n",
            "6       539\n",
            "7       497\n",
            "8       490\n",
            "9       369\n",
            "10      357\n",
            "11      303\n",
            "12      257\n",
            "13      200\n",
            "14      170\n",
            "15      147\n",
            "16      109\n",
            "17       96\n",
            "18       75\n",
            "19       53\n",
            "20       44\n",
            "21       42\n",
            "23       25\n",
            "25       25\n",
            "22       24\n",
            "26       20\n",
            "24       19\n",
            "27        8\n",
            "28        6\n",
            "29        5\n",
            "32        2\n",
            "46        1\n",
            "35        1\n",
            "51        1\n",
            "301       1\n",
            "Name: floor, dtype: int64\n"
          ],
          "name": "stdout"
        }
      ]
    },
    {
      "cell_type": "code",
      "metadata": {
        "colab": {
          "base_uri": "https://localhost:8080/",
          "height": 456
        },
        "id": "d57nUXRIpsEs",
        "outputId": "2fbc2d09-37e4-49b0-97c3-7df61b6a5773"
      },
      "source": [
        "#Verificando a taxa HOA por cidade\n",
        "for col in df2.columns:\n",
        "    if 'float' in str(df2[col].dtype) or 'int' in str(df2[col].dtype) and col not in ['bathroom', 'rooms', 'parking spaces']:\n",
        "        #pandas.DataFrame.std Retorna o desvio padrão da amostra sobre o eixo solicitado\n",
        "        df2 = df2[ df2[col] < df2[col].mean()+df2[col].std()*4 ]\n",
        "\n",
        "fig, ax = plt.subplots(figsize=(13, 7))\n",
        "sns.boxplot(data=df2, x='city', y='hoa (R$)', ax=ax)"
      ],
      "execution_count": null,
      "outputs": [
        {
          "output_type": "execute_result",
          "data": {
            "text/plain": [
              "<matplotlib.axes._subplots.AxesSubplot at 0x7fc555d17450>"
            ]
          },
          "metadata": {
            "tags": []
          },
          "execution_count": 17
        },
        {
          "output_type": "display_data",
          "data": {
            "image/png": "[encoded data removed]",
            "text/plain": [
              "<Figure size 936x504 with 1 Axes>"
            ]
          },
          "metadata": {
            "tags": []
          }
        }
      ]
    },
    {
      "cell_type": "code",
      "metadata": {
        "colab": {
          "base_uri": "https://localhost:8080/",
          "height": 412
        },
        "id": "5M4QwNXrs0ae",
        "outputId": "53e3bf4b-b950-4033-9dc9-7b148b015ec5"
      },
      "source": [
        "#Verificando a porcentagem de casas que permitem animais de estimação em cada cidade\n",
        "g = sns.FacetGrid(df, col=\"city\")\n",
        "g.map(sns.countplot, 'animal', order=['acept', 'not acept'])\n",
        "\n",
        "print('\\n\\n')\n",
        "for city in df.city.unique():\n",
        "    city_data = df[df.city == city]\n",
        "    print('Em {}, {} dos imóveis permitem animais.'.format(city, str(city_data.animal.value_counts()['acept']/city_data.shape[0])[:4]))\n",
        "print('\\n\\n')"
      ],
      "execution_count": null,
      "outputs": [
        {
          "output_type": "stream",
          "text": [
            "\n",
            "\n",
            "\n",
            "Em São Paulo, 0.76 dos imóveis permitem animais.\n",
            "Em Porto Alegre, 0.84 dos imóveis permitem animais.\n",
            "Em Rio de Janeiro, 0.80 dos imóveis permitem animais.\n",
            "Em Campinas, 0.81 dos imóveis permitem animais.\n",
            "Em Belo Horizonte, 0.74 dos imóveis permitem animais.\n",
            "\n",
            "\n",
            "\n"
          ],
          "name": "stdout"
        },
        {
          "output_type": "display_data",
          "data": {
            "image/png": "[encoded data removed]",
            "text/plain": [
              "<Figure size 1080x216 with 5 Axes>"
            ]
          },
          "metadata": {
            "tags": []
          }
        }
      ]
    },
    {
      "cell_type": "code",
      "metadata": {
        "colab": {
          "base_uri": "https://localhost:8080/",
          "height": 242
        },
        "id": "SOrU4bomtrrl",
        "outputId": "ac075667-7ad1-4080-b158-980d72a38b26"
      },
      "source": [
        "#Verificando a frequência de cada quantidade quarto por cidade\n",
        "\n",
        "g = sns.FacetGrid(df2, col='city')\n",
        "g.map(sns.countplot, 'rooms')"
      ],
      "execution_count": null,
      "outputs": [
        {
          "output_type": "execute_result",
          "data": {
            "text/plain": [
              "<seaborn.axisgrid.FacetGrid at 0x7fc555e32510>"
            ]
          },
          "metadata": {
            "tags": []
          },
          "execution_count": 19
        },
        {
          "output_type": "display_data",
          "data": {
            "image/png": "[encoded data removed]",
            "text/plain": [
              "<Figure size 1080x216 with 5 Axes>"
            ]
          },
          "metadata": {
            "tags": []
          }
        }
      ]
    },
    {
      "cell_type": "markdown",
      "metadata": {
        "id": "fGfC2oymvJDy"
      },
      "source": [
        "*   Em São Paulo casas com cômodos de 1 a 4 são as mais comuns\n",
        "*   Em Porto Alegre casas com cômodos de 1 a 3 são as mais comuns\n",
        "*   Em Rio de Janeiro casas com cômodos de 1 a 3 são as mais comuns\n",
        "*   Em Campinas as casas com cômodos de 1 a 3 são as mais comuns\n",
        "*   Em Belo Horizonte as casas com cômodos de 2 a 4 são as mais comuns"
      ]
    },
    {
      "cell_type": "code",
      "metadata": {
        "colab": {
          "base_uri": "https://localhost:8080/",
          "height": 204
        },
        "id": "LSpByMXgwLE9",
        "outputId": "9549c9a9-27ed-4b2e-9f84-b1d0c40a1a33"
      },
      "source": [
        "#Verificando a média de aluguel por cidade\n",
        "df.groupby('city')['rent amount (R$)'].mean().reset_index().sort_values('rent amount (R$)',ascending=False)"
      ],
      "execution_count": null,
      "outputs": [
        {
          "output_type": "execute_result",
          "data": {
            "text/html": [
              "<div>\n",
              "<style scoped>\n",
              "    .dataframe tbody tr th:only-of-type {\n",
              "        vertical-align: middle;\n",
              "    }\n",
              "\n",
              "    .dataframe tbody tr th {\n",
              "        vertical-align: top;\n",
              "    }\n",
              "\n",
              "    .dataframe thead th {\n",
              "        text-align: right;\n",
              "    }\n",
              "</style>\n",
              "<table border=\"1\" class=\"dataframe\">\n",
              "  <thead>\n",
              "    <tr style=\"text-align: right;\">\n",
              "      <th></th>\n",
              "      <th>city</th>\n",
              "      <th>rent amount (R$)</th>\n",
              "    </tr>\n",
              "  </thead>\n",
              "  <tbody>\n",
              "    <tr>\n",
              "      <th>4</th>\n",
              "      <td>São Paulo</td>\n",
              "      <td>4652.793783</td>\n",
              "    </tr>\n",
              "    <tr>\n",
              "      <th>0</th>\n",
              "      <td>Belo Horizonte</td>\n",
              "      <td>3664.127981</td>\n",
              "    </tr>\n",
              "    <tr>\n",
              "      <th>3</th>\n",
              "      <td>Rio de Janeiro</td>\n",
              "      <td>3232.904064</td>\n",
              "    </tr>\n",
              "    <tr>\n",
              "      <th>1</th>\n",
              "      <td>Campinas</td>\n",
              "      <td>2364.290739</td>\n",
              "    </tr>\n",
              "    <tr>\n",
              "      <th>2</th>\n",
              "      <td>Porto Alegre</td>\n",
              "      <td>2337.699916</td>\n",
              "    </tr>\n",
              "  </tbody>\n",
              "</table>\n",
              "</div>"
            ],
            "text/plain": [
              "             city  rent amount (R$)\n",
              "4       São Paulo       4652.793783\n",
              "0  Belo Horizonte       3664.127981\n",
              "3  Rio de Janeiro       3232.904064\n",
              "1        Campinas       2364.290739\n",
              "2    Porto Alegre       2337.699916"
            ]
          },
          "metadata": {
            "tags": []
          },
          "execution_count": 20
        }
      ]
    },
    {
      "cell_type": "markdown",
      "metadata": {
        "id": "dlbCefaNQ9m_"
      },
      "source": [
        "**Observações gerais**\n",
        "\n",
        "**De acordo com o resultados acima, podemos afirmar que a maioria dos imóveis possuem as seguintes caracteristicas:**\n",
        "* Localização: São Paulo;\n",
        "* Quantidade de quartos: 1 a 2;\n",
        "* Quantidade de banheiros: 1 a 2;\n",
        "* Vagas na garagem: 0 a 1;\n",
        "* Andar: 1 e 2;\n",
        "* Aceitam animais;\n",
        "* Não possuem mobília.\n",
        "\n",
        "**Sobre \"floor\":**\n",
        "* Aparentemente, quanto mais alto o número do andar, menos frequente ele é.\n",
        "\n",
        "* Alguns campos da coluna \"floor\" possuem valor \"-\". \n",
        "\n",
        "**Valor do aluguel:**\n",
        "* Nessa base de dados, São Paulo é a cidade com o maior valor de aluguel.\n",
        "\n",
        "**Taxa de condomínio por cidade:**\n",
        "* Os imóveis das cidades de São Paulo e Rio de Janeiro tendem a possuir as maiores taxas de condomínio.\n",
        "* Em Porto Alegre paga-se taxas menores.\n"
      ]
    },
    {
      "cell_type": "markdown",
      "metadata": {
        "id": "_GlVhiamXTru"
      },
      "source": [
        "#### A base tem outliers?"
      ]
    },
    {
      "cell_type": "code",
      "metadata": {
        "colab": {
          "base_uri": "https://localhost:8080/",
          "height": 308
        },
        "id": "kbl6KfG_6Z--",
        "outputId": "2932ca63-184d-4c23-a435-9764aec7e55e"
      },
      "source": [
        "#Verificando outliers em total\n",
        "total = df['total (R$)']\n",
        "plt.boxplot(total, total.min(), 'o')\n",
        "plt.title('Outlier Univariado')\n",
        "plt.xlabel('Distribuição dos valores')\n",
        "plt.ylabel('Total (R$)')"
      ],
      "execution_count": null,
      "outputs": [
        {
          "output_type": "execute_result",
          "data": {
            "text/plain": [
              "Text(0, 0.5, 'Total (R$)')"
            ]
          },
          "metadata": {
            "tags": []
          },
          "execution_count": 21
        },
        {
          "output_type": "display_data",
          "data": {
            "image/png": "[encoded data removed]",
            "text/plain": [
              "<Figure size 432x288 with 1 Axes>"
            ]
          },
          "metadata": {
            "tags": []
          }
        }
      ]
    },
    {
      "cell_type": "code",
      "metadata": {
        "colab": {
          "base_uri": "https://localhost:8080/",
          "height": 289
        },
        "id": "95fwTJ9v6jYj",
        "outputId": "50f58464-983d-457f-88a9-2fccf8240567"
      },
      "source": [
        "#exibição dos imóveis fora da curva\n",
        "df.loc[total>100000]"
      ],
      "execution_count": null,
      "outputs": [
        {
          "output_type": "execute_result",
          "data": {
            "text/html": [
              "<div>\n",
              "<style scoped>\n",
              "    .dataframe tbody tr th:only-of-type {\n",
              "        vertical-align: middle;\n",
              "    }\n",
              "\n",
              "    .dataframe tbody tr th {\n",
              "        vertical-align: top;\n",
              "    }\n",
              "\n",
              "    .dataframe thead th {\n",
              "        text-align: right;\n",
              "    }\n",
              "</style>\n",
              "<table border=\"1\" class=\"dataframe\">\n",
              "  <thead>\n",
              "    <tr style=\"text-align: right;\">\n",
              "      <th></th>\n",
              "      <th>city</th>\n",
              "      <th>area</th>\n",
              "      <th>rooms</th>\n",
              "      <th>bathroom</th>\n",
              "      <th>parking spaces</th>\n",
              "      <th>floor</th>\n",
              "      <th>animal</th>\n",
              "      <th>furniture</th>\n",
              "      <th>hoa (R$)</th>\n",
              "      <th>rent amount (R$)</th>\n",
              "      <th>property tax (R$)</th>\n",
              "      <th>fire insurance (R$)</th>\n",
              "      <th>total (R$)</th>\n",
              "    </tr>\n",
              "  </thead>\n",
              "  <tbody>\n",
              "    <tr>\n",
              "      <th>255</th>\n",
              "      <td>Belo Horizonte</td>\n",
              "      <td>155</td>\n",
              "      <td>1</td>\n",
              "      <td>4</td>\n",
              "      <td>0</td>\n",
              "      <td>4</td>\n",
              "      <td>not acept</td>\n",
              "      <td>not furnished</td>\n",
              "      <td>1117000</td>\n",
              "      <td>2790</td>\n",
              "      <td>64</td>\n",
              "      <td>38</td>\n",
              "      <td>1120000</td>\n",
              "    </tr>\n",
              "    <tr>\n",
              "      <th>2859</th>\n",
              "      <td>São Paulo</td>\n",
              "      <td>285</td>\n",
              "      <td>4</td>\n",
              "      <td>5</td>\n",
              "      <td>4</td>\n",
              "      <td>6</td>\n",
              "      <td>acept</td>\n",
              "      <td>furnished</td>\n",
              "      <td>200000</td>\n",
              "      <td>20000</td>\n",
              "      <td>1834</td>\n",
              "      <td>254</td>\n",
              "      <td>222100</td>\n",
              "    </tr>\n",
              "    <tr>\n",
              "      <th>6230</th>\n",
              "      <td>São Paulo</td>\n",
              "      <td>340</td>\n",
              "      <td>5</td>\n",
              "      <td>4</td>\n",
              "      <td>2</td>\n",
              "      <td>7</td>\n",
              "      <td>acept</td>\n",
              "      <td>not furnished</td>\n",
              "      <td>220000</td>\n",
              "      <td>12000</td>\n",
              "      <td>1000</td>\n",
              "      <td>153</td>\n",
              "      <td>233200</td>\n",
              "    </tr>\n",
              "    <tr>\n",
              "      <th>6645</th>\n",
              "      <td>São Paulo</td>\n",
              "      <td>42</td>\n",
              "      <td>1</td>\n",
              "      <td>2</td>\n",
              "      <td>1</td>\n",
              "      <td>6</td>\n",
              "      <td>not acept</td>\n",
              "      <td>not furnished</td>\n",
              "      <td>690</td>\n",
              "      <td>2500</td>\n",
              "      <td>313700</td>\n",
              "      <td>32</td>\n",
              "      <td>316900</td>\n",
              "    </tr>\n",
              "    <tr>\n",
              "      <th>6979</th>\n",
              "      <td>Belo Horizonte</td>\n",
              "      <td>155</td>\n",
              "      <td>1</td>\n",
              "      <td>4</td>\n",
              "      <td>0</td>\n",
              "      <td>4</td>\n",
              "      <td>not acept</td>\n",
              "      <td>not furnished</td>\n",
              "      <td>1117000</td>\n",
              "      <td>2790</td>\n",
              "      <td>64</td>\n",
              "      <td>38</td>\n",
              "      <td>1120000</td>\n",
              "    </tr>\n",
              "  </tbody>\n",
              "</table>\n",
              "</div>"
            ],
            "text/plain": [
              "                city  area  ...  fire insurance (R$)  total (R$)\n",
              "255   Belo Horizonte   155  ...                   38     1120000\n",
              "2859       São Paulo   285  ...                  254      222100\n",
              "6230       São Paulo   340  ...                  153      233200\n",
              "6645       São Paulo    42  ...                   32      316900\n",
              "6979  Belo Horizonte   155  ...                   38     1120000\n",
              "\n",
              "[5 rows x 13 columns]"
            ]
          },
          "metadata": {
            "tags": []
          },
          "execution_count": 22
        }
      ]
    },
    {
      "cell_type": "code",
      "metadata": {
        "colab": {
          "base_uri": "https://localhost:8080/",
          "height": 308
        },
        "id": "GIizykzNjgSd",
        "outputId": "94fbf40c-8f8b-4139-b618-6dd42bb9a5ee"
      },
      "source": [
        "#Verificando outliers em hoa\n",
        "valor_condominio = df['hoa (R$)']\n",
        "plt.boxplot(valor_condominio, valor_condominio.min(), 'o')\n",
        "plt.title('Outlier Univariado')\n",
        "plt.xlabel('Distribuição dos valores')\n",
        "plt.ylabel('Valor do condomínio (R$)')"
      ],
      "execution_count": null,
      "outputs": [
        {
          "output_type": "execute_result",
          "data": {
            "text/plain": [
              "Text(0, 0.5, 'Valor do condomínio (R$)')"
            ]
          },
          "metadata": {
            "tags": []
          },
          "execution_count": 23
        },
        {
          "output_type": "display_data",
          "data": {
            "image/png": "[encoded data removed]",
            "text/plain": [
              "<Figure size 432x288 with 1 Axes>"
            ]
          },
          "metadata": {
            "tags": []
          }
        }
      ]
    },
    {
      "cell_type": "code",
      "metadata": {
        "colab": {
          "base_uri": "https://localhost:8080/",
          "height": 241
        },
        "id": "H8SQmvZ25xLu",
        "outputId": "47d3fb25-5c17-4e62-dd08-405f06a0b4ed"
      },
      "source": [
        "#exibição dos imóveis fora da curva\n",
        "df.loc[valor_condominio>100000]"
      ],
      "execution_count": null,
      "outputs": [
        {
          "output_type": "execute_result",
          "data": {
            "text/html": [
              "<div>\n",
              "<style scoped>\n",
              "    .dataframe tbody tr th:only-of-type {\n",
              "        vertical-align: middle;\n",
              "    }\n",
              "\n",
              "    .dataframe tbody tr th {\n",
              "        vertical-align: top;\n",
              "    }\n",
              "\n",
              "    .dataframe thead th {\n",
              "        text-align: right;\n",
              "    }\n",
              "</style>\n",
              "<table border=\"1\" class=\"dataframe\">\n",
              "  <thead>\n",
              "    <tr style=\"text-align: right;\">\n",
              "      <th></th>\n",
              "      <th>city</th>\n",
              "      <th>area</th>\n",
              "      <th>rooms</th>\n",
              "      <th>bathroom</th>\n",
              "      <th>parking spaces</th>\n",
              "      <th>floor</th>\n",
              "      <th>animal</th>\n",
              "      <th>furniture</th>\n",
              "      <th>hoa (R$)</th>\n",
              "      <th>rent amount (R$)</th>\n",
              "      <th>property tax (R$)</th>\n",
              "      <th>fire insurance (R$)</th>\n",
              "      <th>total (R$)</th>\n",
              "    </tr>\n",
              "  </thead>\n",
              "  <tbody>\n",
              "    <tr>\n",
              "      <th>255</th>\n",
              "      <td>Belo Horizonte</td>\n",
              "      <td>155</td>\n",
              "      <td>1</td>\n",
              "      <td>4</td>\n",
              "      <td>0</td>\n",
              "      <td>4</td>\n",
              "      <td>not acept</td>\n",
              "      <td>not furnished</td>\n",
              "      <td>1117000</td>\n",
              "      <td>2790</td>\n",
              "      <td>64</td>\n",
              "      <td>38</td>\n",
              "      <td>1120000</td>\n",
              "    </tr>\n",
              "    <tr>\n",
              "      <th>2859</th>\n",
              "      <td>São Paulo</td>\n",
              "      <td>285</td>\n",
              "      <td>4</td>\n",
              "      <td>5</td>\n",
              "      <td>4</td>\n",
              "      <td>6</td>\n",
              "      <td>acept</td>\n",
              "      <td>furnished</td>\n",
              "      <td>200000</td>\n",
              "      <td>20000</td>\n",
              "      <td>1834</td>\n",
              "      <td>254</td>\n",
              "      <td>222100</td>\n",
              "    </tr>\n",
              "    <tr>\n",
              "      <th>6230</th>\n",
              "      <td>São Paulo</td>\n",
              "      <td>340</td>\n",
              "      <td>5</td>\n",
              "      <td>4</td>\n",
              "      <td>2</td>\n",
              "      <td>7</td>\n",
              "      <td>acept</td>\n",
              "      <td>not furnished</td>\n",
              "      <td>220000</td>\n",
              "      <td>12000</td>\n",
              "      <td>1000</td>\n",
              "      <td>153</td>\n",
              "      <td>233200</td>\n",
              "    </tr>\n",
              "    <tr>\n",
              "      <th>6979</th>\n",
              "      <td>Belo Horizonte</td>\n",
              "      <td>155</td>\n",
              "      <td>1</td>\n",
              "      <td>4</td>\n",
              "      <td>0</td>\n",
              "      <td>4</td>\n",
              "      <td>not acept</td>\n",
              "      <td>not furnished</td>\n",
              "      <td>1117000</td>\n",
              "      <td>2790</td>\n",
              "      <td>64</td>\n",
              "      <td>38</td>\n",
              "      <td>1120000</td>\n",
              "    </tr>\n",
              "  </tbody>\n",
              "</table>\n",
              "</div>"
            ],
            "text/plain": [
              "                city  area  ...  fire insurance (R$)  total (R$)\n",
              "255   Belo Horizonte   155  ...                   38     1120000\n",
              "2859       São Paulo   285  ...                  254      222100\n",
              "6230       São Paulo   340  ...                  153      233200\n",
              "6979  Belo Horizonte   155  ...                   38     1120000\n",
              "\n",
              "[4 rows x 13 columns]"
            ]
          },
          "metadata": {
            "tags": []
          },
          "execution_count": 24
        }
      ]
    },
    {
      "cell_type": "code",
      "metadata": {
        "colab": {
          "base_uri": "https://localhost:8080/",
          "height": 362
        },
        "id": "Y9fBnZuFeo43",
        "outputId": "a9236628-f1b1-4421-ec6d-d4b91058666c"
      },
      "source": [
        "#Verificando outliers em area\n",
        "plt.figure(figsize=(6,5))\n",
        "plt.title('Outlier Univariado')\n",
        "plt.ylabel('Distribuição das areas')\n",
        "sns.boxplot(x=df.area)\n"
      ],
      "execution_count": null,
      "outputs": [
        {
          "output_type": "execute_result",
          "data": {
            "text/plain": [
              "<matplotlib.axes._subplots.AxesSubplot at 0x7fc555fa79d0>"
            ]
          },
          "metadata": {
            "tags": []
          },
          "execution_count": 25
        },
        {
          "output_type": "display_data",
          "data": {
            "image/png": "[encoded data removed]",
            "text/plain": [
              "<Figure size 432x360 with 1 Axes>"
            ]
          },
          "metadata": {
            "tags": []
          }
        }
      ]
    },
    {
      "cell_type": "code",
      "metadata": {
        "colab": {
          "base_uri": "https://localhost:8080/",
          "height": 210
        },
        "id": "Uof15T0OmrCL",
        "outputId": "d90d2739-740c-473e-fd92-91dda9ed6a82"
      },
      "source": [
        "#exibição dos imóveis fora da curva\n",
        "df.loc[df.area>10000]"
      ],
      "execution_count": null,
      "outputs": [
        {
          "output_type": "execute_result",
          "data": {
            "text/html": [
              "<div>\n",
              "<style scoped>\n",
              "    .dataframe tbody tr th:only-of-type {\n",
              "        vertical-align: middle;\n",
              "    }\n",
              "\n",
              "    .dataframe tbody tr th {\n",
              "        vertical-align: top;\n",
              "    }\n",
              "\n",
              "    .dataframe thead th {\n",
              "        text-align: right;\n",
              "    }\n",
              "</style>\n",
              "<table border=\"1\" class=\"dataframe\">\n",
              "  <thead>\n",
              "    <tr style=\"text-align: right;\">\n",
              "      <th></th>\n",
              "      <th>city</th>\n",
              "      <th>area</th>\n",
              "      <th>rooms</th>\n",
              "      <th>bathroom</th>\n",
              "      <th>parking spaces</th>\n",
              "      <th>floor</th>\n",
              "      <th>animal</th>\n",
              "      <th>furniture</th>\n",
              "      <th>hoa (R$)</th>\n",
              "      <th>rent amount (R$)</th>\n",
              "      <th>property tax (R$)</th>\n",
              "      <th>fire insurance (R$)</th>\n",
              "      <th>total (R$)</th>\n",
              "    </tr>\n",
              "  </thead>\n",
              "  <tbody>\n",
              "    <tr>\n",
              "      <th>2397</th>\n",
              "      <td>Belo Horizonte</td>\n",
              "      <td>46335</td>\n",
              "      <td>4</td>\n",
              "      <td>8</td>\n",
              "      <td>5</td>\n",
              "      <td>11</td>\n",
              "      <td>acept</td>\n",
              "      <td>furnished</td>\n",
              "      <td>960</td>\n",
              "      <td>8500</td>\n",
              "      <td>646</td>\n",
              "      <td>114</td>\n",
              "      <td>10220</td>\n",
              "    </tr>\n",
              "    <tr>\n",
              "      <th>5915</th>\n",
              "      <td>São Paulo</td>\n",
              "      <td>24606</td>\n",
              "      <td>5</td>\n",
              "      <td>4</td>\n",
              "      <td>4</td>\n",
              "      <td>12</td>\n",
              "      <td>acept</td>\n",
              "      <td>not furnished</td>\n",
              "      <td>2254</td>\n",
              "      <td>8100</td>\n",
              "      <td>7859</td>\n",
              "      <td>103</td>\n",
              "      <td>18320</td>\n",
              "    </tr>\n",
              "    <tr>\n",
              "      <th>9241</th>\n",
              "      <td>Campinas</td>\n",
              "      <td>12732</td>\n",
              "      <td>3</td>\n",
              "      <td>2</td>\n",
              "      <td>0</td>\n",
              "      <td>3</td>\n",
              "      <td>acept</td>\n",
              "      <td>not furnished</td>\n",
              "      <td>700</td>\n",
              "      <td>1600</td>\n",
              "      <td>96</td>\n",
              "      <td>21</td>\n",
              "      <td>2417</td>\n",
              "    </tr>\n",
              "  </tbody>\n",
              "</table>\n",
              "</div>"
            ],
            "text/plain": [
              "                city   area  ...  fire insurance (R$)  total (R$)\n",
              "2397  Belo Horizonte  46335  ...                  114       10220\n",
              "5915       São Paulo  24606  ...                  103       18320\n",
              "9241        Campinas  12732  ...                   21        2417\n",
              "\n",
              "[3 rows x 13 columns]"
            ]
          },
          "metadata": {
            "tags": []
          },
          "execution_count": 26
        }
      ]
    },
    {
      "cell_type": "code",
      "metadata": {
        "colab": {
          "base_uri": "https://localhost:8080/",
          "height": 308
        },
        "id": "vvyivX94e_L3",
        "outputId": "14a7440e-abe5-424f-94f6-594ea81f3e6d"
      },
      "source": [
        "valor_aluguel = df['rent amount (R$)']\n",
        "plt.boxplot(valor_aluguel, valor_aluguel.min(), 'o')\n",
        "plt.title('Outlier Univariado')\n",
        "plt.xlabel('Distribuição dos valores')\n",
        "plt.ylabel('Valor do aluguel (R$)')"
      ],
      "execution_count": null,
      "outputs": [
        {
          "output_type": "execute_result",
          "data": {
            "text/plain": [
              "Text(0, 0.5, 'Valor do aluguel (R$)')"
            ]
          },
          "metadata": {
            "tags": []
          },
          "execution_count": 27
        },
        {
          "output_type": "display_data",
          "data": {
            "image/png": "[encoded data removed]",
            "text/plain": [
              "<Figure size 432x288 with 1 Axes>"
            ]
          },
          "metadata": {
            "tags": []
          }
        }
      ]
    },
    {
      "cell_type": "code",
      "metadata": {
        "colab": {
          "base_uri": "https://localhost:8080/",
          "height": 173
        },
        "id": "0geLv5vLnDQi",
        "outputId": "81ef6895-aa8f-4594-fbf6-ad58b36f3535"
      },
      "source": [
        "#Exibição dos imóveis fora da curva\n",
        "df.loc[df['rent amount (R$)']>20000]\n"
      ],
      "execution_count": null,
      "outputs": [
        {
          "output_type": "execute_result",
          "data": {
            "text/html": [
              "<div>\n",
              "<style scoped>\n",
              "    .dataframe tbody tr th:only-of-type {\n",
              "        vertical-align: middle;\n",
              "    }\n",
              "\n",
              "    .dataframe tbody tr th {\n",
              "        vertical-align: top;\n",
              "    }\n",
              "\n",
              "    .dataframe thead th {\n",
              "        text-align: right;\n",
              "    }\n",
              "</style>\n",
              "<table border=\"1\" class=\"dataframe\">\n",
              "  <thead>\n",
              "    <tr style=\"text-align: right;\">\n",
              "      <th></th>\n",
              "      <th>city</th>\n",
              "      <th>area</th>\n",
              "      <th>rooms</th>\n",
              "      <th>bathroom</th>\n",
              "      <th>parking spaces</th>\n",
              "      <th>floor</th>\n",
              "      <th>animal</th>\n",
              "      <th>furniture</th>\n",
              "      <th>hoa (R$)</th>\n",
              "      <th>rent amount (R$)</th>\n",
              "      <th>property tax (R$)</th>\n",
              "      <th>fire insurance (R$)</th>\n",
              "      <th>total (R$)</th>\n",
              "    </tr>\n",
              "  </thead>\n",
              "  <tbody>\n",
              "    <tr>\n",
              "      <th>2182</th>\n",
              "      <td>São Paulo</td>\n",
              "      <td>700</td>\n",
              "      <td>4</td>\n",
              "      <td>7</td>\n",
              "      <td>8</td>\n",
              "      <td>0</td>\n",
              "      <td>acept</td>\n",
              "      <td>not furnished</td>\n",
              "      <td>0</td>\n",
              "      <td>45000</td>\n",
              "      <td>8750</td>\n",
              "      <td>677</td>\n",
              "      <td>54430</td>\n",
              "    </tr>\n",
              "    <tr>\n",
              "      <th>2619</th>\n",
              "      <td>São Paulo</td>\n",
              "      <td>80</td>\n",
              "      <td>2</td>\n",
              "      <td>1</td>\n",
              "      <td>1</td>\n",
              "      <td>1</td>\n",
              "      <td>acept</td>\n",
              "      <td>not furnished</td>\n",
              "      <td>875</td>\n",
              "      <td>24000</td>\n",
              "      <td>0</td>\n",
              "      <td>305</td>\n",
              "      <td>25180</td>\n",
              "    </tr>\n",
              "    <tr>\n",
              "      <th>6947</th>\n",
              "      <td>São Paulo</td>\n",
              "      <td>486</td>\n",
              "      <td>8</td>\n",
              "      <td>4</td>\n",
              "      <td>6</td>\n",
              "      <td>0</td>\n",
              "      <td>acept</td>\n",
              "      <td>not furnished</td>\n",
              "      <td>0</td>\n",
              "      <td>25000</td>\n",
              "      <td>2200</td>\n",
              "      <td>376</td>\n",
              "      <td>27580</td>\n",
              "    </tr>\n",
              "    <tr>\n",
              "      <th>7748</th>\n",
              "      <td>São Paulo</td>\n",
              "      <td>350</td>\n",
              "      <td>3</td>\n",
              "      <td>3</td>\n",
              "      <td>3</td>\n",
              "      <td>0</td>\n",
              "      <td>acept</td>\n",
              "      <td>not furnished</td>\n",
              "      <td>0</td>\n",
              "      <td>30000</td>\n",
              "      <td>560</td>\n",
              "      <td>451</td>\n",
              "      <td>31010</td>\n",
              "    </tr>\n",
              "  </tbody>\n",
              "</table>\n",
              "</div>"
            ],
            "text/plain": [
              "           city  area  ...  fire insurance (R$)  total (R$)\n",
              "2182  São Paulo   700  ...                  677       54430\n",
              "2619  São Paulo    80  ...                  305       25180\n",
              "6947  São Paulo   486  ...                  376       27580\n",
              "7748  São Paulo   350  ...                  451       31010\n",
              "\n",
              "[4 rows x 13 columns]"
            ]
          },
          "metadata": {
            "tags": []
          },
          "execution_count": 28
        }
      ]
    },
    {
      "cell_type": "code",
      "metadata": {
        "colab": {
          "base_uri": "https://localhost:8080/",
          "height": 362
        },
        "id": "tOUc56lNXRMJ",
        "outputId": "450357a0-98c6-4ca4-fff2-a44d30b0bd94"
      },
      "source": [
        "fig = plt.figure(figsize=(15,5))\n",
        "area = df['area']\n",
        "valor = df['rent amount (R$)']\n",
        "plt.xlabel('Área')\n",
        "plt.ylabel('Valor do aluguel (R$)')\n",
        "plt.title('Outlier multivariado')\n",
        "plt.plot(area, valor, \"r+\",)"
      ],
      "execution_count": null,
      "outputs": [
        {
          "output_type": "execute_result",
          "data": {
            "text/plain": [
              "[<matplotlib.lines.Line2D at 0x7fc55374b750>]"
            ]
          },
          "metadata": {
            "tags": []
          },
          "execution_count": 29
        },
        {
          "output_type": "display_data",
          "data": {
            "image/png": "[encoded data removed]",
            "text/plain": [
              "<Figure size 1080x360 with 1 Axes>"
            ]
          },
          "metadata": {
            "tags": []
          }
        }
      ]
    },
    {
      "cell_type": "code",
      "metadata": {
        "colab": {
          "base_uri": "https://localhost:8080/",
          "height": 433
        },
        "id": "FN2NJAlanTSb",
        "outputId": "3ad76ec3-6db3-48c6-e961-e4352f5b60e8"
      },
      "source": [
        "df.loc[(df['area'] > 10000) | (df['total (R$)'] > 220000)]"
      ],
      "execution_count": null,
      "outputs": [
        {
          "output_type": "execute_result",
          "data": {
            "text/html": [
              "<div>\n",
              "<style scoped>\n",
              "    .dataframe tbody tr th:only-of-type {\n",
              "        vertical-align: middle;\n",
              "    }\n",
              "\n",
              "    .dataframe tbody tr th {\n",
              "        vertical-align: top;\n",
              "    }\n",
              "\n",
              "    .dataframe thead th {\n",
              "        text-align: right;\n",
              "    }\n",
              "</style>\n",
              "<table border=\"1\" class=\"dataframe\">\n",
              "  <thead>\n",
              "    <tr style=\"text-align: right;\">\n",
              "      <th></th>\n",
              "      <th>city</th>\n",
              "      <th>area</th>\n",
              "      <th>rooms</th>\n",
              "      <th>bathroom</th>\n",
              "      <th>parking spaces</th>\n",
              "      <th>floor</th>\n",
              "      <th>animal</th>\n",
              "      <th>furniture</th>\n",
              "      <th>hoa (R$)</th>\n",
              "      <th>rent amount (R$)</th>\n",
              "      <th>property tax (R$)</th>\n",
              "      <th>fire insurance (R$)</th>\n",
              "      <th>total (R$)</th>\n",
              "    </tr>\n",
              "  </thead>\n",
              "  <tbody>\n",
              "    <tr>\n",
              "      <th>255</th>\n",
              "      <td>Belo Horizonte</td>\n",
              "      <td>155</td>\n",
              "      <td>1</td>\n",
              "      <td>4</td>\n",
              "      <td>0</td>\n",
              "      <td>4</td>\n",
              "      <td>not acept</td>\n",
              "      <td>not furnished</td>\n",
              "      <td>1117000</td>\n",
              "      <td>2790</td>\n",
              "      <td>64</td>\n",
              "      <td>38</td>\n",
              "      <td>1120000</td>\n",
              "    </tr>\n",
              "    <tr>\n",
              "      <th>2397</th>\n",
              "      <td>Belo Horizonte</td>\n",
              "      <td>46335</td>\n",
              "      <td>4</td>\n",
              "      <td>8</td>\n",
              "      <td>5</td>\n",
              "      <td>11</td>\n",
              "      <td>acept</td>\n",
              "      <td>furnished</td>\n",
              "      <td>960</td>\n",
              "      <td>8500</td>\n",
              "      <td>646</td>\n",
              "      <td>114</td>\n",
              "      <td>10220</td>\n",
              "    </tr>\n",
              "    <tr>\n",
              "      <th>2859</th>\n",
              "      <td>São Paulo</td>\n",
              "      <td>285</td>\n",
              "      <td>4</td>\n",
              "      <td>5</td>\n",
              "      <td>4</td>\n",
              "      <td>6</td>\n",
              "      <td>acept</td>\n",
              "      <td>furnished</td>\n",
              "      <td>200000</td>\n",
              "      <td>20000</td>\n",
              "      <td>1834</td>\n",
              "      <td>254</td>\n",
              "      <td>222100</td>\n",
              "    </tr>\n",
              "    <tr>\n",
              "      <th>5915</th>\n",
              "      <td>São Paulo</td>\n",
              "      <td>24606</td>\n",
              "      <td>5</td>\n",
              "      <td>4</td>\n",
              "      <td>4</td>\n",
              "      <td>12</td>\n",
              "      <td>acept</td>\n",
              "      <td>not furnished</td>\n",
              "      <td>2254</td>\n",
              "      <td>8100</td>\n",
              "      <td>7859</td>\n",
              "      <td>103</td>\n",
              "      <td>18320</td>\n",
              "    </tr>\n",
              "    <tr>\n",
              "      <th>6230</th>\n",
              "      <td>São Paulo</td>\n",
              "      <td>340</td>\n",
              "      <td>5</td>\n",
              "      <td>4</td>\n",
              "      <td>2</td>\n",
              "      <td>7</td>\n",
              "      <td>acept</td>\n",
              "      <td>not furnished</td>\n",
              "      <td>220000</td>\n",
              "      <td>12000</td>\n",
              "      <td>1000</td>\n",
              "      <td>153</td>\n",
              "      <td>233200</td>\n",
              "    </tr>\n",
              "    <tr>\n",
              "      <th>6645</th>\n",
              "      <td>São Paulo</td>\n",
              "      <td>42</td>\n",
              "      <td>1</td>\n",
              "      <td>2</td>\n",
              "      <td>1</td>\n",
              "      <td>6</td>\n",
              "      <td>not acept</td>\n",
              "      <td>not furnished</td>\n",
              "      <td>690</td>\n",
              "      <td>2500</td>\n",
              "      <td>313700</td>\n",
              "      <td>32</td>\n",
              "      <td>316900</td>\n",
              "    </tr>\n",
              "    <tr>\n",
              "      <th>6979</th>\n",
              "      <td>Belo Horizonte</td>\n",
              "      <td>155</td>\n",
              "      <td>1</td>\n",
              "      <td>4</td>\n",
              "      <td>0</td>\n",
              "      <td>4</td>\n",
              "      <td>not acept</td>\n",
              "      <td>not furnished</td>\n",
              "      <td>1117000</td>\n",
              "      <td>2790</td>\n",
              "      <td>64</td>\n",
              "      <td>38</td>\n",
              "      <td>1120000</td>\n",
              "    </tr>\n",
              "    <tr>\n",
              "      <th>9241</th>\n",
              "      <td>Campinas</td>\n",
              "      <td>12732</td>\n",
              "      <td>3</td>\n",
              "      <td>2</td>\n",
              "      <td>0</td>\n",
              "      <td>3</td>\n",
              "      <td>acept</td>\n",
              "      <td>not furnished</td>\n",
              "      <td>700</td>\n",
              "      <td>1600</td>\n",
              "      <td>96</td>\n",
              "      <td>21</td>\n",
              "      <td>2417</td>\n",
              "    </tr>\n",
              "  </tbody>\n",
              "</table>\n",
              "</div>"
            ],
            "text/plain": [
              "                city   area  ...  fire insurance (R$)  total (R$)\n",
              "255   Belo Horizonte    155  ...                   38     1120000\n",
              "2397  Belo Horizonte  46335  ...                  114       10220\n",
              "2859       São Paulo    285  ...                  254      222100\n",
              "5915       São Paulo  24606  ...                  103       18320\n",
              "6230       São Paulo    340  ...                  153      233200\n",
              "6645       São Paulo     42  ...                   32      316900\n",
              "6979  Belo Horizonte    155  ...                   38     1120000\n",
              "9241        Campinas  12732  ...                   21        2417\n",
              "\n",
              "[8 rows x 13 columns]"
            ]
          },
          "metadata": {
            "tags": []
          },
          "execution_count": 30
        }
      ]
    },
    {
      "cell_type": "code",
      "metadata": {
        "colab": {
          "base_uri": "https://localhost:8080/"
        },
        "id": "yfkhmhD_pJwA",
        "outputId": "e0f6f45d-64ab-4996-a1b6-a098b503d3ff"
      },
      "source": [
        "df.loc[255]"
      ],
      "execution_count": null,
      "outputs": [
        {
          "output_type": "execute_result",
          "data": {
            "text/plain": [
              "city                   Belo Horizonte\n",
              "area                              155\n",
              "rooms                               1\n",
              "bathroom                            4\n",
              "parking spaces                      0\n",
              "floor                               4\n",
              "animal                      not acept\n",
              "furniture               not furnished\n",
              "hoa (R$)                      1117000\n",
              "rent amount (R$)                 2790\n",
              "property tax (R$)                  64\n",
              "fire insurance (R$)                38\n",
              "total (R$)                    1120000\n",
              "Name: 255, dtype: object"
            ]
          },
          "metadata": {
            "tags": []
          },
          "execution_count": 31
        }
      ]
    },
    {
      "cell_type": "markdown",
      "metadata": {
        "id": "2Y211RNOpAqF"
      },
      "source": [
        "Este é uma exemplo de outlier, em que:\n",
        "* hoa (R$) =                     1117000\n",
        "\n",
        "* total (R$) = 1220000\n",
        "\n",
        "* rent amount (R$)      =           2790"
      ]
    },
    {
      "cell_type": "code",
      "metadata": {
        "colab": {
          "base_uri": "https://localhost:8080/",
          "height": 748
        },
        "id": "x9GFpgj3YVAO",
        "outputId": "1667fa88-e580-4602-f35f-2002656ff93f"
      },
      "source": [
        "plt.figure(figsize=(12,12))\n",
        "sns.set(style='white')\n",
        "sns.scatterplot(x=df['area'], y=df['total (R$)'])\n",
        "sns.regplot(x=df['area'], y=df['total (R$)'])"
      ],
      "execution_count": null,
      "outputs": [
        {
          "output_type": "execute_result",
          "data": {
            "text/plain": [
              "<matplotlib.axes._subplots.AxesSubplot at 0x7fc553d28c10>"
            ]
          },
          "metadata": {
            "tags": []
          },
          "execution_count": 32
        },
        {
          "output_type": "display_data",
          "data": {
            "image/png": "[encoded data removed]",
            "text/plain": [
              "<Figure size 864x864 with 1 Axes>"
            ]
          },
          "metadata": {
            "tags": []
          }
        }
      ]
    },
    {
      "cell_type": "markdown",
      "metadata": {
        "id": "0_qroOBsVLZk"
      },
      "source": [
        "Resultados: \n",
        "* A base de dados possui outliers. "
      ]
    },
    {
      "cell_type": "markdown",
      "metadata": {
        "id": "945AAsvBhzkt"
      },
      "source": [
        "#### Qual é a correlação entre cada atributo?"
      ]
    },
    {
      "cell_type": "code",
      "metadata": {
        "colab": {
          "base_uri": "https://localhost:8080/"
        },
        "id": "GCnNVaC8h5dW",
        "outputId": "7e3f050a-53a4-4cfb-8f1d-0c502297b774"
      },
      "source": [
        "correlacao = df.corr()\n",
        "plt.figure(figsize =(10,10))\n",
        "sns.heatmap(correlacao,annot =True)\n",
        "plt.show()\n",
        "print('\\n\\n\\n')\n",
        "print(correlacao['rent amount (R$)'].sort_values(ascending=False))"
      ],
      "execution_count": null,
      "outputs": [
        {
          "output_type": "display_data",
          "data": {
            "image/png": "[encoded data removed]",
            "text/plain": [
              "<Figure size 720x720 with 2 Axes>"
            ]
          },
          "metadata": {
            "tags": []
          }
        },
        {
          "output_type": "stream",
          "text": [
            "\n",
            "\n",
            "\n",
            "\n",
            "rent amount (R$)       1.000000\n",
            "fire insurance (R$)    0.987343\n",
            "bathroom               0.668504\n",
            "parking spaces         0.578361\n",
            "rooms                  0.541758\n",
            "total (R$)             0.264490\n",
            "area                   0.180742\n",
            "property tax (R$)      0.107884\n",
            "hoa (R$)               0.036490\n",
            "Name: rent amount (R$), dtype: float64\n"
          ],
          "name": "stdout"
        }
      ]
    },
    {
      "cell_type": "markdown",
      "metadata": {
        "id": "Lt3eCDzOkf6y"
      },
      "source": [
        "O mapa de calor sugere que o valor do aluguel tem baixa correlação linear com o valor do condomínio, em quanto que com \"fire insurance\" apresenta uma correlação muito forte"
      ]
    },
    {
      "cell_type": "markdown",
      "metadata": {
        "id": "7l07uAfvWrC1"
      },
      "source": [
        "#Possíveis problemas encontrados na base de dados\n",
        "\n"
      ]
    },
    {
      "cell_type": "markdown",
      "metadata": {
        "id": "gz6ryiuq8bUR"
      },
      "source": [
        "**Floor**\n",
        "* Alguns campos da coluna \"floor\" possuem valor \"-\". Pela análises realizadas, vamos considerar que esses valores representam o térreo. Uma solução, é subistituir \"-\" por \"0\".\n",
        "\n",
        "**Outliers**:\n",
        "* É razoável o fato de que exista outliers na base de dado, pricipalmente se levarmos em consideração a forma de extração. Entretanto, faz-se necessário remover alguns desses dados. \n",
        "\n",
        "**Duplicates:**\n",
        "* A base de dados possui dados duplicados. É necessário remover.\n",
        "\n",
        "**Valores discrepantes:**\n",
        "* É possível que a base possua valores discrepantes, que não condizem com a realidade. Podem ter sugido por causa de erros na extração dos dados ou erro de digitação (dos usuários do Quinto Andar). Uma possível solução é a remoção de alguns outliers, mas isso não garante que todos os valores disrepencates serão removidos. Em relação aos valores discrepantes que sobrarem, nada podemos fazer."
      ]
    },
    {
      "cell_type": "markdown",
      "metadata": {
        "id": "rpmMeqJ5m6wB"
      },
      "source": [
        "# Sugestão de variáveis para serem utilizadas na implementação\n",
        "As células abaixo foram repassadas tanto para o Engenheiro de Conhecimento quanto para o Gerente."
      ]
    },
    {
      "cell_type": "markdown",
      "metadata": {
        "id": "nso1IL5F9BjN"
      },
      "source": [
        "## Limpeza dos dados (Resolução de problemas)"
      ]
    },
    {
      "cell_type": "code",
      "metadata": {
        "id": "6inI9azqnrgR"
      },
      "source": [
        "#Leitura dos dados\n",
        "df = pd.read_csv('/content/houses_to_rent_v2.csv')"
      ],
      "execution_count": null,
      "outputs": []
    },
    {
      "cell_type": "markdown",
      "metadata": {
        "id": "ikddXCJV9F2h"
      },
      "source": [
        "#### Floor\n",
        "\n",
        "Alguns campos da coluna \"floor\" possuem valor \"-\". Pelas análises realizadas, vamos considerar que esses valores representam o térreo. Assim, uma solução, é subistituir \"-\" por \"0\"."
      ]
    },
    {
      "cell_type": "code",
      "metadata": {
        "colab": {
          "base_uri": "https://localhost:8080/",
          "height": 572
        },
        "id": "IEnDZ9Gd3f7o",
        "outputId": "1f1be322-0193-43b1-97c0-2b281d9b6036"
      },
      "source": [
        "#Solução: substituição de '-' por '0'\n",
        "df.floor.replace(to_replace={\"-\": '0'}, inplace=True)\n",
        "df.loc[df['floor']=='0']"
      ],
      "execution_count": null,
      "outputs": [
        {
          "output_type": "execute_result",
          "data": {
            "text/html": [
              "<div>\n",
              "<style scoped>\n",
              "    .dataframe tbody tr th:only-of-type {\n",
              "        vertical-align: middle;\n",
              "    }\n",
              "\n",
              "    .dataframe tbody tr th {\n",
              "        vertical-align: top;\n",
              "    }\n",
              "\n",
              "    .dataframe thead th {\n",
              "        text-align: right;\n",
              "    }\n",
              "</style>\n",
              "<table border=\"1\" class=\"dataframe\">\n",
              "  <thead>\n",
              "    <tr style=\"text-align: right;\">\n",
              "      <th></th>\n",
              "      <th>city</th>\n",
              "      <th>area</th>\n",
              "      <th>rooms</th>\n",
              "      <th>bathroom</th>\n",
              "      <th>parking spaces</th>\n",
              "      <th>floor</th>\n",
              "      <th>animal</th>\n",
              "      <th>furniture</th>\n",
              "      <th>hoa (R$)</th>\n",
              "      <th>rent amount (R$)</th>\n",
              "      <th>property tax (R$)</th>\n",
              "      <th>fire insurance (R$)</th>\n",
              "      <th>total (R$)</th>\n",
              "    </tr>\n",
              "  </thead>\n",
              "  <tbody>\n",
              "    <tr>\n",
              "      <th>5</th>\n",
              "      <td>São Paulo</td>\n",
              "      <td>376</td>\n",
              "      <td>3</td>\n",
              "      <td>3</td>\n",
              "      <td>7</td>\n",
              "      <td>0</td>\n",
              "      <td>acept</td>\n",
              "      <td>not furnished</td>\n",
              "      <td>0</td>\n",
              "      <td>8000</td>\n",
              "      <td>834</td>\n",
              "      <td>121</td>\n",
              "      <td>8955</td>\n",
              "    </tr>\n",
              "    <tr>\n",
              "      <th>15</th>\n",
              "      <td>Campinas</td>\n",
              "      <td>330</td>\n",
              "      <td>4</td>\n",
              "      <td>6</td>\n",
              "      <td>6</td>\n",
              "      <td>0</td>\n",
              "      <td>acept</td>\n",
              "      <td>furnished</td>\n",
              "      <td>680</td>\n",
              "      <td>8000</td>\n",
              "      <td>328</td>\n",
              "      <td>121</td>\n",
              "      <td>9129</td>\n",
              "    </tr>\n",
              "    <tr>\n",
              "      <th>19</th>\n",
              "      <td>São Paulo</td>\n",
              "      <td>600</td>\n",
              "      <td>4</td>\n",
              "      <td>5</td>\n",
              "      <td>6</td>\n",
              "      <td>0</td>\n",
              "      <td>acept</td>\n",
              "      <td>not furnished</td>\n",
              "      <td>0</td>\n",
              "      <td>12000</td>\n",
              "      <td>9500</td>\n",
              "      <td>181</td>\n",
              "      <td>21680</td>\n",
              "    </tr>\n",
              "    <tr>\n",
              "      <th>20</th>\n",
              "      <td>São Paulo</td>\n",
              "      <td>100</td>\n",
              "      <td>7</td>\n",
              "      <td>4</td>\n",
              "      <td>0</td>\n",
              "      <td>0</td>\n",
              "      <td>acept</td>\n",
              "      <td>not furnished</td>\n",
              "      <td>0</td>\n",
              "      <td>3800</td>\n",
              "      <td>118</td>\n",
              "      <td>58</td>\n",
              "      <td>3976</td>\n",
              "    </tr>\n",
              "    <tr>\n",
              "      <th>23</th>\n",
              "      <td>São Paulo</td>\n",
              "      <td>35</td>\n",
              "      <td>1</td>\n",
              "      <td>1</td>\n",
              "      <td>0</td>\n",
              "      <td>0</td>\n",
              "      <td>acept</td>\n",
              "      <td>not furnished</td>\n",
              "      <td>0</td>\n",
              "      <td>1100</td>\n",
              "      <td>3</td>\n",
              "      <td>14</td>\n",
              "      <td>1117</td>\n",
              "    </tr>\n",
              "    <tr>\n",
              "      <th>...</th>\n",
              "      <td>...</td>\n",
              "      <td>...</td>\n",
              "      <td>...</td>\n",
              "      <td>...</td>\n",
              "      <td>...</td>\n",
              "      <td>...</td>\n",
              "      <td>...</td>\n",
              "      <td>...</td>\n",
              "      <td>...</td>\n",
              "      <td>...</td>\n",
              "      <td>...</td>\n",
              "      <td>...</td>\n",
              "      <td>...</td>\n",
              "    </tr>\n",
              "    <tr>\n",
              "      <th>10659</th>\n",
              "      <td>Campinas</td>\n",
              "      <td>150</td>\n",
              "      <td>3</td>\n",
              "      <td>2</td>\n",
              "      <td>4</td>\n",
              "      <td>0</td>\n",
              "      <td>acept</td>\n",
              "      <td>furnished</td>\n",
              "      <td>0</td>\n",
              "      <td>3500</td>\n",
              "      <td>186</td>\n",
              "      <td>53</td>\n",
              "      <td>3739</td>\n",
              "    </tr>\n",
              "    <tr>\n",
              "      <th>10661</th>\n",
              "      <td>Campinas</td>\n",
              "      <td>250</td>\n",
              "      <td>1</td>\n",
              "      <td>2</td>\n",
              "      <td>2</td>\n",
              "      <td>0</td>\n",
              "      <td>acept</td>\n",
              "      <td>not furnished</td>\n",
              "      <td>0</td>\n",
              "      <td>2200</td>\n",
              "      <td>602</td>\n",
              "      <td>34</td>\n",
              "      <td>2836</td>\n",
              "    </tr>\n",
              "    <tr>\n",
              "      <th>10668</th>\n",
              "      <td>São Paulo</td>\n",
              "      <td>24</td>\n",
              "      <td>1</td>\n",
              "      <td>1</td>\n",
              "      <td>0</td>\n",
              "      <td>0</td>\n",
              "      <td>acept</td>\n",
              "      <td>not furnished</td>\n",
              "      <td>0</td>\n",
              "      <td>870</td>\n",
              "      <td>0</td>\n",
              "      <td>14</td>\n",
              "      <td>884</td>\n",
              "    </tr>\n",
              "    <tr>\n",
              "      <th>10674</th>\n",
              "      <td>Rio de Janeiro</td>\n",
              "      <td>135</td>\n",
              "      <td>4</td>\n",
              "      <td>2</td>\n",
              "      <td>1</td>\n",
              "      <td>0</td>\n",
              "      <td>acept</td>\n",
              "      <td>not furnished</td>\n",
              "      <td>0</td>\n",
              "      <td>3300</td>\n",
              "      <td>115</td>\n",
              "      <td>51</td>\n",
              "      <td>3466</td>\n",
              "    </tr>\n",
              "    <tr>\n",
              "      <th>10691</th>\n",
              "      <td>São Paulo</td>\n",
              "      <td>80</td>\n",
              "      <td>2</td>\n",
              "      <td>1</td>\n",
              "      <td>0</td>\n",
              "      <td>0</td>\n",
              "      <td>acept</td>\n",
              "      <td>not furnished</td>\n",
              "      <td>0</td>\n",
              "      <td>1400</td>\n",
              "      <td>165</td>\n",
              "      <td>22</td>\n",
              "      <td>1587</td>\n",
              "    </tr>\n",
              "  </tbody>\n",
              "</table>\n",
              "<p>2461 rows × 13 columns</p>\n",
              "</div>"
            ],
            "text/plain": [
              "                 city  area  ...  fire insurance (R$)  total (R$)\n",
              "5           São Paulo   376  ...                  121        8955\n",
              "15           Campinas   330  ...                  121        9129\n",
              "19          São Paulo   600  ...                  181       21680\n",
              "20          São Paulo   100  ...                   58        3976\n",
              "23          São Paulo    35  ...                   14        1117\n",
              "...               ...   ...  ...                  ...         ...\n",
              "10659        Campinas   150  ...                   53        3739\n",
              "10661        Campinas   250  ...                   34        2836\n",
              "10668       São Paulo    24  ...                   14         884\n",
              "10674  Rio de Janeiro   135  ...                   51        3466\n",
              "10691       São Paulo    80  ...                   22        1587\n",
              "\n",
              "[2461 rows x 13 columns]"
            ]
          },
          "metadata": {
            "tags": []
          },
          "execution_count": 35
        }
      ]
    },
    {
      "cell_type": "markdown",
      "metadata": {
        "id": "LH_Jcw6m9WfY"
      },
      "source": [
        "#### Duplicates:\n",
        "\n",
        "A base de dados possui dados duplicados. É necessário remover."
      ]
    },
    {
      "cell_type": "code",
      "metadata": {
        "colab": {
          "base_uri": "https://localhost:8080/"
        },
        "id": "m0ZeHfRS9gI8",
        "outputId": "f0834c17-dba2-4e68-eac0-74329e3bc197"
      },
      "source": [
        "#Estrutura original\n",
        "df.shape"
      ],
      "execution_count": null,
      "outputs": [
        {
          "output_type": "execute_result",
          "data": {
            "text/plain": [
              "(10692, 13)"
            ]
          },
          "metadata": {
            "tags": []
          },
          "execution_count": 42
        }
      ]
    },
    {
      "cell_type": "code",
      "metadata": {
        "id": "ctVuLcT4O3p3"
      },
      "source": [
        "#Remoção de duplicates\n",
        "df.drop_duplicates(keep= 'first', inplace=True)"
      ],
      "execution_count": null,
      "outputs": []
    },
    {
      "cell_type": "code",
      "metadata": {
        "colab": {
          "base_uri": "https://localhost:8080/"
        },
        "id": "ECcPmmv6PADG",
        "outputId": "f146c9f3-66c9-4f2f-e95e-041e67e580f2"
      },
      "source": [
        "#Estrutura após a remoção de linhas duplicadas\n",
        "df.shape"
      ],
      "execution_count": null,
      "outputs": [
        {
          "output_type": "execute_result",
          "data": {
            "text/plain": [
              "(10334, 13)"
            ]
          },
          "metadata": {
            "tags": []
          },
          "execution_count": 44
        }
      ]
    },
    {
      "cell_type": "markdown",
      "metadata": {
        "id": "agui3uPs9puB"
      },
      "source": [
        "#### Outliers:\n",
        "\n",
        "É razoável o fato de que exista outliers na base de dados, principalmente se levarmos em consideração a forma de extração. Entretanto, faz-se necessário remover alguns desses dados."
      ]
    },
    {
      "cell_type": "code",
      "metadata": {
        "colab": {
          "base_uri": "https://localhost:8080/"
        },
        "id": "0aHKllKl9scj",
        "outputId": "6b726e0a-d694-4338-b751-7954d63e82e5"
      },
      "source": [
        "#Remoção de outliers em \"total (R$)\", \"hoa (R$)\", \"rent amount (R$)\" e \"area\"\n",
        "\n",
        "row_remove = []\n",
        "row_remove.append(list(df.loc[df['total (R$)']>100000].index))\n",
        "row_remove.append(list(df.loc[df['hoa (R$)']>100000].index))\n",
        "row_remove.append(list(df.loc[df['rent amount (R$)']>20000].index))\n",
        "row_remove.append(list(df.loc[df['area']>10000].index))\n",
        "row_remove"
      ],
      "execution_count": null,
      "outputs": [
        {
          "output_type": "execute_result",
          "data": {
            "text/plain": [
              "[[255, 2859, 6230, 6645],\n",
              " [255, 2859, 6230],\n",
              " [2182, 2619, 6947, 7748],\n",
              " [2397, 5915, 9241]]"
            ]
          },
          "metadata": {
            "tags": []
          },
          "execution_count": 13
        }
      ]
    },
    {
      "cell_type": "code",
      "metadata": {
        "colab": {
          "base_uri": "https://localhost:8080/"
        },
        "id": "xfOI7uVhDHyR",
        "outputId": "1e3af22d-9b9f-40ea-a562-09f71e8599d8"
      },
      "source": [
        "#Estrutura original\n",
        "df.shape"
      ],
      "execution_count": null,
      "outputs": [
        {
          "output_type": "execute_result",
          "data": {
            "text/plain": [
              "(10334, 13)"
            ]
          },
          "metadata": {
            "tags": []
          },
          "execution_count": 14
        }
      ]
    },
    {
      "cell_type": "code",
      "metadata": {
        "id": "JyljIl-1CKlG"
      },
      "source": [
        "lista_indices = []\n",
        "for indices in row_remove:\n",
        "  for index in indices:\n",
        "    lista_indices.append(index)\n",
        "df.drop(df.index[lista_indices], inplace=True)"
      ],
      "execution_count": null,
      "outputs": []
    },
    {
      "cell_type": "code",
      "metadata": {
        "colab": {
          "base_uri": "https://localhost:8080/"
        },
        "id": "xWDvgQMXDHOh",
        "outputId": "23743e1f-1a77-4faf-d511-9cddb474f1ad"
      },
      "source": [
        "#Estrutura após exclusão\n",
        "df.shape"
      ],
      "execution_count": null,
      "outputs": [
        {
          "output_type": "execute_result",
          "data": {
            "text/plain": [
              "(10323, 13)"
            ]
          },
          "metadata": {
            "tags": []
          },
          "execution_count": 16
        }
      ]
    },
    {
      "cell_type": "markdown",
      "metadata": {
        "id": "c7RfGvd0DwFf"
      },
      "source": [
        "##Seleção de variáveis"
      ]
    },
    {
      "cell_type": "markdown",
      "metadata": {
        "id": "rNqW0oOWhQgg"
      },
      "source": [
        "Em um recente estudo, o QuintoAndar verificou o comportamento dos usuários ao buscar imóveis cadastrados na plataforma de acordo com os filtros usados. \n",
        "\n",
        "Do total das buscas realizadas em 2020:\n",
        "* 23% possuía o filtro \"Pode ter animais de estimação\";\n",
        "* 14% possuía o filtro \"Mobiliado\";\n",
        "* 10% possuía o filtro \"Não mobiliado\";\n",
        "\n",
        "Além disso, principalmente com base na análise exploratória dos dados, é possível afimar que o valor do aluguel, bem como o número de quartos são fatores relevantes.\n",
        "\n",
        "Sendo assim, como variáveis de entrada, é recomendado uso da combinação dos valores das colunas \"animal\", \"furniture\", \"rent amount (R$)\" e \"rooms\".\n",
        "<br/>\n",
        "<br/><br/>\n",
        "**Referências:**\n",
        "* [Conheça os filtros oferecidos pelo QuintoAndar pra você buscar o seu imóvel ideal](https://meulugar.quintoandar.com.br/buscar-imoveis-no-quintoandar-conheca-os-principais-filtros-de-pesquisa/)\n",
        "* [QuintoAndar traça comportamento de usuários da plataforma por meio de seus filtros de busca](https://meulugar.quintoandar.com.br/quintoandar-identifica-comportamento-de-usuarios-ao-buscar-imovel/)\n",
        "* [5 dicas para escolher o imóvel certo para alugar](https://financaspessoais.organizze.com.br/5-dicas-para-escolher-o-imovel-certo-para-alugar/)\n"
      ]
    }
  ]
}