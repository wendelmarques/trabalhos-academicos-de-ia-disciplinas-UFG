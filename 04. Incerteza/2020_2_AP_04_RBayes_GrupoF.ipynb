{
  "nbformat": 4,
  "nbformat_minor": 0,
  "metadata": {
    "colab": {
      "name": "2020.2_AP_04_RBayes_GrupoF_WendelMarques.ipynb",
      "provenance": [],
      "collapsed_sections": [
        "UGx1isXhsUu2",
        "AgOiENPBExaT"
      ]
    },
    "kernelspec": {
      "name": "python3",
      "display_name": "Python 3"
    },
    "language_info": {
      "name": "python"
    }
  },
  "cells": [
    {
      "cell_type": "markdown",
      "metadata": {
        "id": "mLKPZajBKe3L"
      },
      "source": [
        "**Instituto de Informática - UFG**\n",
        "\n",
        "Disciplina: Inteligência Artificial\n",
        "\n",
        "Prof. Cedric Luiz de Carvalho\n",
        "\n",
        "---\n",
        "\n",
        "Aluna(o): Wendel Marques de Jesus Souza\n",
        "\n",
        "---\n",
        "\n",
        "Grupo (F)\n",
        "\n",
        "---\n",
        "\n",
        "Papel no grupo: Engenheiro de Conhecimento\n",
        "\n",
        "---"
      ]
    },
    {
      "cell_type": "markdown",
      "metadata": {
        "id": "o_bZhd8FMiSa"
      },
      "source": [
        "##Especificação do problema : Incerteza"
      ]
    },
    {
      "cell_type": "markdown",
      "metadata": {
        "id": "YTE0x5IrTiwN"
      },
      "source": [
        "As doenças cardiovasculares são a maior causa de morte no planeta. Milhões de pessoas morrem anualmente por problemas cardíacos.  O assunto tem sido objeto de pesquisa tanto na academia quanto na indústria. Por exemplo, [Saheki e outros](http://sites.poli.usp.br/p/fabio.cozman/Publications/Article/saheki-sharovsky-cozman-coupe-enia2003.pdf) desenvolveram uma rede bayesiana para tratar do assunto.\n",
        "\n",
        "A partir do estudo de trabalhos já desenvolvidos e da [base de dados](https://www.kaggle.com/andrewmvd/heart-failure-clinical-data) disponibilizada, construa uma rede bayesiana que permita fazer predições de óbitos por essas doenças.\n",
        "\n",
        "**Observação**: O trabalho deve ser feito em grupo, mas a avaliação será feita individualmente. O grupo deve dividir o trabalho de forma que um dos membros implemente uma análise exploratória dos dados e o outro se encarregue de implementar o modelo, o qual deve ser definido em conjunto pelo grupo.\n"
      ]
    },
    {
      "cell_type": "markdown",
      "metadata": {
        "id": "UX618MS7CVUl"
      },
      "source": [
        "## Instruções de uso\n",
        "\n"
      ]
    },
    {
      "cell_type": "markdown",
      "metadata": {
        "id": "xu-Ue28U6NM2"
      },
      "source": [
        "\n",
        "Para que seja possível utilizar o modelo, antes de tudo deve-se criar uma conta do Google ($accounts.google.com$). Em seguida, se necessário, salve o arquivo $.ipynb$ no Google Drive. Após isso, abra o arquivo com Google Colaboratory.\n",
        "\n",
        "\n",
        "Siga os passos abaixo:\n",
        "\n",
        "* Bibliotecas necessárias: Excute a célula dessa seção para carregar as bibliotecas necessárias.\n",
        "\n",
        "* Upload de arquivo - Realize o $upload$ da base de dados para o sistema de arquivos local. Execute a célula em questão e clique em *Escolher arquivos*. Em seguida selecione a base de dados. \n",
        "\n",
        "* Preparação dos dados - Todas conversões e limpeza são realizadas nessa etapa. Gera os conjuntos de dados para a implementação do modelo.\n",
        "\n",
        "* Implementação do modelo - Etapa em que a bayesiana é criada.\n",
        "\n",
        "* Arquitetura da rede - Execute as células dessa seção para obter informações sobre a arquitetura da rede. \n"
      ]
    },
    {
      "cell_type": "markdown",
      "metadata": {
        "id": "CtjeyPswr4cS"
      },
      "source": [
        "##Informações gerais"
      ]
    },
    {
      "cell_type": "markdown",
      "metadata": {
        "id": "UGx1isXhsUu2"
      },
      "source": [
        "###Balanceamento"
      ]
    },
    {
      "cell_type": "markdown",
      "metadata": {
        "id": "P6Snc2yTstwx"
      },
      "source": [
        "Cogitamos o uso da técnica de Random Undersampling para realizar o desbalanceamento das classes. A técnica exclui aleatoriamente exemplos da classe majoritária. Apesar da base já ser pequena, cogitamos seu uso pelo fato do SMOTE gera amostras sintéticas fora do padrão. Além disso, o modelo Naive Bayes lida muito bem com uma base de dados pequena.\n",
        "\n",
        "Considerando isso e os resultados da análise exploratória do dados, testamos o seu uso, mas os resultado não foram satisfatórios. "
      ]
    },
    {
      "cell_type": "code",
      "metadata": {
        "colab": {
          "base_uri": "https://localhost:8080/"
        },
        "id": "qFG7o7bBCc-y",
        "outputId": "6881c2e8-bbd8-4d13-b573-89cb4ac4449a"
      },
      "source": [
        "df_exemplos = pd.read_csv('heart_failure_clinical_records_dataset.csv')\n",
        "y = df_exemplos['DEATH_EVENT']\n",
        "print(pd.Series(y).value_counts())\n",
        "print('\\n\\n')\n",
        " \n",
        "#Plota a distribuição da classe target\n",
        "sns.countplot(y)"
      ],
      "execution_count": null,
      "outputs": [
        {
          "output_type": "stream",
          "text": [
            "0    203\n",
            "1     96\n",
            "Name: DEATH_EVENT, dtype: int64\n",
            "\n",
            "\n",
            "\n"
          ],
          "name": "stdout"
        },
        {
          "output_type": "execute_result",
          "data": {
            "text/plain": [
              "<matplotlib.axes._subplots.AxesSubplot at 0x7f9fc2e1f790>"
            ]
          },
          "metadata": {
            "tags": []
          },
          "execution_count": 3
        },
        {
          "output_type": "display_data",
          "data": {
            "image/png": "[encoded data removed]",
            "text/plain": [
              "<Figure size 432x288 with 1 Axes>"
            ]
          },
          "metadata": {
            "tags": [],
            "needs_background": "light"
          }
        }
      ]
    },
    {
      "cell_type": "code",
      "metadata": {
        "id": "OBinVgcfVidm"
      },
      "source": [
        "#### Este código seria responsavel realizar o balancemento das classes\n",
        "\n",
        "# instantiating the random undersampler\n",
        "# rus = RandomUnderSampler() \n",
        "# # resampling X, y\n",
        "# x_train, y_train = rus.fit_sample(x_train, y_train)"
      ],
      "execution_count": null,
      "outputs": []
    },
    {
      "cell_type": "markdown",
      "metadata": {
        "id": "AgOiENPBExaT"
      },
      "source": [
        "### Discretização"
      ]
    },
    {
      "cell_type": "markdown",
      "metadata": {
        "id": "pSRLOcDhFFYk"
      },
      "source": [
        "A discretização fornece uma maneira de particionar recursos contínuos em valores discretos. \n",
        "\n",
        "Utilizamos o [KBinsDiscretizer](https://scikit-learn.org/stable/modules/generated/sklearn.preprocessing.KBinsDiscretizer.html) para dividir os dados contínuos em intervalos.  \n",
        "\n",
        "As manipulações referentes ao processo de discretização foram implementadas com base no trabalho [Comparing performance of 13 Classifiers | F1-score](https://www.kaggle.com/para24/comparing-performance-of-13-classifiers-f1-score). As funções to_categorical e return_categoricals, que são responsáveis por detectar colunas do tipo \"category\" e converter colunas para esse mesmo tipo, foram utilizadas na integra.\n",
        "  \n",
        " "
      ]
    },
    {
      "cell_type": "markdown",
      "metadata": {
        "id": "FDVsum4t0573"
      },
      "source": [
        "### Modelo Utilizado"
      ]
    },
    {
      "cell_type": "markdown",
      "metadata": {
        "id": "az7aLgmc09e2"
      },
      "source": [
        "\n",
        "\n",
        "O classificador Naive Bayes categórico é adequado para classificação com recursos discretos que são categoricamente distribuídos. As categorias de cada recurso são tiradas de uma distribuição categórica. Ele é um classificador ingênuo para dados distribuídos categoricamente. Ele pressupõe que cada recurso, que é descrito pelo índice, tem sua própria distribuição categórica.\n",
        "\n",
        "Como a maioria dos recursos são categóricos e seguem uma distribuição categórica, usaremos o NB Categórico ([CategoricalNB](https://scikit-learn.org/stable/modules/generated/sklearn.naive_bayes.CategoricalNB.html#sklearn.naive_bayes.CategoricalNB)). Os dados continuos serão discretizados."
      ]
    },
    {
      "cell_type": "markdown",
      "metadata": {
        "id": "TFQLZKjQ0ly_"
      },
      "source": [
        "### Seleção de atributos\n"
      ]
    },
    {
      "cell_type": "markdown",
      "metadata": {
        "id": "YoW4PP3l1Zvc"
      },
      "source": [
        "A suposição fundamental feita por Naive Bayes em relação aos dados é a independência condicional de classe dos recursos. Nesse sentido, optamos por utilizar todos os recursos disponíveis. "
      ]
    },
    {
      "cell_type": "markdown",
      "metadata": {
        "id": "VyVzNrgJHoNx"
      },
      "source": [
        "##Bibliotecas necessárias"
      ]
    },
    {
      "cell_type": "code",
      "metadata": {
        "id": "kHXdX2kBFSpL",
        "colab": {
          "base_uri": "https://localhost:8080/"
        },
        "outputId": "c4fd2482-06b6-41d4-ffa4-3c59fb62b097"
      },
      "source": [
        "from google.colab import files\n",
        "import pandas as pd\n",
        "import seaborn as sns\n",
        "import numpy as np\n",
        "from imblearn.over_sampling import SMOTE\n",
        "import warnings\n",
        "warnings.filterwarnings(\"ignore\")\n",
        "from sklearn.compose import ColumnTransformer\n",
        "from sklearn.preprocessing import OneHotEncoder, StandardScaler, LabelEncoder\n",
        "from sklearn.impute import SimpleImputer\n",
        "from sklearn.pipeline import Pipeline \n",
        "from sklearn.naive_bayes import CategoricalNB, GaussianNB \n",
        "from sklearn.preprocessing import KBinsDiscretizer, OrdinalEncoder\n",
        "from sklearn import metrics\n",
        "from sklearn.model_selection import train_test_split\n",
        "from imblearn.under_sampling import RandomUnderSampler\n",
        "from sklearn.naive_bayes import GaussianNB\n",
        "from sklearn.metrics import confusion_matrix, classification_report, roc_auc_score, \\\n",
        "                            precision_recall_curve, roc_curve, accuracy_score\n",
        "import seaborn as sns\n",
        "import matplotlib.pyplot as plt\n",
        "from sklearn.metrics import accuracy_score, plot_confusion_matrix, classification_report, plot_roc_curve\n",
        " "
      ],
      "execution_count": null,
      "outputs": [
        {
          "output_type": "stream",
          "text": [
            "/usr/local/lib/python3.7/dist-packages/sklearn/externals/six.py:31: FutureWarning: The module is deprecated in version 0.21 and will be removed in version 0.23 since we've dropped support for Python 2.7. Please rely on the official version of six (https://pypi.org/project/six/).\n",
            "  \"(https://pypi.org/project/six/).\", FutureWarning)\n",
            "/usr/local/lib/python3.7/dist-packages/sklearn/utils/deprecation.py:144: FutureWarning: The sklearn.neighbors.base module is  deprecated in version 0.22 and will be removed in version 0.24. The corresponding classes / functions should instead be imported from sklearn.neighbors. Anything that cannot be imported from sklearn.neighbors is now part of the private API.\n",
            "  warnings.warn(message, FutureWarning)\n"
          ],
          "name": "stderr"
        }
      ]
    },
    {
      "cell_type": "markdown",
      "metadata": {
        "id": "SVKpmK3y23Au"
      },
      "source": [
        "## Upload de arquivo\n",
        "Realize o upload da base de dados para o sistema de arquivos local. O caminho é automaticamente configurado para o arquivo enviado."
      ]
    },
    {
      "cell_type": "code",
      "metadata": {
        "id": "HeJ4cBHNJBoX",
        "colab": {
          "resources": {
            "http://localhost:8080/nbextensions/google.colab/files.js": {
              "data": "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",
              "ok": true,
              "headers": [
                [
                  "content-type",
                  "application/javascript"
                ]
              ],
              "status": 200,
              "status_text": ""
            }
          },
          "base_uri": "https://localhost:8080/",
          "height": 72
        },
        "outputId": "e5943dad-4e15-4aed-9870-fbf001f97ff2"
      },
      "source": [
        "#Carrega os dados para a plataforma\n",
        "uploaded = files.upload()\n",
        "df = pd.read_csv('heart_failure_clinical_records_dataset.csv')\n"
      ],
      "execution_count": null,
      "outputs": [
        {
          "output_type": "display_data",
          "data": {
            "text/html": [
              "\n",
              "     <input type=\"file\" id=\"files-2c6a4111-3d59-4c20-b110-719aebf21aca\" name=\"files[]\" multiple disabled\n",
              "        style=\"border:none\" />\n",
              "     <output id=\"result-2c6a4111-3d59-4c20-b110-719aebf21aca\">\n",
              "      Upload widget is only available when the cell has been executed in the\n",
              "      current browser session. Please rerun this cell to enable.\n",
              "      </output>\n",
              "      <script src=\"/nbextensions/google.colab/files.js\"></script> "
            ],
            "text/plain": [
              "<IPython.core.display.HTML object>"
            ]
          },
          "metadata": {
            "tags": []
          }
        },
        {
          "output_type": "stream",
          "text": [
            "Saving heart_failure_clinical_records_dataset.csv to heart_failure_clinical_records_dataset.csv\n"
          ],
          "name": "stdout"
        }
      ]
    },
    {
      "cell_type": "markdown",
      "metadata": {
        "id": "e7-CLC_rSu6D"
      },
      "source": [
        "##Preparação dos dados\n",
        "######Limpeza, seleção de amostras, balanceamento e discretização"
      ]
    },
    {
      "cell_type": "code",
      "metadata": {
        "id": "VdDBWz3IM2YI"
      },
      "source": [
        "#Converte as colunas para o tipo de dados \"category\"\n",
        "def to_categorical(columns, df):\n",
        "    for col in columns:\n",
        "        df[col] = df[col].astype('category')\n",
        "    return df\n",
        "\n",
        "#Retorna uma lista de colunas que têm menos ou igual ao número de limite de níveis categóricos únicos\n",
        "def return_categoricals(df, threshold):\n",
        "    return list(filter(lambda c: c if len(df[c].unique()) <= threshold else None,\n",
        "                       df.columns))"
      ],
      "execution_count": null,
      "outputs": []
    },
    {
      "cell_type": "code",
      "metadata": {
        "id": "zhGVBFjEFkQd"
      },
      "source": [
        "#Carrega os dados\n",
        "df = pd.read_csv('heart_failure_clinical_records_dataset.csv')\n",
        "\n",
        "#Eliminavalores missing (caso seja necessário)\n",
        "df.dropna(inplace=True)\n",
        "\n",
        "#Remove de duplicates, se necessário\n",
        "df.drop_duplicates(keep=False, inplace=True)\n",
        "\n",
        "#Recupera uma lista de colunas que possuem um número máximo de 5 níveis categóricos únicos\n",
        "to_cast = return_categoricals(df, threshold=3)\n",
        "#Converte as colunas para o tipo de dados \"category\"\n",
        "df = to_categorical(to_cast, df)\n",
        "\n",
        "#Separa a váriavel target das demais váriaveis \n",
        "x = df.iloc[:, :-1]\n",
        "y = df['DEATH_EVENT']\n",
        "\n",
        "#Construção de uma lista de colunas do tipo \"category\" e \"Numeric\", respectivamente\n",
        "categorical_columns = list(x.select_dtypes(include='category').columns)\n",
        "numeric_columns = list(x.select_dtypes(exclude='category').columns)\n",
        "\n",
        "#Inicio do processo de discretização dos dados\n",
        "##Criação de um Pipeline de transformações \n",
        "numeric_trans_nb = Pipeline(steps=[('kbn', KBinsDiscretizer(n_bins=3, encode='ordinal'))])\n",
        "categorical_trans_nb = Pipeline(steps=[\n",
        "    ('ordinal', OrdinalEncoder(dtype=np.int64))])~\n",
        "\n",
        "#Separação de dados treino e dados de teste\n",
        "#Proporção de 25% para teste\n",
        "x_train, x_test, y_train, y_test = train_test_split(x, y, test_size=0.25, random_state=0, shuffle=True, stratify=y)\n",
        "\n",
        "#Transformador de colunas\n",
        "preprocessor_nb = ColumnTransformer(\n",
        "    transformers=[\n",
        "        ('num', numeric_trans_nb, numeric_columns),\n",
        "        ('cat', categorical_trans_nb, categorical_columns)],\n",
        "    remainder='passthrough')\n",
        "\n",
        "#Aplicação do transformador de colunas\n",
        "x_train = preprocessor_nb.fit_transform(x_train)\n",
        "x_test = preprocessor_nb.transform(x_test) \n",
        "\n"
      ],
      "execution_count": null,
      "outputs": []
    },
    {
      "cell_type": "markdown",
      "metadata": {
        "id": "d8SLO0OZDtNA"
      },
      "source": [
        "##Implementação"
      ]
    },
    {
      "cell_type": "code",
      "metadata": {
        "colab": {
          "base_uri": "https://localhost:8080/",
          "height": 760
        },
        "id": "hCUDiXCqDsp4",
        "outputId": "43f88d17-f466-4de0-8552-fde69981b1b8"
      },
      "source": [
        "#Criando objeto CategoricalNB\n",
        "predict_cardio = CategoricalNB()\n",
        "\n",
        "#Treina o modelo  \n",
        "predict_cardio.fit(x_train,y_train)\n",
        "\n",
        "#Executa a predição no conjunto de teste\n",
        "y_test_pred = predict_cardio.predict(x_test)\n",
        "\n",
        "#Cálculo de métricas de avaliação\n",
        "metricas = accuracy_score(y_test,y_test_pred)\n",
        "\n",
        "#Exibe  métricas de avaliação\n",
        "print(\"======================= RELATÓRIO DE CLASSIFICAÇÃO =======================\\n\")\n",
        "print(f\"Tamanho do Treino: {x_train.shape[0]} amostras\")\n",
        "print(f\"Tamanho do Teste: {x_test.shape[0]} amostras\\n\")\n",
        "print(f\"\\nTaxa de sucesso: {round(metricas*100,2)}%\\n\")\n",
        "print(classification_report(y_test,y_test_pred))\n",
        "print(\"\\n\\n\\n\")\n",
        "\n",
        "#Realiza plotagens \n",
        "print(\"======================= PLOTS =======================\\n\\n\")\n",
        "fig, ax = plt.subplots(1,2,figsize=(12,5))\n",
        "plot_confusion_matrix(predict_cardio,x_test,y_test,cmap='Blues',ax=ax[0])\n",
        "ax[0].set_title(\"Matriz de confusão\",fontsize=16)\n",
        "ax[0].set_xticks([0,0], [\"Heart Not Failed\",\"Heart Fail\"])\n",
        "ax[0].set_yticks([0,1], [\"Heart Not Failed\",\"Heart Fail\"])\n",
        "ax[0].grid(False)\n",
        "\n",
        "plot_roc_curve(predict_cardio,x_test,y_test,ax=ax[1])\n",
        "ax[1].set_title(\"ROC Curve\",fontsize=16)\n",
        "plt.show()\n"
      ],
      "execution_count": null,
      "outputs": [
        {
          "output_type": "stream",
          "text": [
            "======================= RELATÓRIO DE CLASSIFICAÇÃO =======================\n",
            "\n",
            "Tamanho do Treino: 224 amostras\n",
            "Tamanho do Teste: 75 amostras\n",
            "\n",
            "\n",
            "Taxa de sucesso: 82.67%\n",
            "\n",
            "              precision    recall  f1-score   support\n",
            "\n",
            "           0       0.83      0.94      0.88        51\n",
            "           1       0.82      0.58      0.68        24\n",
            "\n",
            "    accuracy                           0.83        75\n",
            "   macro avg       0.83      0.76      0.78        75\n",
            "weighted avg       0.83      0.83      0.82        75\n",
            "\n",
            "\n",
            "\n",
            "\n",
            "\n",
            "======================= PLOTS =======================\n",
            "\n",
            "\n"
          ],
          "name": "stdout"
        },
        {
          "output_type": "display_data",
          "data": {
            "image/png": "[encoded data removed]",
            "text/plain": [
              "<Figure size 864x360 with 3 Axes>"
            ]
          },
          "metadata": {
            "tags": [],
            "needs_background": "light"
          }
        }
      ]
    },
    {
      "cell_type": "markdown",
      "metadata": {
        "id": "uHSOi5ZYkCR5"
      },
      "source": [
        "##Resultados e discussão"
      ]
    },
    {
      "cell_type": "markdown",
      "metadata": {
        "id": "Vy5Qz7Rw8Isg"
      },
      "source": [
        "###Resultados:\n",
        "\n",
        "A matriz de confusão relaciona a classe esperada com a classe obtida pelo modelo, permitindo a análise de erro. Classe 1 significa \"óbito\" e classe 0 significa \"não óbito\". \n",
        "\n",
        "* Os falsos positivos (3 classificações), representa que o algoritmo concluiu que 3 pacientes iriam óbito, sendo que a classificão correta seria de que eles não iriam a óbito. \n",
        "\n",
        "* Os falsos negativos (10 classificações), representa que o algoritmo concluiu que 3 pacientes não iriam óbito, sendo que a classificaão correta seria de que eles iriam a óbito. \n",
        "\n",
        "* accuracy: a matriz de confussão indica que a classificação obteve uma taxa de sucesso igual a 82.67%.\n",
        "\n",
        "* precision: quando ele prevê um \"não óbito\", ele está certo em 83% dos casos; quando ele prevê um \"óbito\", ele está certo em 82% dos casos. \n",
        "\n",
        "* recall: quando a resposta da classe é \"não óbito\", ele classificar corrretamente em 94% dos casos; quando a resposta da classe é \"óbito\", ele classifica corretamente 58% dos casos. \n",
        "\n",
        "* A curva AUC - ROC é uma medida de desempenho para os problemas de classificação. ROC é uma curva de probabilidade e AUC representa o grau ou medida de separabilidade. Quanto mais alta a AUC, melhor o modelo distingue entre pacientes com que iriam a óbito e os pacientes que não iriam a óbito.  Uma AUC próximo de 88% significa que o modelo tem uma boa medida de separabilidade.\n",
        "\n",
        "##Discussão:\n",
        "Embora recall de 58% é preocupante, uma vez que um sistema de predições de óbitos deva detectar quem tem maior probabilidade de falecer para que medidas de intervenção tomadas. Apesar disso, uma precisão de 82% é um bom valor, tendo em vista que 82% vidas poderiam ser salvas.\n"
      ]
    },
    {
      "cell_type": "markdown",
      "metadata": {
        "id": "LXgkORxSc73w"
      },
      "source": [
        "##Arquitetura da rede"
      ]
    },
    {
      "cell_type": "code",
      "metadata": {
        "colab": {
          "base_uri": "https://localhost:8080/"
        },
        "id": "0SFU0NVmdtba",
        "outputId": "142f8f7c-737b-4c8a-f945-38ba64034716"
      },
      "source": [
        "#Exibe a probabilidade das categorias, considerando o respectivo recurso e classe P(x_i|y), onde xi é o recurso e y é a classe\n",
        "\n",
        "columns_name = ['age',\t'anaemia',\t'creatinine_phosphokinase',\t'diabetes',\t'ejection_fraction',\t'high_blood_pressure',\t\n",
        "                'platelets',\t'serum_creatinine',\t'serum_sodium',\t'sex',\t'smoking'\t,'time']\n",
        "count = 0\n",
        "count_2 = 0\n",
        "\n",
        "for amostras in predict_cardio.feature_log_prob_ :\n",
        "  print('=============== '+columns_name[count]+' ===============\\n')\n",
        "  print('\\tClasse \"Não óbito (0)\":')\n",
        "\n",
        "  count_2 = 0\n",
        "  for aux in amostras[0]:\n",
        "    print(f'\\t\\t\\t{count_2}: {round(np.exp(aux)*100,2)}%')\n",
        "    count_2+=1\n",
        "\n",
        "\n",
        "  print('\\n\\tClasse \"Óbito (1)\":')\n",
        "  count_2 = 0\n",
        "  for aux in amostras[1]:\n",
        "    print(f'\\t\\t\\t{count_2}: {round(np.exp(aux)*100,2)}%')\n",
        "    count_2+=1\n",
        "\n",
        "  count+=1\n",
        "  print('\\n')"
      ],
      "execution_count": null,
      "outputs": [
        {
          "output_type": "stream",
          "text": [
            "=============== age ===============\n",
            "\n",
            "\tClasse \"Não óbito (0)\":\n",
            "\t\t\t0: 38.06%\n",
            "\t\t\t1: 29.68%\n",
            "\t\t\t2: 32.26%\n",
            "\n",
            "\tClasse \"Óbito (1)\":\n",
            "\t\t\t0: 24.0%\n",
            "\t\t\t1: 29.33%\n",
            "\t\t\t2: 46.67%\n",
            "\n",
            "\n",
            "=============== anaemia ===============\n",
            "\n",
            "\tClasse \"Não óbito (0)\":\n",
            "\t\t\t0: 35.48%\n",
            "\t\t\t1: 29.03%\n",
            "\t\t\t2: 35.48%\n",
            "\n",
            "\tClasse \"Óbito (1)\":\n",
            "\t\t\t0: 29.33%\n",
            "\t\t\t1: 34.67%\n",
            "\t\t\t2: 36.0%\n",
            "\n",
            "\n",
            "=============== creatinine_phosphokinase ===============\n",
            "\n",
            "\tClasse \"Não óbito (0)\":\n",
            "\t\t\t0: 20.0%\n",
            "\t\t\t1: 33.55%\n",
            "\t\t\t2: 46.45%\n",
            "\n",
            "\tClasse \"Óbito (1)\":\n",
            "\t\t\t0: 58.67%\n",
            "\t\t\t1: 21.33%\n",
            "\t\t\t2: 20.0%\n",
            "\n",
            "\n",
            "=============== diabetes ===============\n",
            "\n",
            "\tClasse \"Não óbito (0)\":\n",
            "\t\t\t0: 30.32%\n",
            "\t\t\t1: 34.84%\n",
            "\t\t\t2: 34.84%\n",
            "\n",
            "\tClasse \"Óbito (1)\":\n",
            "\t\t\t0: 40.0%\n",
            "\t\t\t1: 29.33%\n",
            "\t\t\t2: 30.67%\n",
            "\n",
            "\n",
            "=============== ejection_fraction ===============\n",
            "\n",
            "\tClasse \"Não óbito (0)\":\n",
            "\t\t\t0: 35.48%\n",
            "\t\t\t1: 35.48%\n",
            "\t\t\t2: 29.03%\n",
            "\n",
            "\tClasse \"Óbito (1)\":\n",
            "\t\t\t0: 9.33%\n",
            "\t\t\t1: 28.0%\n",
            "\t\t\t2: 62.67%\n",
            "\n",
            "\n",
            "=============== high_blood_pressure ===============\n",
            "\n",
            "\tClasse \"Não óbito (0)\":\n",
            "\t\t\t0: 20.65%\n",
            "\t\t\t1: 33.55%\n",
            "\t\t\t2: 45.81%\n",
            "\n",
            "\tClasse \"Óbito (1)\":\n",
            "\t\t\t0: 42.67%\n",
            "\t\t\t1: 29.33%\n",
            "\t\t\t2: 28.0%\n",
            "\n",
            "\n",
            "=============== platelets ===============\n",
            "\n",
            "\tClasse \"Não óbito (0)\":\n",
            "\t\t\t0: 17.42%\n",
            "\t\t\t1: 36.77%\n",
            "\t\t\t2: 45.81%\n",
            "\n",
            "\tClasse \"Óbito (1)\":\n",
            "\t\t\t0: 65.33%\n",
            "\t\t\t1: 24.0%\n",
            "\t\t\t2: 10.67%\n",
            "\n",
            "\n",
            "=============== serum_creatinine ===============\n",
            "\n",
            "\tClasse \"Não óbito (0)\":\n",
            "\t\t\t0: 58.44%\n",
            "\t\t\t1: 41.56%\n",
            "\n",
            "\tClasse \"Óbito (1)\":\n",
            "\t\t\t0: 47.3%\n",
            "\t\t\t1: 52.7%\n",
            "\n",
            "\n",
            "=============== serum_sodium ===============\n",
            "\n",
            "\tClasse \"Não óbito (0)\":\n",
            "\t\t\t0: 58.44%\n",
            "\t\t\t1: 41.56%\n",
            "\n",
            "\tClasse \"Óbito (1)\":\n",
            "\t\t\t0: 55.41%\n",
            "\t\t\t1: 44.59%\n",
            "\n",
            "\n",
            "=============== sex ===============\n",
            "\n",
            "\tClasse \"Não óbito (0)\":\n",
            "\t\t\t0: 66.88%\n",
            "\t\t\t1: 33.12%\n",
            "\n",
            "\tClasse \"Óbito (1)\":\n",
            "\t\t\t0: 60.81%\n",
            "\t\t\t1: 39.19%\n",
            "\n",
            "\n",
            "=============== smoking ===============\n",
            "\n",
            "\tClasse \"Não óbito (0)\":\n",
            "\t\t\t0: 33.77%\n",
            "\t\t\t1: 66.23%\n",
            "\n",
            "\tClasse \"Óbito (1)\":\n",
            "\t\t\t0: 37.84%\n",
            "\t\t\t1: 62.16%\n",
            "\n",
            "\n",
            "=============== time ===============\n",
            "\n",
            "\tClasse \"Não óbito (0)\":\n",
            "\t\t\t0: 66.88%\n",
            "\t\t\t1: 33.12%\n",
            "\n",
            "\tClasse \"Óbito (1)\":\n",
            "\t\t\t0: 71.62%\n",
            "\t\t\t1: 28.38%\n",
            "\n",
            "\n"
          ],
          "name": "stdout"
        }
      ]
    },
    {
      "cell_type": "code",
      "metadata": {
        "colab": {
          "base_uri": "https://localhost:8080/"
        },
        "id": "cpCC-1hIkHk9",
        "outputId": "8e2079d7-d3b7-4894-e76f-bd248f97cde8"
      },
      "source": [
        "#Exibe o número de amostras encontradas para cada classe e categoria de recurso específico\n",
        "count = 0\n",
        "count_2 = 0\n",
        "for amostras in predict_cardio.category_count_:\n",
        "  print('=============== ' + columns_name[count] +' ===============\\n')\n",
        "  print('\\tClasse \"Não óbito (0)\":')\n",
        "\n",
        "  count_2 = 0\n",
        "  for aux in amostras[0]:\n",
        "    print(f'\\t\\t{count_2}: {int(aux)} amostras')\n",
        "    count_2+=1\n",
        "\n",
        "\n",
        "  print('\\n\\tClasse \"Óbito (1)\":')\n",
        "  count_2 = 0\n",
        "  for aux in amostras[1]:\n",
        "    print(f'\\t\\t{count_2}: {int(aux)} amostras')\n",
        "    count_2+=1\n",
        "\n",
        "  count+=1\n",
        "  print('\\n')"
      ],
      "execution_count": null,
      "outputs": [
        {
          "output_type": "stream",
          "text": [
            "=============== age ===============\n",
            "\n",
            "\tClasse \"Não óbito (0)\":\n",
            "\t\t0: 58 amostras\n",
            "\t\t1: 45 amostras\n",
            "\t\t2: 49 amostras\n",
            "\n",
            "\tClasse \"Óbito (1)\":\n",
            "\t\t0: 17 amostras\n",
            "\t\t1: 21 amostras\n",
            "\t\t2: 34 amostras\n",
            "\n",
            "\n",
            "=============== anaemia ===============\n",
            "\n",
            "\tClasse \"Não óbito (0)\":\n",
            "\t\t0: 54 amostras\n",
            "\t\t1: 44 amostras\n",
            "\t\t2: 54 amostras\n",
            "\n",
            "\tClasse \"Óbito (1)\":\n",
            "\t\t0: 21 amostras\n",
            "\t\t1: 25 amostras\n",
            "\t\t2: 26 amostras\n",
            "\n",
            "\n",
            "=============== creatinine_phosphokinase ===============\n",
            "\n",
            "\tClasse \"Não óbito (0)\":\n",
            "\t\t0: 30 amostras\n",
            "\t\t1: 51 amostras\n",
            "\t\t2: 71 amostras\n",
            "\n",
            "\tClasse \"Óbito (1)\":\n",
            "\t\t0: 43 amostras\n",
            "\t\t1: 15 amostras\n",
            "\t\t2: 14 amostras\n",
            "\n",
            "\n",
            "=============== diabetes ===============\n",
            "\n",
            "\tClasse \"Não óbito (0)\":\n",
            "\t\t0: 46 amostras\n",
            "\t\t1: 53 amostras\n",
            "\t\t2: 53 amostras\n",
            "\n",
            "\tClasse \"Óbito (1)\":\n",
            "\t\t0: 29 amostras\n",
            "\t\t1: 21 amostras\n",
            "\t\t2: 22 amostras\n",
            "\n",
            "\n",
            "=============== ejection_fraction ===============\n",
            "\n",
            "\tClasse \"Não óbito (0)\":\n",
            "\t\t0: 54 amostras\n",
            "\t\t1: 54 amostras\n",
            "\t\t2: 44 amostras\n",
            "\n",
            "\tClasse \"Óbito (1)\":\n",
            "\t\t0: 6 amostras\n",
            "\t\t1: 20 amostras\n",
            "\t\t2: 46 amostras\n",
            "\n",
            "\n",
            "=============== high_blood_pressure ===============\n",
            "\n",
            "\tClasse \"Não óbito (0)\":\n",
            "\t\t0: 31 amostras\n",
            "\t\t1: 51 amostras\n",
            "\t\t2: 70 amostras\n",
            "\n",
            "\tClasse \"Óbito (1)\":\n",
            "\t\t0: 31 amostras\n",
            "\t\t1: 21 amostras\n",
            "\t\t2: 20 amostras\n",
            "\n",
            "\n",
            "=============== platelets ===============\n",
            "\n",
            "\tClasse \"Não óbito (0)\":\n",
            "\t\t0: 26 amostras\n",
            "\t\t1: 56 amostras\n",
            "\t\t2: 70 amostras\n",
            "\n",
            "\tClasse \"Óbito (1)\":\n",
            "\t\t0: 48 amostras\n",
            "\t\t1: 17 amostras\n",
            "\t\t2: 7 amostras\n",
            "\n",
            "\n",
            "=============== serum_creatinine ===============\n",
            "\n",
            "\tClasse \"Não óbito (0)\":\n",
            "\t\t0: 89 amostras\n",
            "\t\t1: 63 amostras\n",
            "\n",
            "\tClasse \"Óbito (1)\":\n",
            "\t\t0: 34 amostras\n",
            "\t\t1: 38 amostras\n",
            "\n",
            "\n",
            "=============== serum_sodium ===============\n",
            "\n",
            "\tClasse \"Não óbito (0)\":\n",
            "\t\t0: 89 amostras\n",
            "\t\t1: 63 amostras\n",
            "\n",
            "\tClasse \"Óbito (1)\":\n",
            "\t\t0: 40 amostras\n",
            "\t\t1: 32 amostras\n",
            "\n",
            "\n",
            "=============== sex ===============\n",
            "\n",
            "\tClasse \"Não óbito (0)\":\n",
            "\t\t0: 102 amostras\n",
            "\t\t1: 50 amostras\n",
            "\n",
            "\tClasse \"Óbito (1)\":\n",
            "\t\t0: 44 amostras\n",
            "\t\t1: 28 amostras\n",
            "\n",
            "\n",
            "=============== smoking ===============\n",
            "\n",
            "\tClasse \"Não óbito (0)\":\n",
            "\t\t0: 51 amostras\n",
            "\t\t1: 101 amostras\n",
            "\n",
            "\tClasse \"Óbito (1)\":\n",
            "\t\t0: 27 amostras\n",
            "\t\t1: 45 amostras\n",
            "\n",
            "\n",
            "=============== time ===============\n",
            "\n",
            "\tClasse \"Não óbito (0)\":\n",
            "\t\t0: 102 amostras\n",
            "\t\t1: 50 amostras\n",
            "\n",
            "\tClasse \"Óbito (1)\":\n",
            "\t\t0: 52 amostras\n",
            "\t\t1: 20 amostras\n",
            "\n",
            "\n"
          ],
          "name": "stdout"
        }
      ]
    },
    {
      "cell_type": "code",
      "metadata": {
        "colab": {
          "base_uri": "https://localhost:8080/"
        },
        "id": "W4Cxycg7kbRI",
        "outputId": "c492801f-0c98-4bf4-b7f4-45b57515d409"
      },
      "source": [
        "# Número de amostras encontradas para cada classe durante a adaptação\n",
        "n_ob = predict_cardio.class_count_[0]\n",
        "ob = predict_cardio.class_count_[1]\n",
        "\n",
        "print('Número de amostras encontradas para cada classe durante a adaptação:\\n')\n",
        "print(f'Classe \"Não óbito (0)\": {n_ob}')\n",
        "print(f'Classe \"Óbito (1)\": {ob}')"
      ],
      "execution_count": null,
      "outputs": [
        {
          "output_type": "stream",
          "text": [
            "Número de amostras encontradas para cada classe durante a adaptação:\n",
            "\n",
            "Classe \"Não óbito (0)\": 152.0\n",
            "Classe \"Óbito (1)\": 72.0\n"
          ],
          "name": "stdout"
        }
      ]
    }
  ]
}