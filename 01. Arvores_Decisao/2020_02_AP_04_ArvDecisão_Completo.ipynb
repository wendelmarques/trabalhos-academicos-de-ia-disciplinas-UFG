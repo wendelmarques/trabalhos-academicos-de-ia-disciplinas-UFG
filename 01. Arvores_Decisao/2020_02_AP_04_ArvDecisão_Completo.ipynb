{
  "nbformat": 4,
  "nbformat_minor": 0,
  "metadata": {
    "colab": {
      "name": "2020.02_AP_04_ArvDecisão_Eduardo_Thiago_Wendel.ipynb",
      "provenance": [],
      "collapsed_sections": [
        "OVTBkY7fIklu",
        "7LGIwGmXIn1Z",
        "oevJAeN1H_Md",
        "zScKwJu8ICn9",
        "cghpLNKqjZxS",
        "NqbSLiYDd8Dx",
        "ozh02hPIk6O3",
        "yRpQgp-odep1",
        "5Q7LdofdjgPY",
        "dZUcVXk6uPcf"
      ]
    },
    "kernelspec": {
      "name": "python3",
      "display_name": "Python 3"
    }
  },
  "cells": [
    {
      "cell_type": "markdown",
      "metadata": {
        "id": "mLKPZajBKe3L"
      },
      "source": [
        "**Instituto de Informática - UFG**\n",
        "\n",
        "Disciplina: Inteligência Artificial\n",
        "\n",
        "Prof. Cedric Luiz de Carvalho\n",
        "\n",
        "\n",
        "Grupo (A)\n",
        "\n",
        "---\n",
        "\n",
        "\n",
        "Aluna(o): Eduardo Barros Pimenta - Gerente\n",
        "\n",
        "---\n",
        "\n",
        "Aluna(o): Thiago Emanuell Vieira Moura - Engenheiro de Conhecimento\n",
        "\n",
        "---\n",
        "\n",
        "Aluna(o): Wendel Marques de Jesus Souza - Analista de Dados\n",
        "\n",
        "---"
      ]
    },
    {
      "cell_type": "markdown",
      "metadata": {
        "id": "o_bZhd8FMiSa"
      },
      "source": [
        "#Especificação do problema: Árvore de Decisão"
      ]
    },
    {
      "cell_type": "markdown",
      "metadata": {
        "id": "YTE0x5IrTiwN"
      },
      "source": [
        "A área financeira é uma área muito interessante para a aplicação de técnicas de Inteligência Artificial. Por exemplo, pode-se desenvolver aplicações que dêem suporte aos agentes financeiros na concessão ou não de crédito aos seus clientes. Pode-se também utilizar-se das técnicas de Inteligência Artificial para a identificação de atividades fraudulentas.\n",
        "\n",
        "Utilizando a base de dados [Paysim](https://www.kaggle.com/ntnu-testimon/paysim1) projete e implemente uma árvore de decisão para a identificação de fraudes. Utilize a referência a seguir para a visualização da árvore projetada.\n",
        "\n",
        "[Para visualização de uma AD.](https://towardsdatascience.com/interactive-visualization-of-decision-trees-with-jupyter-widgets-ca15dd312084)\n",
        "\n"
      ]
    },
    {
      "cell_type": "markdown",
      "metadata": {
        "id": "OVTBkY7fIklu"
      },
      "source": [
        "### Recomendações"
      ]
    },
    {
      "cell_type": "markdown",
      "metadata": {
        "id": "vgmMVeMmGQWa"
      },
      "source": [
        "**Recomendações:**\n",
        "\n",
        "   O primeiro passo para resolver um problema é entendê-lo muito bem, considerar o contexto e fazer as abstrações necessárias. A seguir, para não \"reinventar a roda\" é preciso identificar como a comunidade resolveu o problema em questão, ou problemas parecidos, cuja solução possa ser mapeada para situação em análise. Desta forma, deve ser feito um estudo, o mais amplo possível sobre esse assunto. O próximo passo é o grupo se reunir e instanciar o modelo em estudo para o caso específico do problema a ser resolvido. Em paralelo, uma análise rigorosa deve ser feita na base de dados a fim de prepará-la para seu uso no modelo. Finalmente, com o modelo bem compreendido e instanciado e os dados devidamente preparados, a implementação do modelo pode ser feita.\n",
        "   \n",
        "    "
      ]
    },
    {
      "cell_type": "markdown",
      "metadata": {
        "id": "BmiqZcXTJPdm"
      },
      "source": [
        "**Observação**: O trabalho deve ser feito EM GRUPO, mas a avaliação será feita individualmente. Para isso, o grupo deverá fazer um planejamento/cronograma de trabalho."
      ]
    },
    {
      "cell_type": "markdown",
      "metadata": {
        "id": "7LGIwGmXIn1Z"
      },
      "source": [
        "### Produtos a serem entregues"
      ]
    },
    {
      "cell_type": "markdown",
      "metadata": {
        "id": "6i831PNuJiPG"
      },
      "source": [
        "**Produtos a serem entregues:**\n",
        "\n",
        "\n",
        "\n",
        "1.   Relatório técnico, no formato especificado (gerente)\n",
        "2.   Notebook com a AED (analista de dados). A base de dados original não deve ser alterada. Todo o processamento e seleção dos dados a serem utilizados deve ser feita na aplicação.\n",
        "3.   Notebook com a implementação (engenheiro de conhecimento)\n",
        "4.   Video de apresentação do trabalho (gerente) - no grupo com 4 alunos, essa tarefa deve ser feita pelo quarto aluno, e não pelo gerente.\n",
        "\n",
        "\n"
      ]
    },
    {
      "cell_type": "markdown",
      "metadata": {
        "id": "oevJAeN1H_Md"
      },
      "source": [
        "### Bibliotecas utilizadas"
      ]
    },
    {
      "cell_type": "code",
      "metadata": {
        "id": "SGC3zn7Om3QL",
        "colab": {
          "base_uri": "https://localhost:8080/",
          "height": 1000
        },
        "outputId": "ea0cf986-c375-438b-e1cb-fcd285ddd9a2"
      },
      "source": [
        "#implementacoes\n",
        "!pip install scikit-plot \n",
        "!pip install ipywidgets #Instalando biblioteca para interatividade\n",
        "!pip install --upgrade ipython jupyter  #Instalando biblioteca para imprimir, graficamente, a árvore, em SVG, na tela\n",
        "!pip install --upgrade pip"
      ],
      "execution_count": null,
      "outputs": [
        {
          "output_type": "stream",
          "text": [
            "Collecting scikit-plot\n",
            "  Downloading https://files.pythonhosted.org/packages/7c/47/32520e259340c140a4ad27c1b97050dd3254fdc517b1d59974d47037510e/scikit_plot-0.3.7-py3-none-any.whl\n",
            "Requirement already satisfied: joblib>=0.10 in /usr/local/lib/python3.7/dist-packages (from scikit-plot) (1.0.1)\n",
            "Requirement already satisfied: scikit-learn>=0.18 in /usr/local/lib/python3.7/dist-packages (from scikit-plot) (0.22.2.post1)\n",
            "Requirement already satisfied: matplotlib>=1.4.0 in /usr/local/lib/python3.7/dist-packages (from scikit-plot) (3.2.2)\n",
            "Requirement already satisfied: scipy>=0.9 in /usr/local/lib/python3.7/dist-packages (from scikit-plot) (1.4.1)\n",
            "Requirement already satisfied: numpy>=1.11.0 in /usr/local/lib/python3.7/dist-packages (from scikit-learn>=0.18->scikit-plot) (1.19.5)\n",
            "Requirement already satisfied: kiwisolver>=1.0.1 in /usr/local/lib/python3.7/dist-packages (from matplotlib>=1.4.0->scikit-plot) (1.3.1)\n",
            "Requirement already satisfied: python-dateutil>=2.1 in /usr/local/lib/python3.7/dist-packages (from matplotlib>=1.4.0->scikit-plot) (2.8.1)\n",
            "Requirement already satisfied: cycler>=0.10 in /usr/local/lib/python3.7/dist-packages (from matplotlib>=1.4.0->scikit-plot) (0.10.0)\n",
            "Requirement already satisfied: pyparsing!=2.0.4,!=2.1.2,!=2.1.6,>=2.0.1 in /usr/local/lib/python3.7/dist-packages (from matplotlib>=1.4.0->scikit-plot) (2.4.7)\n",
            "Requirement already satisfied: six>=1.5 in /usr/local/lib/python3.7/dist-packages (from python-dateutil>=2.1->matplotlib>=1.4.0->scikit-plot) (1.15.0)\n",
            "Installing collected packages: scikit-plot\n",
            "Successfully installed scikit-plot-0.3.7\n",
            "Requirement already satisfied: ipywidgets in /usr/local/lib/python3.7/dist-packages (7.6.3)\n",
            "Requirement already satisfied: nbformat>=4.2.0 in /usr/local/lib/python3.7/dist-packages (from ipywidgets) (5.1.3)\n",
            "Requirement already satisfied: ipython>=4.0.0; python_version >= \"3.3\" in /usr/local/lib/python3.7/dist-packages (from ipywidgets) (5.5.0)\n",
            "Requirement already satisfied: jupyterlab-widgets>=1.0.0; python_version >= \"3.6\" in /usr/local/lib/python3.7/dist-packages (from ipywidgets) (1.0.0)\n",
            "Requirement already satisfied: ipykernel>=4.5.1 in /usr/local/lib/python3.7/dist-packages (from ipywidgets) (4.10.1)\n",
            "Requirement already satisfied: widgetsnbextension~=3.5.0 in /usr/local/lib/python3.7/dist-packages (from ipywidgets) (3.5.1)\n",
            "Requirement already satisfied: traitlets>=4.3.1 in /usr/local/lib/python3.7/dist-packages (from ipywidgets) (5.0.5)\n",
            "Requirement already satisfied: ipython-genutils in /usr/local/lib/python3.7/dist-packages (from nbformat>=4.2.0->ipywidgets) (0.2.0)\n",
            "Requirement already satisfied: jsonschema!=2.5.0,>=2.4 in /usr/local/lib/python3.7/dist-packages (from nbformat>=4.2.0->ipywidgets) (2.6.0)\n",
            "Requirement already satisfied: jupyter-core in /usr/local/lib/python3.7/dist-packages (from nbformat>=4.2.0->ipywidgets) (4.7.1)\n",
            "Requirement already satisfied: pygments in /usr/local/lib/python3.7/dist-packages (from ipython>=4.0.0; python_version >= \"3.3\"->ipywidgets) (2.6.1)\n",
            "Requirement already satisfied: simplegeneric>0.8 in /usr/local/lib/python3.7/dist-packages (from ipython>=4.0.0; python_version >= \"3.3\"->ipywidgets) (0.8.1)\n",
            "Requirement already satisfied: setuptools>=18.5 in /usr/local/lib/python3.7/dist-packages (from ipython>=4.0.0; python_version >= \"3.3\"->ipywidgets) (54.2.0)\n",
            "Requirement already satisfied: pickleshare in /usr/local/lib/python3.7/dist-packages (from ipython>=4.0.0; python_version >= \"3.3\"->ipywidgets) (0.7.5)\n",
            "Requirement already satisfied: decorator in /usr/local/lib/python3.7/dist-packages (from ipython>=4.0.0; python_version >= \"3.3\"->ipywidgets) (4.4.2)\n",
            "Requirement already satisfied: pexpect; sys_platform != \"win32\" in /usr/local/lib/python3.7/dist-packages (from ipython>=4.0.0; python_version >= \"3.3\"->ipywidgets) (4.8.0)\n",
            "Requirement already satisfied: prompt-toolkit<2.0.0,>=1.0.4 in /usr/local/lib/python3.7/dist-packages (from ipython>=4.0.0; python_version >= \"3.3\"->ipywidgets) (1.0.18)\n",
            "Requirement already satisfied: tornado>=4.0 in /usr/local/lib/python3.7/dist-packages (from ipykernel>=4.5.1->ipywidgets) (5.1.1)\n",
            "Requirement already satisfied: jupyter-client in /usr/local/lib/python3.7/dist-packages (from ipykernel>=4.5.1->ipywidgets) (5.3.5)\n",
            "Requirement already satisfied: notebook>=4.4.1 in /usr/local/lib/python3.7/dist-packages (from widgetsnbextension~=3.5.0->ipywidgets) (5.3.1)\n",
            "Requirement already satisfied: ptyprocess>=0.5 in /usr/local/lib/python3.7/dist-packages (from pexpect; sys_platform != \"win32\"->ipython>=4.0.0; python_version >= \"3.3\"->ipywidgets) (0.7.0)\n",
            "Requirement already satisfied: six>=1.9.0 in /usr/local/lib/python3.7/dist-packages (from prompt-toolkit<2.0.0,>=1.0.4->ipython>=4.0.0; python_version >= \"3.3\"->ipywidgets) (1.15.0)\n",
            "Requirement already satisfied: wcwidth in /usr/local/lib/python3.7/dist-packages (from prompt-toolkit<2.0.0,>=1.0.4->ipython>=4.0.0; python_version >= \"3.3\"->ipywidgets) (0.2.5)\n",
            "Requirement already satisfied: python-dateutil>=2.1 in /usr/local/lib/python3.7/dist-packages (from jupyter-client->ipykernel>=4.5.1->ipywidgets) (2.8.1)\n",
            "Requirement already satisfied: pyzmq>=13 in /usr/local/lib/python3.7/dist-packages (from jupyter-client->ipykernel>=4.5.1->ipywidgets) (22.0.3)\n",
            "Requirement already satisfied: nbconvert in /usr/local/lib/python3.7/dist-packages (from notebook>=4.4.1->widgetsnbextension~=3.5.0->ipywidgets) (5.6.1)\n",
            "Requirement already satisfied: Send2Trash in /usr/local/lib/python3.7/dist-packages (from notebook>=4.4.1->widgetsnbextension~=3.5.0->ipywidgets) (1.5.0)\n",
            "Requirement already satisfied: terminado>=0.8.1 in /usr/local/lib/python3.7/dist-packages (from notebook>=4.4.1->widgetsnbextension~=3.5.0->ipywidgets) (0.9.4)\n",
            "Requirement already satisfied: jinja2 in /usr/local/lib/python3.7/dist-packages (from notebook>=4.4.1->widgetsnbextension~=3.5.0->ipywidgets) (2.11.3)\n",
            "Requirement already satisfied: pandocfilters>=1.4.1 in /usr/local/lib/python3.7/dist-packages (from nbconvert->notebook>=4.4.1->widgetsnbextension~=3.5.0->ipywidgets) (1.4.3)\n",
            "Requirement already satisfied: testpath in /usr/local/lib/python3.7/dist-packages (from nbconvert->notebook>=4.4.1->widgetsnbextension~=3.5.0->ipywidgets) (0.4.4)\n",
            "Requirement already satisfied: defusedxml in /usr/local/lib/python3.7/dist-packages (from nbconvert->notebook>=4.4.1->widgetsnbextension~=3.5.0->ipywidgets) (0.7.1)\n",
            "Requirement already satisfied: bleach in /usr/local/lib/python3.7/dist-packages (from nbconvert->notebook>=4.4.1->widgetsnbextension~=3.5.0->ipywidgets) (3.3.0)\n",
            "Requirement already satisfied: mistune<2,>=0.8.1 in /usr/local/lib/python3.7/dist-packages (from nbconvert->notebook>=4.4.1->widgetsnbextension~=3.5.0->ipywidgets) (0.8.4)\n",
            "Requirement already satisfied: entrypoints>=0.2.2 in /usr/local/lib/python3.7/dist-packages (from nbconvert->notebook>=4.4.1->widgetsnbextension~=3.5.0->ipywidgets) (0.3)\n",
            "Requirement already satisfied: MarkupSafe>=0.23 in /usr/local/lib/python3.7/dist-packages (from jinja2->notebook>=4.4.1->widgetsnbextension~=3.5.0->ipywidgets) (1.1.1)\n",
            "Requirement already satisfied: webencodings in /usr/local/lib/python3.7/dist-packages (from bleach->nbconvert->notebook>=4.4.1->widgetsnbextension~=3.5.0->ipywidgets) (0.5.1)\n",
            "Requirement already satisfied: packaging in /usr/local/lib/python3.7/dist-packages (from bleach->nbconvert->notebook>=4.4.1->widgetsnbextension~=3.5.0->ipywidgets) (20.9)\n",
            "Requirement already satisfied: pyparsing>=2.0.2 in /usr/local/lib/python3.7/dist-packages (from packaging->bleach->nbconvert->notebook>=4.4.1->widgetsnbextension~=3.5.0->ipywidgets) (2.4.7)\n",
            "Collecting ipython\n",
            "\u001b[?25l  Downloading https://files.pythonhosted.org/packages/c9/b1/82cbe2b856386f44f37fdae54d9b425813bd86fe33385c9d658d64826098/ipython-7.22.0-py3-none-any.whl (785kB)\n",
            "\u001b[K     |████████████████████████████████| 788kB 18.2MB/s \n",
            "\u001b[?25hRequirement already up-to-date: jupyter in /usr/local/lib/python3.7/dist-packages (1.0.0)\n",
            "Requirement already satisfied, skipping upgrade: setuptools>=18.5 in /usr/local/lib/python3.7/dist-packages (from ipython) (54.2.0)\n",
            "Requirement already satisfied, skipping upgrade: decorator in /usr/local/lib/python3.7/dist-packages (from ipython) (4.4.2)\n",
            "Requirement already satisfied, skipping upgrade: pygments in /usr/local/lib/python3.7/dist-packages (from ipython) (2.6.1)\n",
            "Requirement already satisfied, skipping upgrade: backcall in /usr/local/lib/python3.7/dist-packages (from ipython) (0.2.0)\n",
            "Collecting prompt-toolkit!=3.0.0,!=3.0.1,<3.1.0,>=2.0.0\n",
            "\u001b[?25l  Downloading https://files.pythonhosted.org/packages/eb/e6/4b4ca4fa94462d4560ba2f4e62e62108ab07be2e16a92e594e43b12d3300/prompt_toolkit-3.0.18-py3-none-any.whl (367kB)\n",
            "\u001b[K     |████████████████████████████████| 368kB 38.1MB/s \n",
            "\u001b[?25hRequirement already satisfied, skipping upgrade: jedi>=0.16 in /usr/local/lib/python3.7/dist-packages (from ipython) (0.18.0)\n",
            "Requirement already satisfied, skipping upgrade: pexpect>4.3; sys_platform != \"win32\" in /usr/local/lib/python3.7/dist-packages (from ipython) (4.8.0)\n",
            "Requirement already satisfied, skipping upgrade: pickleshare in /usr/local/lib/python3.7/dist-packages (from ipython) (0.7.5)\n",
            "Requirement already satisfied, skipping upgrade: traitlets>=4.2 in /usr/local/lib/python3.7/dist-packages (from ipython) (5.0.5)\n",
            "Requirement already satisfied, skipping upgrade: qtconsole in /usr/local/lib/python3.7/dist-packages (from jupyter) (5.0.3)\n",
            "Requirement already satisfied, skipping upgrade: notebook in /usr/local/lib/python3.7/dist-packages (from jupyter) (5.3.1)\n",
            "Requirement already satisfied, skipping upgrade: ipykernel in /usr/local/lib/python3.7/dist-packages (from jupyter) (4.10.1)\n",
            "Requirement already satisfied, skipping upgrade: jupyter-console in /usr/local/lib/python3.7/dist-packages (from jupyter) (5.2.0)\n",
            "Requirement already satisfied, skipping upgrade: nbconvert in /usr/local/lib/python3.7/dist-packages (from jupyter) (5.6.1)\n",
            "Requirement already satisfied, skipping upgrade: ipywidgets in /usr/local/lib/python3.7/dist-packages (from jupyter) (7.6.3)\n",
            "Requirement already satisfied, skipping upgrade: wcwidth in /usr/local/lib/python3.7/dist-packages (from prompt-toolkit!=3.0.0,!=3.0.1,<3.1.0,>=2.0.0->ipython) (0.2.5)\n",
            "Requirement already satisfied, skipping upgrade: parso<0.9.0,>=0.8.0 in /usr/local/lib/python3.7/dist-packages (from jedi>=0.16->ipython) (0.8.2)\n",
            "Requirement already satisfied, skipping upgrade: ptyprocess>=0.5 in /usr/local/lib/python3.7/dist-packages (from pexpect>4.3; sys_platform != \"win32\"->ipython) (0.7.0)\n",
            "Requirement already satisfied, skipping upgrade: ipython-genutils in /usr/local/lib/python3.7/dist-packages (from traitlets>=4.2->ipython) (0.2.0)\n",
            "Requirement already satisfied, skipping upgrade: jupyter-client>=4.1 in /usr/local/lib/python3.7/dist-packages (from qtconsole->jupyter) (5.3.5)\n",
            "Requirement already satisfied, skipping upgrade: qtpy in /usr/local/lib/python3.7/dist-packages (from qtconsole->jupyter) (1.9.0)\n",
            "Requirement already satisfied, skipping upgrade: pyzmq>=17.1 in /usr/local/lib/python3.7/dist-packages (from qtconsole->jupyter) (22.0.3)\n",
            "Requirement already satisfied, skipping upgrade: jupyter-core in /usr/local/lib/python3.7/dist-packages (from qtconsole->jupyter) (4.7.1)\n",
            "Requirement already satisfied, skipping upgrade: tornado>=4 in /usr/local/lib/python3.7/dist-packages (from notebook->jupyter) (5.1.1)\n",
            "Requirement already satisfied, skipping upgrade: jinja2 in /usr/local/lib/python3.7/dist-packages (from notebook->jupyter) (2.11.3)\n",
            "Requirement already satisfied, skipping upgrade: nbformat in /usr/local/lib/python3.7/dist-packages (from notebook->jupyter) (5.1.3)\n",
            "Requirement already satisfied, skipping upgrade: Send2Trash in /usr/local/lib/python3.7/dist-packages (from notebook->jupyter) (1.5.0)\n",
            "Requirement already satisfied, skipping upgrade: terminado>=0.8.1 in /usr/local/lib/python3.7/dist-packages (from notebook->jupyter) (0.9.4)\n",
            "Requirement already satisfied, skipping upgrade: pandocfilters>=1.4.1 in /usr/local/lib/python3.7/dist-packages (from nbconvert->jupyter) (1.4.3)\n",
            "Requirement already satisfied, skipping upgrade: entrypoints>=0.2.2 in /usr/local/lib/python3.7/dist-packages (from nbconvert->jupyter) (0.3)\n",
            "Requirement already satisfied, skipping upgrade: bleach in /usr/local/lib/python3.7/dist-packages (from nbconvert->jupyter) (3.3.0)\n",
            "Requirement already satisfied, skipping upgrade: testpath in /usr/local/lib/python3.7/dist-packages (from nbconvert->jupyter) (0.4.4)\n",
            "Requirement already satisfied, skipping upgrade: mistune<2,>=0.8.1 in /usr/local/lib/python3.7/dist-packages (from nbconvert->jupyter) (0.8.4)\n",
            "Requirement already satisfied, skipping upgrade: defusedxml in /usr/local/lib/python3.7/dist-packages (from nbconvert->jupyter) (0.7.1)\n",
            "Requirement already satisfied, skipping upgrade: jupyterlab-widgets>=1.0.0; python_version >= \"3.6\" in /usr/local/lib/python3.7/dist-packages (from ipywidgets->jupyter) (1.0.0)\n",
            "Requirement already satisfied, skipping upgrade: widgetsnbextension~=3.5.0 in /usr/local/lib/python3.7/dist-packages (from ipywidgets->jupyter) (3.5.1)\n",
            "Requirement already satisfied, skipping upgrade: python-dateutil>=2.1 in /usr/local/lib/python3.7/dist-packages (from jupyter-client>=4.1->qtconsole->jupyter) (2.8.1)\n",
            "Requirement already satisfied, skipping upgrade: MarkupSafe>=0.23 in /usr/local/lib/python3.7/dist-packages (from jinja2->notebook->jupyter) (1.1.1)\n",
            "Requirement already satisfied, skipping upgrade: jsonschema!=2.5.0,>=2.4 in /usr/local/lib/python3.7/dist-packages (from nbformat->notebook->jupyter) (2.6.0)\n",
            "Requirement already satisfied, skipping upgrade: webencodings in /usr/local/lib/python3.7/dist-packages (from bleach->nbconvert->jupyter) (0.5.1)\n",
            "Requirement already satisfied, skipping upgrade: packaging in /usr/local/lib/python3.7/dist-packages (from bleach->nbconvert->jupyter) (20.9)\n",
            "Requirement already satisfied, skipping upgrade: six>=1.9.0 in /usr/local/lib/python3.7/dist-packages (from bleach->nbconvert->jupyter) (1.15.0)\n",
            "Requirement already satisfied, skipping upgrade: pyparsing>=2.0.2 in /usr/local/lib/python3.7/dist-packages (from packaging->bleach->nbconvert->jupyter) (2.4.7)\n",
            "\u001b[31mERROR: jupyter-console 5.2.0 has requirement prompt-toolkit<2.0.0,>=1.0.0, but you'll have prompt-toolkit 3.0.18 which is incompatible.\u001b[0m\n",
            "\u001b[31mERROR: google-colab 1.0.0 has requirement ipython~=5.5.0, but you'll have ipython 7.22.0 which is incompatible.\u001b[0m\n",
            "Installing collected packages: prompt-toolkit, ipython\n",
            "  Found existing installation: prompt-toolkit 1.0.18\n",
            "    Uninstalling prompt-toolkit-1.0.18:\n",
            "      Successfully uninstalled prompt-toolkit-1.0.18\n",
            "  Found existing installation: ipython 5.5.0\n",
            "    Uninstalling ipython-5.5.0:\n",
            "      Successfully uninstalled ipython-5.5.0\n",
            "Successfully installed ipython-7.22.0 prompt-toolkit-3.0.18\n"
          ],
          "name": "stdout"
        },
        {
          "output_type": "display_data",
          "data": {
            "application/vnd.colab-display-data+json": {
              "pip_warning": {
                "packages": [
                  "IPython",
                  "prompt_toolkit"
                ]
              }
            }
          },
          "metadata": {
            "tags": []
          }
        },
        {
          "output_type": "stream",
          "text": [
            "Collecting pip\n",
            "\u001b[?25l  Downloading https://files.pythonhosted.org/packages/fe/ef/60d7ba03b5c442309ef42e7d69959f73aacccd0d86008362a681c4698e83/pip-21.0.1-py3-none-any.whl (1.5MB)\n",
            "\r\u001b[K     |▏                               | 10kB 12.8MB/s eta 0:00:01\r\u001b[K     |▍                               | 20kB 16.1MB/s eta 0:00:01\r\u001b[K     |▋                               | 30kB 19.9MB/s eta 0:00:01\r\u001b[K     |▉                               | 40kB 23.1MB/s eta 0:00:01\r\u001b[K     |█                               | 51kB 23.2MB/s eta 0:00:01\r\u001b[K     |█▎                              | 61kB 20.8MB/s eta 0:00:01\r\u001b[K     |█▌                              | 71kB 19.2MB/s eta 0:00:01\r\u001b[K     |█▊                              | 81kB 15.9MB/s eta 0:00:01\r\u001b[K     |██                              | 92kB 15.6MB/s eta 0:00:01\r\u001b[K     |██▏                             | 102kB 16.6MB/s eta 0:00:01\r\u001b[K     |██▍                             | 112kB 16.6MB/s eta 0:00:01\r\u001b[K     |██▌                             | 122kB 16.6MB/s eta 0:00:01\r\u001b[K     |██▊                             | 133kB 16.6MB/s eta 0:00:01\r\u001b[K     |███                             | 143kB 16.6MB/s eta 0:00:01\r\u001b[K     |███▏                            | 153kB 16.6MB/s eta 0:00:01\r\u001b[K     |███▍                            | 163kB 16.6MB/s eta 0:00:01\r\u001b[K     |███▋                            | 174kB 16.6MB/s eta 0:00:01\r\u001b[K     |███▉                            | 184kB 16.6MB/s eta 0:00:01\r\u001b[K     |████                            | 194kB 16.6MB/s eta 0:00:01\r\u001b[K     |████▎                           | 204kB 16.6MB/s eta 0:00:01\r\u001b[K     |████▌                           | 215kB 16.6MB/s eta 0:00:01\r\u001b[K     |████▊                           | 225kB 16.6MB/s eta 0:00:01\r\u001b[K     |█████                           | 235kB 16.6MB/s eta 0:00:01\r\u001b[K     |█████                           | 245kB 16.6MB/s eta 0:00:01\r\u001b[K     |█████▎                          | 256kB 16.6MB/s eta 0:00:01\r\u001b[K     |█████▌                          | 266kB 16.6MB/s eta 0:00:01\r\u001b[K     |█████▊                          | 276kB 16.6MB/s eta 0:00:01\r\u001b[K     |██████                          | 286kB 16.6MB/s eta 0:00:01\r\u001b[K     |██████▏                         | 296kB 16.6MB/s eta 0:00:01\r\u001b[K     |██████▍                         | 307kB 16.6MB/s eta 0:00:01\r\u001b[K     |██████▋                         | 317kB 16.6MB/s eta 0:00:01\r\u001b[K     |██████▉                         | 327kB 16.6MB/s eta 0:00:01\r\u001b[K     |███████                         | 337kB 16.6MB/s eta 0:00:01\r\u001b[K     |███████▎                        | 348kB 16.6MB/s eta 0:00:01\r\u001b[K     |███████▌                        | 358kB 16.6MB/s eta 0:00:01\r\u001b[K     |███████▋                        | 368kB 16.6MB/s eta 0:00:01\r\u001b[K     |███████▉                        | 378kB 16.6MB/s eta 0:00:01\r\u001b[K     |████████                        | 389kB 16.6MB/s eta 0:00:01\r\u001b[K     |████████▎                       | 399kB 16.6MB/s eta 0:00:01\r\u001b[K     |████████▌                       | 409kB 16.6MB/s eta 0:00:01\r\u001b[K     |████████▊                       | 419kB 16.6MB/s eta 0:00:01\r\u001b[K     |█████████                       | 430kB 16.6MB/s eta 0:00:01\r\u001b[K     |█████████▏                      | 440kB 16.6MB/s eta 0:00:01\r\u001b[K     |█████████▍                      | 450kB 16.6MB/s eta 0:00:01\r\u001b[K     |█████████▋                      | 460kB 16.6MB/s eta 0:00:01\r\u001b[K     |█████████▉                      | 471kB 16.6MB/s eta 0:00:01\r\u001b[K     |██████████                      | 481kB 16.6MB/s eta 0:00:01\r\u001b[K     |██████████▏                     | 491kB 16.6MB/s eta 0:00:01\r\u001b[K     |██████████▍                     | 501kB 16.6MB/s eta 0:00:01\r\u001b[K     |██████████▋                     | 512kB 16.6MB/s eta 0:00:01\r\u001b[K     |██████████▉                     | 522kB 16.6MB/s eta 0:00:01\r\u001b[K     |███████████                     | 532kB 16.6MB/s eta 0:00:01\r\u001b[K     |███████████▎                    | 542kB 16.6MB/s eta 0:00:01\r\u001b[K     |███████████▌                    | 552kB 16.6MB/s eta 0:00:01\r\u001b[K     |███████████▊                    | 563kB 16.6MB/s eta 0:00:01\r\u001b[K     |████████████                    | 573kB 16.6MB/s eta 0:00:01\r\u001b[K     |████████████▏                   | 583kB 16.6MB/s eta 0:00:01\r\u001b[K     |████████████▍                   | 593kB 16.6MB/s eta 0:00:01\r\u001b[K     |████████████▋                   | 604kB 16.6MB/s eta 0:00:01\r\u001b[K     |████████████▊                   | 614kB 16.6MB/s eta 0:00:01\r\u001b[K     |█████████████                   | 624kB 16.6MB/s eta 0:00:01\r\u001b[K     |█████████████▏                  | 634kB 16.6MB/s eta 0:00:01\r\u001b[K     |█████████████▍                  | 645kB 16.6MB/s eta 0:00:01\r\u001b[K     |█████████████▋                  | 655kB 16.6MB/s eta 0:00:01\r\u001b[K     |█████████████▉                  | 665kB 16.6MB/s eta 0:00:01\r\u001b[K     |██████████████                  | 675kB 16.6MB/s eta 0:00:01\r\u001b[K     |██████████████▎                 | 686kB 16.6MB/s eta 0:00:01\r\u001b[K     |██████████████▌                 | 696kB 16.6MB/s eta 0:00:01\r\u001b[K     |██████████████▊                 | 706kB 16.6MB/s eta 0:00:01\r\u001b[K     |███████████████                 | 716kB 16.6MB/s eta 0:00:01\r\u001b[K     |███████████████▏                | 727kB 16.6MB/s eta 0:00:01\r\u001b[K     |███████████████▎                | 737kB 16.6MB/s eta 0:00:01\r\u001b[K     |███████████████▌                | 747kB 16.6MB/s eta 0:00:01\r\u001b[K     |███████████████▊                | 757kB 16.6MB/s eta 0:00:01\r\u001b[K     |████████████████                | 768kB 16.6MB/s eta 0:00:01\r\u001b[K     |████████████████▏               | 778kB 16.6MB/s eta 0:00:01\r\u001b[K     |████████████████▍               | 788kB 16.6MB/s eta 0:00:01\r\u001b[K     |████████████████▋               | 798kB 16.6MB/s eta 0:00:01\r\u001b[K     |████████████████▉               | 808kB 16.6MB/s eta 0:00:01\r\u001b[K     |█████████████████               | 819kB 16.6MB/s eta 0:00:01\r\u001b[K     |█████████████████▎              | 829kB 16.6MB/s eta 0:00:01\r\u001b[K     |█████████████████▌              | 839kB 16.6MB/s eta 0:00:01\r\u001b[K     |█████████████████▊              | 849kB 16.6MB/s eta 0:00:01\r\u001b[K     |█████████████████▉              | 860kB 16.6MB/s eta 0:00:01\r\u001b[K     |██████████████████              | 870kB 16.6MB/s eta 0:00:01\r\u001b[K     |██████████████████▎             | 880kB 16.6MB/s eta 0:00:01\r\u001b[K     |██████████████████▌             | 890kB 16.6MB/s eta 0:00:01\r\u001b[K     |██████████████████▊             | 901kB 16.6MB/s eta 0:00:01\r\u001b[K     |███████████████████             | 911kB 16.6MB/s eta 0:00:01\r\u001b[K     |███████████████████▏            | 921kB 16.6MB/s eta 0:00:01\r\u001b[K     |███████████████████▍            | 931kB 16.6MB/s eta 0:00:01\r\u001b[K     |███████████████████▋            | 942kB 16.6MB/s eta 0:00:01\r\u001b[K     |███████████████████▉            | 952kB 16.6MB/s eta 0:00:01\r\u001b[K     |████████████████████            | 962kB 16.6MB/s eta 0:00:01\r\u001b[K     |████████████████████▎           | 972kB 16.6MB/s eta 0:00:01\r\u001b[K     |████████████████████▍           | 983kB 16.6MB/s eta 0:00:01\r\u001b[K     |████████████████████▋           | 993kB 16.6MB/s eta 0:00:01\r\u001b[K     |████████████████████▉           | 1.0MB 16.6MB/s eta 0:00:01\r\u001b[K     |█████████████████████           | 1.0MB 16.6MB/s eta 0:00:01\r\u001b[K     |█████████████████████▎          | 1.0MB 16.6MB/s eta 0:00:01\r\u001b[K     |█████████████████████▌          | 1.0MB 16.6MB/s eta 0:00:01\r\u001b[K     |█████████████████████▊          | 1.0MB 16.6MB/s eta 0:00:01\r\u001b[K     |██████████████████████          | 1.1MB 16.6MB/s eta 0:00:01\r\u001b[K     |██████████████████████▏         | 1.1MB 16.6MB/s eta 0:00:01\r\u001b[K     |██████████████████████▍         | 1.1MB 16.6MB/s eta 0:00:01\r\u001b[K     |██████████████████████▋         | 1.1MB 16.6MB/s eta 0:00:01\r\u001b[K     |██████████████████████▉         | 1.1MB 16.6MB/s eta 0:00:01\r\u001b[K     |███████████████████████         | 1.1MB 16.6MB/s eta 0:00:01\r\u001b[K     |███████████████████████▏        | 1.1MB 16.6MB/s eta 0:00:01\r\u001b[K     |███████████████████████▍        | 1.1MB 16.6MB/s eta 0:00:01\r\u001b[K     |███████████████████████▋        | 1.1MB 16.6MB/s eta 0:00:01\r\u001b[K     |███████████████████████▉        | 1.1MB 16.6MB/s eta 0:00:01\r\u001b[K     |████████████████████████        | 1.2MB 16.6MB/s eta 0:00:01\r\u001b[K     |████████████████████████▎       | 1.2MB 16.6MB/s eta 0:00:01\r\u001b[K     |████████████████████████▌       | 1.2MB 16.6MB/s eta 0:00:01\r\u001b[K     |████████████████████████▊       | 1.2MB 16.6MB/s eta 0:00:01\r\u001b[K     |█████████████████████████       | 1.2MB 16.6MB/s eta 0:00:01\r\u001b[K     |█████████████████████████▏      | 1.2MB 16.6MB/s eta 0:00:01\r\u001b[K     |█████████████████████████▍      | 1.2MB 16.6MB/s eta 0:00:01\r\u001b[K     |█████████████████████████▌      | 1.2MB 16.6MB/s eta 0:00:01\r\u001b[K     |█████████████████████████▊      | 1.2MB 16.6MB/s eta 0:00:01\r\u001b[K     |██████████████████████████      | 1.2MB 16.6MB/s eta 0:00:01\r\u001b[K     |██████████████████████████▏     | 1.3MB 16.6MB/s eta 0:00:01\r\u001b[K     |██████████████████████████▍     | 1.3MB 16.6MB/s eta 0:00:01\r\u001b[K     |██████████████████████████▋     | 1.3MB 16.6MB/s eta 0:00:01\r\u001b[K     |██████████████████████████▉     | 1.3MB 16.6MB/s eta 0:00:01\r\u001b[K     |███████████████████████████     | 1.3MB 16.6MB/s eta 0:00:01\r\u001b[K     |███████████████████████████▎    | 1.3MB 16.6MB/s eta 0:00:01\r\u001b[K     |███████████████████████████▌    | 1.3MB 16.6MB/s eta 0:00:01\r\u001b[K     |███████████████████████████▊    | 1.3MB 16.6MB/s eta 0:00:01\r\u001b[K     |███████████████████████████▉    | 1.3MB 16.6MB/s eta 0:00:01\r\u001b[K     |████████████████████████████    | 1.4MB 16.6MB/s eta 0:00:01\r\u001b[K     |████████████████████████████▎   | 1.4MB 16.6MB/s eta 0:00:01\r\u001b[K     |████████████████████████████▌   | 1.4MB 16.6MB/s eta 0:00:01\r\u001b[K     |████████████████████████████▊   | 1.4MB 16.6MB/s eta 0:00:01\r\u001b[K     |█████████████████████████████   | 1.4MB 16.6MB/s eta 0:00:01\r\u001b[K     |█████████████████████████████▏  | 1.4MB 16.6MB/s eta 0:00:01\r\u001b[K     |█████████████████████████████▍  | 1.4MB 16.6MB/s eta 0:00:01\r\u001b[K     |█████████████████████████████▋  | 1.4MB 16.6MB/s eta 0:00:01\r\u001b[K     |█████████████████████████████▉  | 1.4MB 16.6MB/s eta 0:00:01\r\u001b[K     |██████████████████████████████  | 1.4MB 16.6MB/s eta 0:00:01\r\u001b[K     |██████████████████████████████▎ | 1.5MB 16.6MB/s eta 0:00:01\r\u001b[K     |██████████████████████████████▍ | 1.5MB 16.6MB/s eta 0:00:01\r\u001b[K     |██████████████████████████████▋ | 1.5MB 16.6MB/s eta 0:00:01\r\u001b[K     |██████████████████████████████▉ | 1.5MB 16.6MB/s eta 0:00:01\r\u001b[K     |███████████████████████████████ | 1.5MB 16.6MB/s eta 0:00:01\r\u001b[K     |███████████████████████████████▎| 1.5MB 16.6MB/s eta 0:00:01\r\u001b[K     |███████████████████████████████▌| 1.5MB 16.6MB/s eta 0:00:01\r\u001b[K     |███████████████████████████████▊| 1.5MB 16.6MB/s eta 0:00:01\r\u001b[K     |████████████████████████████████| 1.5MB 16.6MB/s eta 0:00:01\r\u001b[K     |████████████████████████████████| 1.5MB 16.6MB/s \n",
            "\u001b[?25hInstalling collected packages: pip\n",
            "  Found existing installation: pip 19.3.1\n",
            "    Uninstalling pip-19.3.1:\n",
            "      Successfully uninstalled pip-19.3.1\n",
            "Successfully installed pip-21.0.1\n"
          ],
          "name": "stdout"
        }
      ]
    },
    {
      "cell_type": "code",
      "metadata": {
        "id": "9u2qKEXkfSkd"
      },
      "source": [
        "#Pré-processamento\n",
        "import pandas as pd # processamento de dados, entrada e saída de arquivos CSV(e.g. pd.read_csv)\n",
        "import numpy as np # algebra linear\n",
        "import seaborn as sns\n",
        "from imblearn.over_sampling import SMOTE\n",
        "from sklearn.model_selection import train_test_split\n",
        "from sklearn.preprocessing import Normalizer\n",
        "from sklearn.preprocessing import MinMaxScaler\n",
        "\n",
        "#Implementações\n",
        "from sklearn.tree import DecisionTreeClassifier, export_graphviz\n",
        "from sklearn import tree\n",
        "from IPython.display import SVG\n",
        "from graphviz import Source\n",
        "from IPython.display import display \n",
        "from ipywidgets import interactive\n",
        "from sklearn.metrics import classification_report, confusion_matrix\n",
        "import scikitplot as skplt"
      ],
      "execution_count": null,
      "outputs": []
    },
    {
      "cell_type": "markdown",
      "metadata": {
        "id": "zScKwJu8ICn9"
      },
      "source": [
        "### Leitura dos dados"
      ]
    },
    {
      "cell_type": "code",
      "metadata": {
        "id": "jArwYNGvVIzr",
        "colab": {
          "base_uri": "https://localhost:8080/"
        },
        "outputId": "a0fe549e-01fe-41a1-fce0-9bc55f94a600"
      },
      "source": [
        "from google.colab import drive\n",
        "drive.mount('/content/drive')"
      ],
      "execution_count": null,
      "outputs": [
        {
          "output_type": "stream",
          "text": [
            "Mounted at /content/drive\n"
          ],
          "name": "stdout"
        }
      ]
    },
    {
      "cell_type": "code",
      "metadata": {
        "id": "2ryVzajXikSt"
      },
      "source": [
        "#Lendo os dados\n",
        "#O arquivo precisa estar baixado no \"MyDrive\"\n",
        "data = pd.read_csv('/content/drive/MyDrive/PS_20174392719_1491204439457_log.csv') "
      ],
      "execution_count": null,
      "outputs": []
    },
    {
      "cell_type": "markdown",
      "metadata": {
        "id": "cghpLNKqjZxS"
      },
      "source": [
        "# Pré-processamento  \n",
        "Por: Wendel"
      ]
    },
    {
      "cell_type": "code",
      "metadata": {
        "id": "vdYrb_u-ODig",
        "colab": {
          "base_uri": "https://localhost:8080/",
          "height": 204
        },
        "outputId": "8b5ee141-449b-40b5-d5f9-061a6093bbdc"
      },
      "source": [
        "data.head()"
      ],
      "execution_count": null,
      "outputs": [
        {
          "output_type": "execute_result",
          "data": {
            "text/html": [
              "<div>\n",
              "<style scoped>\n",
              "    .dataframe tbody tr th:only-of-type {\n",
              "        vertical-align: middle;\n",
              "    }\n",
              "\n",
              "    .dataframe tbody tr th {\n",
              "        vertical-align: top;\n",
              "    }\n",
              "\n",
              "    .dataframe thead th {\n",
              "        text-align: right;\n",
              "    }\n",
              "</style>\n",
              "<table border=\"1\" class=\"dataframe\">\n",
              "  <thead>\n",
              "    <tr style=\"text-align: right;\">\n",
              "      <th></th>\n",
              "      <th>step</th>\n",
              "      <th>type</th>\n",
              "      <th>amount</th>\n",
              "      <th>nameOrig</th>\n",
              "      <th>oldbalanceOrg</th>\n",
              "      <th>newbalanceOrig</th>\n",
              "      <th>nameDest</th>\n",
              "      <th>oldbalanceDest</th>\n",
              "      <th>newbalanceDest</th>\n",
              "      <th>isFraud</th>\n",
              "      <th>isFlaggedFraud</th>\n",
              "    </tr>\n",
              "  </thead>\n",
              "  <tbody>\n",
              "    <tr>\n",
              "      <th>0</th>\n",
              "      <td>1</td>\n",
              "      <td>PAYMENT</td>\n",
              "      <td>9839.64</td>\n",
              "      <td>C1231006815</td>\n",
              "      <td>170136.0</td>\n",
              "      <td>160296.36</td>\n",
              "      <td>M1979787155</td>\n",
              "      <td>0.0</td>\n",
              "      <td>0.0</td>\n",
              "      <td>0</td>\n",
              "      <td>0</td>\n",
              "    </tr>\n",
              "    <tr>\n",
              "      <th>1</th>\n",
              "      <td>1</td>\n",
              "      <td>PAYMENT</td>\n",
              "      <td>1864.28</td>\n",
              "      <td>C1666544295</td>\n",
              "      <td>21249.0</td>\n",
              "      <td>19384.72</td>\n",
              "      <td>M2044282225</td>\n",
              "      <td>0.0</td>\n",
              "      <td>0.0</td>\n",
              "      <td>0</td>\n",
              "      <td>0</td>\n",
              "    </tr>\n",
              "    <tr>\n",
              "      <th>2</th>\n",
              "      <td>1</td>\n",
              "      <td>TRANSFER</td>\n",
              "      <td>181.00</td>\n",
              "      <td>C1305486145</td>\n",
              "      <td>181.0</td>\n",
              "      <td>0.00</td>\n",
              "      <td>C553264065</td>\n",
              "      <td>0.0</td>\n",
              "      <td>0.0</td>\n",
              "      <td>1</td>\n",
              "      <td>0</td>\n",
              "    </tr>\n",
              "    <tr>\n",
              "      <th>3</th>\n",
              "      <td>1</td>\n",
              "      <td>CASH_OUT</td>\n",
              "      <td>181.00</td>\n",
              "      <td>C840083671</td>\n",
              "      <td>181.0</td>\n",
              "      <td>0.00</td>\n",
              "      <td>C38997010</td>\n",
              "      <td>21182.0</td>\n",
              "      <td>0.0</td>\n",
              "      <td>1</td>\n",
              "      <td>0</td>\n",
              "    </tr>\n",
              "    <tr>\n",
              "      <th>4</th>\n",
              "      <td>1</td>\n",
              "      <td>PAYMENT</td>\n",
              "      <td>11668.14</td>\n",
              "      <td>C2048537720</td>\n",
              "      <td>41554.0</td>\n",
              "      <td>29885.86</td>\n",
              "      <td>M1230701703</td>\n",
              "      <td>0.0</td>\n",
              "      <td>0.0</td>\n",
              "      <td>0</td>\n",
              "      <td>0</td>\n",
              "    </tr>\n",
              "  </tbody>\n",
              "</table>\n",
              "</div>"
            ],
            "text/plain": [
              "   step      type    amount  ... newbalanceDest  isFraud  isFlaggedFraud\n",
              "0     1   PAYMENT   9839.64  ...            0.0        0               0\n",
              "1     1   PAYMENT   1864.28  ...            0.0        0               0\n",
              "2     1  TRANSFER    181.00  ...            0.0        1               0\n",
              "3     1  CASH_OUT    181.00  ...            0.0        1               0\n",
              "4     1   PAYMENT  11668.14  ...            0.0        0               0\n",
              "\n",
              "[5 rows x 11 columns]"
            ]
          },
          "metadata": {
            "tags": []
          },
          "execution_count": 6
        }
      ]
    },
    {
      "cell_type": "markdown",
      "metadata": {
        "id": "NqbSLiYDd8Dx"
      },
      "source": [
        "### Limpeza e transformação"
      ]
    },
    {
      "cell_type": "markdown",
      "metadata": {
        "id": "phsvo2Thd94G"
      },
      "source": [
        "Descartamos do conjunto de dados as variáveis *isFlaggedFraud*, *nameOrig* e *nameDest* porque são do tipo ID  e não contribuem para a máquina preditiva.\n",
        "\n",
        "Não precisamos ensinar para a máquina preditiva que se *nameDest* for um comerciante, então não haverá fraude. Isso porque, cumprimos essa tarefa ao utiliza *PAYMENT*. Como mostrado na análise e exploração dos dados, só há fraudes apenas quando as transações são do tipo *TRANSFER* e *CASH_IN*.\n",
        "\n",
        "Obs.: Em uma aplicação mais sofisticada, é provável que o uso de *nameOrig* e *nameDest* se torne necessário, uma vez que ao descartar esses atributos, descartamos também as conexões entre as transações. Isto é, ao fazer isto, deixamos de explorar esquemas de fraude mais aperfeiçoados. "
      ]
    },
    {
      "cell_type": "code",
      "metadata": {
        "id": "g1yJeyy8lkwr",
        "colab": {
          "base_uri": "https://localhost:8080/",
          "height": 111
        },
        "outputId": "d4f83e1e-9f65-4a9e-9a72-c174d38a8744"
      },
      "source": [
        "data = data.drop([\"isFlaggedFraud\",\"nameOrig\",\"nameDest\"],axis=1)\n",
        "data.head(2)"
      ],
      "execution_count": null,
      "outputs": [
        {
          "output_type": "execute_result",
          "data": {
            "text/html": [
              "<div>\n",
              "<style scoped>\n",
              "    .dataframe tbody tr th:only-of-type {\n",
              "        vertical-align: middle;\n",
              "    }\n",
              "\n",
              "    .dataframe tbody tr th {\n",
              "        vertical-align: top;\n",
              "    }\n",
              "\n",
              "    .dataframe thead th {\n",
              "        text-align: right;\n",
              "    }\n",
              "</style>\n",
              "<table border=\"1\" class=\"dataframe\">\n",
              "  <thead>\n",
              "    <tr style=\"text-align: right;\">\n",
              "      <th></th>\n",
              "      <th>step</th>\n",
              "      <th>type</th>\n",
              "      <th>amount</th>\n",
              "      <th>oldbalanceOrg</th>\n",
              "      <th>newbalanceOrig</th>\n",
              "      <th>oldbalanceDest</th>\n",
              "      <th>newbalanceDest</th>\n",
              "      <th>isFraud</th>\n",
              "    </tr>\n",
              "  </thead>\n",
              "  <tbody>\n",
              "    <tr>\n",
              "      <th>0</th>\n",
              "      <td>1</td>\n",
              "      <td>PAYMENT</td>\n",
              "      <td>9839.64</td>\n",
              "      <td>170136.0</td>\n",
              "      <td>160296.36</td>\n",
              "      <td>0.0</td>\n",
              "      <td>0.0</td>\n",
              "      <td>0</td>\n",
              "    </tr>\n",
              "    <tr>\n",
              "      <th>1</th>\n",
              "      <td>1</td>\n",
              "      <td>PAYMENT</td>\n",
              "      <td>1864.28</td>\n",
              "      <td>21249.0</td>\n",
              "      <td>19384.72</td>\n",
              "      <td>0.0</td>\n",
              "      <td>0.0</td>\n",
              "      <td>0</td>\n",
              "    </tr>\n",
              "  </tbody>\n",
              "</table>\n",
              "</div>"
            ],
            "text/plain": [
              "   step     type   amount  ...  oldbalanceDest  newbalanceDest  isFraud\n",
              "0     1  PAYMENT  9839.64  ...             0.0             0.0        0\n",
              "1     1  PAYMENT  1864.28  ...             0.0             0.0        0\n",
              "\n",
              "[2 rows x 8 columns]"
            ]
          },
          "metadata": {
            "tags": []
          },
          "execution_count": 7
        }
      ]
    },
    {
      "cell_type": "markdown",
      "metadata": {
        "id": "MHyn57iypCyo"
      },
      "source": [
        "Para que possamos utilizar a técnica de balanceamento escolhida, devemos conveter o atributo categórico (*type*) em numérico."
      ]
    },
    {
      "cell_type": "code",
      "metadata": {
        "id": "1L6VXEgsXHRV",
        "colab": {
          "base_uri": "https://localhost:8080/",
          "height": 204
        },
        "outputId": "63d74bb3-3603-4fde-a483-0f75edbfccb3"
      },
      "source": [
        "#transformação do dataFrame com uma coluna de variáveis categóricas em colunas que representam cada tipo de transação\n",
        "data_type = pd.get_dummies(data.type)\n",
        "# data_type = data_type.drop([\"CASH_IN\",\"DEBIT\",\"PAYMENT\"],axis=1)\n",
        "data_type.head()"
      ],
      "execution_count": null,
      "outputs": [
        {
          "output_type": "execute_result",
          "data": {
            "text/html": [
              "<div>\n",
              "<style scoped>\n",
              "    .dataframe tbody tr th:only-of-type {\n",
              "        vertical-align: middle;\n",
              "    }\n",
              "\n",
              "    .dataframe tbody tr th {\n",
              "        vertical-align: top;\n",
              "    }\n",
              "\n",
              "    .dataframe thead th {\n",
              "        text-align: right;\n",
              "    }\n",
              "</style>\n",
              "<table border=\"1\" class=\"dataframe\">\n",
              "  <thead>\n",
              "    <tr style=\"text-align: right;\">\n",
              "      <th></th>\n",
              "      <th>CASH_IN</th>\n",
              "      <th>CASH_OUT</th>\n",
              "      <th>DEBIT</th>\n",
              "      <th>PAYMENT</th>\n",
              "      <th>TRANSFER</th>\n",
              "    </tr>\n",
              "  </thead>\n",
              "  <tbody>\n",
              "    <tr>\n",
              "      <th>0</th>\n",
              "      <td>0</td>\n",
              "      <td>0</td>\n",
              "      <td>0</td>\n",
              "      <td>1</td>\n",
              "      <td>0</td>\n",
              "    </tr>\n",
              "    <tr>\n",
              "      <th>1</th>\n",
              "      <td>0</td>\n",
              "      <td>0</td>\n",
              "      <td>0</td>\n",
              "      <td>1</td>\n",
              "      <td>0</td>\n",
              "    </tr>\n",
              "    <tr>\n",
              "      <th>2</th>\n",
              "      <td>0</td>\n",
              "      <td>0</td>\n",
              "      <td>0</td>\n",
              "      <td>0</td>\n",
              "      <td>1</td>\n",
              "    </tr>\n",
              "    <tr>\n",
              "      <th>3</th>\n",
              "      <td>0</td>\n",
              "      <td>1</td>\n",
              "      <td>0</td>\n",
              "      <td>0</td>\n",
              "      <td>0</td>\n",
              "    </tr>\n",
              "    <tr>\n",
              "      <th>4</th>\n",
              "      <td>0</td>\n",
              "      <td>0</td>\n",
              "      <td>0</td>\n",
              "      <td>1</td>\n",
              "      <td>0</td>\n",
              "    </tr>\n",
              "  </tbody>\n",
              "</table>\n",
              "</div>"
            ],
            "text/plain": [
              "   CASH_IN  CASH_OUT  DEBIT  PAYMENT  TRANSFER\n",
              "0        0         0      0        1         0\n",
              "1        0         0      0        1         0\n",
              "2        0         0      0        0         1\n",
              "3        0         1      0        0         0\n",
              "4        0         0      0        1         0"
            ]
          },
          "metadata": {
            "tags": []
          },
          "execution_count": 8
        }
      ]
    },
    {
      "cell_type": "code",
      "metadata": {
        "id": "fbj3g8FdahiA",
        "colab": {
          "base_uri": "https://localhost:8080/",
          "height": 204
        },
        "outputId": "cde14b44-941c-47ae-bdae-3f28aed2ef52"
      },
      "source": [
        "#mesclagem com o dataframe original\n",
        "data = data.drop([\"type\"],axis=1)\n",
        "data = data.join(data_type)\n",
        "data.head()"
      ],
      "execution_count": null,
      "outputs": [
        {
          "output_type": "execute_result",
          "data": {
            "text/html": [
              "<div>\n",
              "<style scoped>\n",
              "    .dataframe tbody tr th:only-of-type {\n",
              "        vertical-align: middle;\n",
              "    }\n",
              "\n",
              "    .dataframe tbody tr th {\n",
              "        vertical-align: top;\n",
              "    }\n",
              "\n",
              "    .dataframe thead th {\n",
              "        text-align: right;\n",
              "    }\n",
              "</style>\n",
              "<table border=\"1\" class=\"dataframe\">\n",
              "  <thead>\n",
              "    <tr style=\"text-align: right;\">\n",
              "      <th></th>\n",
              "      <th>step</th>\n",
              "      <th>amount</th>\n",
              "      <th>oldbalanceOrg</th>\n",
              "      <th>newbalanceOrig</th>\n",
              "      <th>oldbalanceDest</th>\n",
              "      <th>newbalanceDest</th>\n",
              "      <th>isFraud</th>\n",
              "      <th>CASH_IN</th>\n",
              "      <th>CASH_OUT</th>\n",
              "      <th>DEBIT</th>\n",
              "      <th>PAYMENT</th>\n",
              "      <th>TRANSFER</th>\n",
              "    </tr>\n",
              "  </thead>\n",
              "  <tbody>\n",
              "    <tr>\n",
              "      <th>0</th>\n",
              "      <td>1</td>\n",
              "      <td>9839.64</td>\n",
              "      <td>170136.0</td>\n",
              "      <td>160296.36</td>\n",
              "      <td>0.0</td>\n",
              "      <td>0.0</td>\n",
              "      <td>0</td>\n",
              "      <td>0</td>\n",
              "      <td>0</td>\n",
              "      <td>0</td>\n",
              "      <td>1</td>\n",
              "      <td>0</td>\n",
              "    </tr>\n",
              "    <tr>\n",
              "      <th>1</th>\n",
              "      <td>1</td>\n",
              "      <td>1864.28</td>\n",
              "      <td>21249.0</td>\n",
              "      <td>19384.72</td>\n",
              "      <td>0.0</td>\n",
              "      <td>0.0</td>\n",
              "      <td>0</td>\n",
              "      <td>0</td>\n",
              "      <td>0</td>\n",
              "      <td>0</td>\n",
              "      <td>1</td>\n",
              "      <td>0</td>\n",
              "    </tr>\n",
              "    <tr>\n",
              "      <th>2</th>\n",
              "      <td>1</td>\n",
              "      <td>181.00</td>\n",
              "      <td>181.0</td>\n",
              "      <td>0.00</td>\n",
              "      <td>0.0</td>\n",
              "      <td>0.0</td>\n",
              "      <td>1</td>\n",
              "      <td>0</td>\n",
              "      <td>0</td>\n",
              "      <td>0</td>\n",
              "      <td>0</td>\n",
              "      <td>1</td>\n",
              "    </tr>\n",
              "    <tr>\n",
              "      <th>3</th>\n",
              "      <td>1</td>\n",
              "      <td>181.00</td>\n",
              "      <td>181.0</td>\n",
              "      <td>0.00</td>\n",
              "      <td>21182.0</td>\n",
              "      <td>0.0</td>\n",
              "      <td>1</td>\n",
              "      <td>0</td>\n",
              "      <td>1</td>\n",
              "      <td>0</td>\n",
              "      <td>0</td>\n",
              "      <td>0</td>\n",
              "    </tr>\n",
              "    <tr>\n",
              "      <th>4</th>\n",
              "      <td>1</td>\n",
              "      <td>11668.14</td>\n",
              "      <td>41554.0</td>\n",
              "      <td>29885.86</td>\n",
              "      <td>0.0</td>\n",
              "      <td>0.0</td>\n",
              "      <td>0</td>\n",
              "      <td>0</td>\n",
              "      <td>0</td>\n",
              "      <td>0</td>\n",
              "      <td>1</td>\n",
              "      <td>0</td>\n",
              "    </tr>\n",
              "  </tbody>\n",
              "</table>\n",
              "</div>"
            ],
            "text/plain": [
              "   step    amount  oldbalanceOrg  ...  DEBIT  PAYMENT  TRANSFER\n",
              "0     1   9839.64       170136.0  ...      0        1         0\n",
              "1     1   1864.28        21249.0  ...      0        1         0\n",
              "2     1    181.00          181.0  ...      0        0         1\n",
              "3     1    181.00          181.0  ...      0        0         0\n",
              "4     1  11668.14        41554.0  ...      0        1         0\n",
              "\n",
              "[5 rows x 12 columns]"
            ]
          },
          "metadata": {
            "tags": []
          },
          "execution_count": 9
        }
      ]
    },
    {
      "cell_type": "code",
      "metadata": {
        "id": "I4s3HWI8Ui-4",
        "colab": {
          "base_uri": "https://localhost:8080/",
          "height": 204
        },
        "outputId": "0171b911-bb22-49ca-a10a-8439748cfc64"
      },
      "source": [
        "#reescala os dados\n",
        "data_minMax = data.copy()\n",
        "data_minMax[['amount', 'newbalanceOrig', 'newbalanceDest', 'oldbalanceDest', 'oldbalanceOrg']] = MinMaxScaler().fit_transform(data[['amount', 'newbalanceOrig', 'newbalanceDest', 'oldbalanceDest', 'oldbalanceOrg']])\n",
        "\n",
        "data = data_minMax.copy()\n",
        "data.head()"
      ],
      "execution_count": null,
      "outputs": [
        {
          "output_type": "execute_result",
          "data": {
            "text/html": [
              "<div>\n",
              "<style scoped>\n",
              "    .dataframe tbody tr th:only-of-type {\n",
              "        vertical-align: middle;\n",
              "    }\n",
              "\n",
              "    .dataframe tbody tr th {\n",
              "        vertical-align: top;\n",
              "    }\n",
              "\n",
              "    .dataframe thead th {\n",
              "        text-align: right;\n",
              "    }\n",
              "</style>\n",
              "<table border=\"1\" class=\"dataframe\">\n",
              "  <thead>\n",
              "    <tr style=\"text-align: right;\">\n",
              "      <th></th>\n",
              "      <th>step</th>\n",
              "      <th>amount</th>\n",
              "      <th>oldbalanceOrg</th>\n",
              "      <th>newbalanceOrig</th>\n",
              "      <th>oldbalanceDest</th>\n",
              "      <th>newbalanceDest</th>\n",
              "      <th>isFraud</th>\n",
              "      <th>CASH_IN</th>\n",
              "      <th>CASH_OUT</th>\n",
              "      <th>DEBIT</th>\n",
              "      <th>PAYMENT</th>\n",
              "      <th>TRANSFER</th>\n",
              "    </tr>\n",
              "  </thead>\n",
              "  <tbody>\n",
              "    <tr>\n",
              "      <th>0</th>\n",
              "      <td>1</td>\n",
              "      <td>0.000106</td>\n",
              "      <td>0.002855</td>\n",
              "      <td>0.003233</td>\n",
              "      <td>0.000000</td>\n",
              "      <td>0.0</td>\n",
              "      <td>0</td>\n",
              "      <td>0</td>\n",
              "      <td>0</td>\n",
              "      <td>0</td>\n",
              "      <td>1</td>\n",
              "      <td>0</td>\n",
              "    </tr>\n",
              "    <tr>\n",
              "      <th>1</th>\n",
              "      <td>1</td>\n",
              "      <td>0.000020</td>\n",
              "      <td>0.000357</td>\n",
              "      <td>0.000391</td>\n",
              "      <td>0.000000</td>\n",
              "      <td>0.0</td>\n",
              "      <td>0</td>\n",
              "      <td>0</td>\n",
              "      <td>0</td>\n",
              "      <td>0</td>\n",
              "      <td>1</td>\n",
              "      <td>0</td>\n",
              "    </tr>\n",
              "    <tr>\n",
              "      <th>2</th>\n",
              "      <td>1</td>\n",
              "      <td>0.000002</td>\n",
              "      <td>0.000003</td>\n",
              "      <td>0.000000</td>\n",
              "      <td>0.000000</td>\n",
              "      <td>0.0</td>\n",
              "      <td>1</td>\n",
              "      <td>0</td>\n",
              "      <td>0</td>\n",
              "      <td>0</td>\n",
              "      <td>0</td>\n",
              "      <td>1</td>\n",
              "    </tr>\n",
              "    <tr>\n",
              "      <th>3</th>\n",
              "      <td>1</td>\n",
              "      <td>0.000002</td>\n",
              "      <td>0.000003</td>\n",
              "      <td>0.000000</td>\n",
              "      <td>0.000059</td>\n",
              "      <td>0.0</td>\n",
              "      <td>1</td>\n",
              "      <td>0</td>\n",
              "      <td>1</td>\n",
              "      <td>0</td>\n",
              "      <td>0</td>\n",
              "      <td>0</td>\n",
              "    </tr>\n",
              "    <tr>\n",
              "      <th>4</th>\n",
              "      <td>1</td>\n",
              "      <td>0.000126</td>\n",
              "      <td>0.000697</td>\n",
              "      <td>0.000603</td>\n",
              "      <td>0.000000</td>\n",
              "      <td>0.0</td>\n",
              "      <td>0</td>\n",
              "      <td>0</td>\n",
              "      <td>0</td>\n",
              "      <td>0</td>\n",
              "      <td>1</td>\n",
              "      <td>0</td>\n",
              "    </tr>\n",
              "  </tbody>\n",
              "</table>\n",
              "</div>"
            ],
            "text/plain": [
              "   step    amount  oldbalanceOrg  ...  DEBIT  PAYMENT  TRANSFER\n",
              "0     1  0.000106       0.002855  ...      0        1         0\n",
              "1     1  0.000020       0.000357  ...      0        1         0\n",
              "2     1  0.000002       0.000003  ...      0        0         1\n",
              "3     1  0.000002       0.000003  ...      0        0         0\n",
              "4     1  0.000126       0.000697  ...      0        1         0\n",
              "\n",
              "[5 rows x 12 columns]"
            ]
          },
          "metadata": {
            "tags": []
          },
          "execution_count": 10
        }
      ]
    },
    {
      "cell_type": "markdown",
      "metadata": {
        "id": "ozh02hPIk6O3"
      },
      "source": [
        "### Divisão: dados de treino e de teste"
      ]
    },
    {
      "cell_type": "code",
      "metadata": {
        "id": "jOqCWiQ5k9V0"
      },
      "source": [
        "#Separando os dados para treinamento e teste \n",
        "X = data.drop(['isFraud'], axis=1)\n",
        "y = data['isFraud']\n",
        "\n",
        "#Separação de dados treino e dados de teste\n",
        "#Proporção de 30% para teste\n",
        "X_train, X_val, y_train, y_val = train_test_split(X, y, test_size=0.3, random_state=7, stratify=y)\n",
        "\n"
      ],
      "execution_count": null,
      "outputs": []
    },
    {
      "cell_type": "markdown",
      "metadata": {
        "id": "yRpQgp-odep1"
      },
      "source": [
        "### Balanceamento"
      ]
    },
    {
      "cell_type": "markdown",
      "metadata": {
        "id": "q6HkObradh21"
      },
      "source": [
        "Como visto na etapa AED, do número total de transações (6.362.620) apenas 0,13% são transações frauldulentas. Nesse sentido, é necessário realizar o balanceamento da classe *target* (isFraud).\n",
        "\n",
        "A técnica escolhida é a Oversampling que é o processo de criar observações sintéticas da classe minoritária - nesse caso, isFraud.\n"
      ]
    },
    {
      "cell_type": "code",
      "metadata": {
        "id": "Whoi-NWciQ7v",
        "colab": {
          "base_uri": "https://localhost:8080/",
          "height": 387
        },
        "outputId": "62dd1537-eecd-40cf-9326-dc07e178fbb3"
      },
      "source": [
        "from imblearn.under_sampling import RandomUnderSampler\n",
        "\n",
        "# usar técnica under-sampling\n",
        "rus = RandomUnderSampler()\n",
        "X_res, y_res = rus.fit_sample(X_train, y_train)\n",
        " \n",
        "# ver o balanceamento das classes\n",
        "print(pd.Series(y_res).value_counts())\n",
        " \n",
        "# plotar a nova distribuição de classes\n",
        "sns.countplot(y_res);"
      ],
      "execution_count": null,
      "outputs": [
        {
          "output_type": "stream",
          "text": [
            "/usr/local/lib/python3.7/dist-packages/sklearn/utils/deprecation.py:87: FutureWarning: Function safe_indexing is deprecated; safe_indexing is deprecated in version 0.22 and will be removed in version 0.24.\n",
            "  warnings.warn(msg, category=FutureWarning)\n",
            "/usr/local/lib/python3.7/dist-packages/seaborn/_decorators.py:43: FutureWarning: Pass the following variable as a keyword arg: x. From version 0.12, the only valid positional argument will be `data`, and passing other arguments without an explicit keyword will result in an error or misinterpretation.\n",
            "  FutureWarning\n"
          ],
          "name": "stderr"
        },
        {
          "output_type": "stream",
          "text": [
            "1    5749\n",
            "0    5749\n",
            "dtype: int64\n"
          ],
          "name": "stdout"
        },
        {
          "output_type": "display_data",
          "data": {
            "image/png": "[encoded data removed]",
            "text/plain": [
              "<Figure size 432x288 with 1 Axes>"
            ]
          },
          "metadata": {
            "tags": [],
            "needs_background": "light"
          }
        }
      ]
    },
    {
      "cell_type": "markdown",
      "metadata": {
        "id": "5Q7LdofdjgPY"
      },
      "source": [
        "# Implementação\n",
        "Por: Thiago"
      ]
    },
    {
      "cell_type": "code",
      "metadata": {
        "id": "Xbbsy0nlBjnw",
        "colab": {
          "base_uri": "https://localhost:8080/"
        },
        "outputId": "abc0a3ed-6a29-4efe-9ada-d2a1486188ce"
      },
      "source": [
        "#Classificador da árvore de decisão\n",
        "estimator = DecisionTreeClassifier(max_depth=3,criterion='entropy') \n",
        "#Construindo um classificador de árvore de decisão a partir do conjunto de treinamento \n",
        "estimator.fit(X_res,y_res)"
      ],
      "execution_count": null,
      "outputs": [
        {
          "output_type": "execute_result",
          "data": {
            "text/plain": [
              "DecisionTreeClassifier(ccp_alpha=0.0, class_weight=None, criterion='entropy',\n",
              "                       max_depth=3, max_features=None, max_leaf_nodes=None,\n",
              "                       min_impurity_decrease=0.0, min_impurity_split=None,\n",
              "                       min_samples_leaf=1, min_samples_split=2,\n",
              "                       min_weight_fraction_leaf=0.0, presort='deprecated',\n",
              "                       random_state=None, splitter='best')"
            ]
          },
          "metadata": {
            "tags": []
          },
          "execution_count": 13
        }
      ]
    },
    {
      "cell_type": "code",
      "metadata": {
        "id": "x0cwrVTj3HLe"
      },
      "source": [
        "#Armazenando os nomes das colunas em um objeto\n",
        "colunas = data.drop(['isFraud'], axis=1).columns\n",
        "#Transformando o objeto em um vetor\n",
        "colunas = np.array(colunas) "
      ],
      "execution_count": null,
      "outputs": []
    },
    {
      "cell_type": "code",
      "metadata": {
        "id": "6cTbY_zh3OHd",
        "colab": {
          "base_uri": "https://localhost:8080/",
          "height": 518
        },
        "outputId": "70cff8fd-3a29-48f5-e0ad-88858f49e097"
      },
      "source": [
        "#Imprimindo a árvore\n",
        "graph = Source(tree.export_graphviz(estimator, out_file=None, feature_names=colunas, filled = True))\n",
        "display(SVG(graph.pipe(format='svg')))"
      ],
      "execution_count": null,
      "outputs": [
        {
          "output_type": "display_data",
          "data": {
            "text/plain": [
              "<IPython.core.display.SVG object>"
            ],
            "image/svg+xml": "<svg height=\"373pt\" viewBox=\"0.00 0.00 1094.50 373.00\" width=\"1095pt\" xmlns=\"http://www.w3.org/2000/svg\" xmlns:xlink=\"http://www.w3.org/1999/xlink\">\n<g class=\"graph\" id=\"graph0\" transform=\"scale(1 1) rotate(0) translate(4 369)\">\n<title>Tree</title>\n<polygon fill=\"#ffffff\" points=\"-4,4 -4,-369 1090.5,-369 1090.5,4 -4,4\" stroke=\"transparent\"/>\n<!-- 0 -->\n<g class=\"node\" id=\"node1\">\n<title>0</title>\n<polygon fill=\"#ffffff\" points=\"613.5,-365 455.5,-365 455.5,-297 613.5,-297 613.5,-365\" stroke=\"#000000\"/>\n<text fill=\"#000000\" font-family=\"Times,serif\" font-size=\"14.00\" text-anchor=\"middle\" x=\"534.5\" y=\"-349.8\">oldbalanceOrg &lt;= 0.001</text>\n<text fill=\"#000000\" font-family=\"Times,serif\" font-size=\"14.00\" text-anchor=\"middle\" x=\"534.5\" y=\"-334.8\">entropy = 1.0</text>\n<text fill=\"#000000\" font-family=\"Times,serif\" font-size=\"14.00\" text-anchor=\"middle\" x=\"534.5\" y=\"-319.8\">samples = 11498</text>\n<text fill=\"#000000\" font-family=\"Times,serif\" font-size=\"14.00\" text-anchor=\"middle\" x=\"534.5\" y=\"-304.8\">value = [5749, 5749]</text>\n</g>\n<!-- 1 -->\n<g class=\"node\" id=\"node2\">\n<title>1</title>\n<polygon fill=\"#ea9a60\" points=\"467.5,-261 335.5,-261 335.5,-193 467.5,-193 467.5,-261\" stroke=\"#000000\"/>\n<text fill=\"#000000\" font-family=\"Times,serif\" font-size=\"14.00\" text-anchor=\"middle\" x=\"401.5\" y=\"-245.8\">amount &lt;= 0.001</text>\n<text fill=\"#000000\" font-family=\"Times,serif\" font-size=\"14.00\" text-anchor=\"middle\" x=\"401.5\" y=\"-230.8\">entropy = 0.649</text>\n<text fill=\"#000000\" font-family=\"Times,serif\" font-size=\"14.00\" text-anchor=\"middle\" x=\"401.5\" y=\"-215.8\">samples = 4666</text>\n<text fill=\"#000000\" font-family=\"Times,serif\" font-size=\"14.00\" text-anchor=\"middle\" x=\"401.5\" y=\"-200.8\">value = [3891, 775]</text>\n</g>\n<!-- 0&#45;&gt;1 -->\n<g class=\"edge\" id=\"edge1\">\n<title>0-&gt;1</title>\n<path d=\"M490.9508,-296.9465C478.8946,-287.519 465.6911,-277.1946 453.2184,-267.4415\" fill=\"none\" stroke=\"#000000\"/>\n<polygon fill=\"#000000\" points=\"455.1806,-264.5328 445.147,-261.13 450.8686,-270.0471 455.1806,-264.5328\" stroke=\"#000000\"/>\n<text fill=\"#000000\" font-family=\"Times,serif\" font-size=\"14.00\" text-anchor=\"middle\" x=\"448.1834\" y=\"-282.2449\">True</text>\n</g>\n<!-- 8 -->\n<g class=\"node\" id=\"node9\">\n<title>8</title>\n<polygon fill=\"#83c2ef\" points=\"751.5,-261 599.5,-261 599.5,-193 751.5,-193 751.5,-261\" stroke=\"#000000\"/>\n<text fill=\"#000000\" font-family=\"Times,serif\" font-size=\"14.00\" text-anchor=\"middle\" x=\"675.5\" y=\"-245.8\">newbalanceOrig &lt;= 0.0</text>\n<text fill=\"#000000\" font-family=\"Times,serif\" font-size=\"14.00\" text-anchor=\"middle\" x=\"675.5\" y=\"-230.8\">entropy = 0.844</text>\n<text fill=\"#000000\" font-family=\"Times,serif\" font-size=\"14.00\" text-anchor=\"middle\" x=\"675.5\" y=\"-215.8\">samples = 6832</text>\n<text fill=\"#000000\" font-family=\"Times,serif\" font-size=\"14.00\" text-anchor=\"middle\" x=\"675.5\" y=\"-200.8\">value = [1858, 4974]</text>\n</g>\n<!-- 0&#45;&gt;8 -->\n<g class=\"edge\" id=\"edge8\">\n<title>0-&gt;8</title>\n<path d=\"M580.6687,-296.9465C593.5719,-287.4293 607.7145,-276.9978 621.0483,-267.163\" fill=\"none\" stroke=\"#000000\"/>\n<polygon fill=\"#000000\" points=\"623.2575,-269.8826 629.2276,-261.13 619.1023,-264.2492 623.2575,-269.8826\" stroke=\"#000000\"/>\n<text fill=\"#000000\" font-family=\"Times,serif\" font-size=\"14.00\" text-anchor=\"middle\" x=\"625.4944\" y=\"-282.1497\">False</text>\n</g>\n<!-- 2 -->\n<g class=\"node\" id=\"node3\">\n<title>2</title>\n<polygon fill=\"#f0b58a\" points=\"267.5,-157 135.5,-157 135.5,-89 267.5,-89 267.5,-157\" stroke=\"#000000\"/>\n<text fill=\"#000000\" font-family=\"Times,serif\" font-size=\"14.00\" text-anchor=\"middle\" x=\"201.5\" y=\"-141.8\">PAYMENT &lt;= 0.5</text>\n<text fill=\"#000000\" font-family=\"Times,serif\" font-size=\"14.00\" text-anchor=\"middle\" x=\"201.5\" y=\"-126.8\">entropy = 0.87</text>\n<text fill=\"#000000\" font-family=\"Times,serif\" font-size=\"14.00\" text-anchor=\"middle\" x=\"201.5\" y=\"-111.8\">samples = 2601</text>\n<text fill=\"#000000\" font-family=\"Times,serif\" font-size=\"14.00\" text-anchor=\"middle\" x=\"201.5\" y=\"-96.8\">value = [1845, 756]</text>\n</g>\n<!-- 1&#45;&gt;2 -->\n<g class=\"edge\" id=\"edge2\">\n<title>1-&gt;2</title>\n<path d=\"M336.0125,-192.9465C316.8468,-182.9803 295.7533,-172.0117 276.0681,-161.7754\" fill=\"none\" stroke=\"#000000\"/>\n<polygon fill=\"#000000\" points=\"277.6215,-158.6383 267.1346,-157.13 274.392,-164.8488 277.6215,-158.6383\" stroke=\"#000000\"/>\n</g>\n<!-- 5 -->\n<g class=\"node\" id=\"node6\">\n<title>5</title>\n<polygon fill=\"#e5823b\" points=\"464,-157 339,-157 339,-89 464,-89 464,-157\" stroke=\"#000000\"/>\n<text fill=\"#000000\" font-family=\"Times,serif\" font-size=\"14.00\" text-anchor=\"middle\" x=\"401.5\" y=\"-141.8\">step &lt;= 38.5</text>\n<text fill=\"#000000\" font-family=\"Times,serif\" font-size=\"14.00\" text-anchor=\"middle\" x=\"401.5\" y=\"-126.8\">entropy = 0.075</text>\n<text fill=\"#000000\" font-family=\"Times,serif\" font-size=\"14.00\" text-anchor=\"middle\" x=\"401.5\" y=\"-111.8\">samples = 2065</text>\n<text fill=\"#000000\" font-family=\"Times,serif\" font-size=\"14.00\" text-anchor=\"middle\" x=\"401.5\" y=\"-96.8\">value = [2046, 19]</text>\n</g>\n<!-- 1&#45;&gt;5 -->\n<g class=\"edge\" id=\"edge5\">\n<title>1-&gt;5</title>\n<path d=\"M401.5,-192.9465C401.5,-184.776 401.5,-175.9318 401.5,-167.3697\" fill=\"none\" stroke=\"#000000\"/>\n<polygon fill=\"#000000\" points=\"405.0001,-167.13 401.5,-157.13 398.0001,-167.13 405.0001,-167.13\" stroke=\"#000000\"/>\n</g>\n<!-- 3 -->\n<g class=\"node\" id=\"node4\">\n<title>3</title>\n<polygon fill=\"#aad5f4\" points=\"125,-53 0,-53 0,0 125,0 125,-53\" stroke=\"#000000\"/>\n<text fill=\"#000000\" font-family=\"Times,serif\" font-size=\"14.00\" text-anchor=\"middle\" x=\"62.5\" y=\"-37.8\">entropy = 0.945</text>\n<text fill=\"#000000\" font-family=\"Times,serif\" font-size=\"14.00\" text-anchor=\"middle\" x=\"62.5\" y=\"-22.8\">samples = 1186</text>\n<text fill=\"#000000\" font-family=\"Times,serif\" font-size=\"14.00\" text-anchor=\"middle\" x=\"62.5\" y=\"-7.8\">value = [430, 756]</text>\n</g>\n<!-- 2&#45;&gt;3 -->\n<g class=\"edge\" id=\"edge3\">\n<title>2-&gt;3</title>\n<path d=\"M152.4938,-88.9777C138.5126,-79.2713 123.3162,-68.7213 109.4602,-59.1018\" fill=\"none\" stroke=\"#000000\"/>\n<polygon fill=\"#000000\" points=\"111.2394,-56.0763 101.0289,-53.2485 107.2474,-61.8264 111.2394,-56.0763\" stroke=\"#000000\"/>\n</g>\n<!-- 4 -->\n<g class=\"node\" id=\"node5\">\n<title>4</title>\n<polygon fill=\"#e58139\" points=\"260,-53 143,-53 143,0 260,0 260,-53\" stroke=\"#000000\"/>\n<text fill=\"#000000\" font-family=\"Times,serif\" font-size=\"14.00\" text-anchor=\"middle\" x=\"201.5\" y=\"-37.8\">entropy = 0.0</text>\n<text fill=\"#000000\" font-family=\"Times,serif\" font-size=\"14.00\" text-anchor=\"middle\" x=\"201.5\" y=\"-22.8\">samples = 1415</text>\n<text fill=\"#000000\" font-family=\"Times,serif\" font-size=\"14.00\" text-anchor=\"middle\" x=\"201.5\" y=\"-7.8\">value = [1415, 0]</text>\n</g>\n<!-- 2&#45;&gt;4 -->\n<g class=\"edge\" id=\"edge4\">\n<title>2-&gt;4</title>\n<path d=\"M201.5,-88.9777C201.5,-80.7364 201.5,-71.887 201.5,-63.5153\" fill=\"none\" stroke=\"#000000\"/>\n<polygon fill=\"#000000\" points=\"205.0001,-63.2484 201.5,-53.2485 198.0001,-63.2485 205.0001,-63.2484\" stroke=\"#000000\"/>\n</g>\n<!-- 6 -->\n<g class=\"node\" id=\"node7\">\n<title>6</title>\n<polygon fill=\"#e68844\" points=\"395,-53 278,-53 278,0 395,0 395,-53\" stroke=\"#000000\"/>\n<text fill=\"#000000\" font-family=\"Times,serif\" font-size=\"14.00\" text-anchor=\"middle\" x=\"336.5\" y=\"-37.8\">entropy = 0.3</text>\n<text fill=\"#000000\" font-family=\"Times,serif\" font-size=\"14.00\" text-anchor=\"middle\" x=\"336.5\" y=\"-22.8\">samples = 263</text>\n<text fill=\"#000000\" font-family=\"Times,serif\" font-size=\"14.00\" text-anchor=\"middle\" x=\"336.5\" y=\"-7.8\">value = [249, 14]</text>\n</g>\n<!-- 5&#45;&gt;6 -->\n<g class=\"edge\" id=\"edge6\">\n<title>5-&gt;6</title>\n<path d=\"M378.5834,-88.9777C372.6006,-80.0954 366.1418,-70.5067 360.123,-61.5711\" fill=\"none\" stroke=\"#000000\"/>\n<polygon fill=\"#000000\" points=\"363.0067,-59.5871 354.5171,-53.2485 357.2009,-63.4978 363.0067,-59.5871\" stroke=\"#000000\"/>\n</g>\n<!-- 7 -->\n<g class=\"node\" id=\"node8\">\n<title>7</title>\n<polygon fill=\"#e5813a\" points=\"530,-53 413,-53 413,0 530,0 530,-53\" stroke=\"#000000\"/>\n<text fill=\"#000000\" font-family=\"Times,serif\" font-size=\"14.00\" text-anchor=\"middle\" x=\"471.5\" y=\"-37.8\">entropy = 0.028</text>\n<text fill=\"#000000\" font-family=\"Times,serif\" font-size=\"14.00\" text-anchor=\"middle\" x=\"471.5\" y=\"-22.8\">samples = 1802</text>\n<text fill=\"#000000\" font-family=\"Times,serif\" font-size=\"14.00\" text-anchor=\"middle\" x=\"471.5\" y=\"-7.8\">value = [1797, 5]</text>\n</g>\n<!-- 5&#45;&gt;7 -->\n<g class=\"edge\" id=\"edge7\">\n<title>5-&gt;7</title>\n<path d=\"M426.1794,-88.9777C432.6225,-80.0954 439.578,-70.5067 446.0598,-61.5711\" fill=\"none\" stroke=\"#000000\"/>\n<polygon fill=\"#000000\" points=\"449.0583,-63.3982 452.097,-53.2485 443.3921,-59.288 449.0583,-63.3982\" stroke=\"#000000\"/>\n</g>\n<!-- 9 -->\n<g class=\"node\" id=\"node10\">\n<title>9</title>\n<polygon fill=\"#42a2e6\" points=\"754.5,-157 596.5,-157 596.5,-89 754.5,-89 754.5,-157\" stroke=\"#000000\"/>\n<text fill=\"#000000\" font-family=\"Times,serif\" font-size=\"14.00\" text-anchor=\"middle\" x=\"675.5\" y=\"-141.8\">oldbalanceOrg &lt;= 0.004</text>\n<text fill=\"#000000\" font-family=\"Times,serif\" font-size=\"14.00\" text-anchor=\"middle\" x=\"675.5\" y=\"-126.8\">entropy = 0.265</text>\n<text fill=\"#000000\" font-family=\"Times,serif\" font-size=\"14.00\" text-anchor=\"middle\" x=\"675.5\" y=\"-111.8\">samples = 5099</text>\n<text fill=\"#000000\" font-family=\"Times,serif\" font-size=\"14.00\" text-anchor=\"middle\" x=\"675.5\" y=\"-96.8\">value = [230, 4869]</text>\n</g>\n<!-- 8&#45;&gt;9 -->\n<g class=\"edge\" id=\"edge9\">\n<title>8-&gt;9</title>\n<path d=\"M675.5,-192.9465C675.5,-184.776 675.5,-175.9318 675.5,-167.3697\" fill=\"none\" stroke=\"#000000\"/>\n<polygon fill=\"#000000\" points=\"679.0001,-167.13 675.5,-157.13 672.0001,-167.13 679.0001,-167.13\" stroke=\"#000000\"/>\n</g>\n<!-- 12 -->\n<g class=\"node\" id=\"node13\">\n<title>12</title>\n<polygon fill=\"#e78946\" points=\"965.5,-157 833.5,-157 833.5,-89 965.5,-89 965.5,-157\" stroke=\"#000000\"/>\n<text fill=\"#000000\" font-family=\"Times,serif\" font-size=\"14.00\" text-anchor=\"middle\" x=\"899.5\" y=\"-141.8\">amount &lt;= 0.009</text>\n<text fill=\"#000000\" font-family=\"Times,serif\" font-size=\"14.00\" text-anchor=\"middle\" x=\"899.5\" y=\"-126.8\">entropy = 0.33</text>\n<text fill=\"#000000\" font-family=\"Times,serif\" font-size=\"14.00\" text-anchor=\"middle\" x=\"899.5\" y=\"-111.8\">samples = 1733</text>\n<text fill=\"#000000\" font-family=\"Times,serif\" font-size=\"14.00\" text-anchor=\"middle\" x=\"899.5\" y=\"-96.8\">value = [1628, 105]</text>\n</g>\n<!-- 8&#45;&gt;12 -->\n<g class=\"edge\" id=\"edge12\">\n<title>8-&gt;12</title>\n<path d=\"M748.846,-192.9465C772.9447,-181.7578 799.7648,-169.3056 824.0191,-158.0447\" fill=\"none\" stroke=\"#000000\"/>\n<polygon fill=\"#000000\" points=\"825.582,-161.178 833.1782,-153.7923 822.6342,-154.8289 825.582,-161.178\" stroke=\"#000000\"/>\n</g>\n<!-- 10 -->\n<g class=\"node\" id=\"node11\">\n<title>10</title>\n<polygon fill=\"#56abe9\" points=\"680.5,-53 548.5,-53 548.5,0 680.5,0 680.5,-53\" stroke=\"#000000\"/>\n<text fill=\"#000000\" font-family=\"Times,serif\" font-size=\"14.00\" text-anchor=\"middle\" x=\"614.5\" y=\"-37.8\">entropy = 0.553</text>\n<text fill=\"#000000\" font-family=\"Times,serif\" font-size=\"14.00\" text-anchor=\"middle\" x=\"614.5\" y=\"-22.8\">samples = 1706</text>\n<text fill=\"#000000\" font-family=\"Times,serif\" font-size=\"14.00\" text-anchor=\"middle\" x=\"614.5\" y=\"-7.8\">value = [219, 1487]</text>\n</g>\n<!-- 9&#45;&gt;10 -->\n<g class=\"edge\" id=\"edge10\">\n<title>9-&gt;10</title>\n<path d=\"M653.9937,-88.9777C648.4369,-80.187 642.4427,-70.7044 636.8441,-61.8477\" fill=\"none\" stroke=\"#000000\"/>\n<polygon fill=\"#000000\" points=\"639.7101,-59.8312 631.4084,-53.2485 633.7931,-63.5714 639.7101,-59.8312\" stroke=\"#000000\"/>\n</g>\n<!-- 11 -->\n<g class=\"node\" id=\"node12\">\n<title>11</title>\n<polygon fill=\"#3a9de5\" points=\"822.5,-53 698.5,-53 698.5,0 822.5,0 822.5,-53\" stroke=\"#000000\"/>\n<text fill=\"#000000\" font-family=\"Times,serif\" font-size=\"14.00\" text-anchor=\"middle\" x=\"760.5\" y=\"-37.8\">entropy = 0.031</text>\n<text fill=\"#000000\" font-family=\"Times,serif\" font-size=\"14.00\" text-anchor=\"middle\" x=\"760.5\" y=\"-22.8\">samples = 3393</text>\n<text fill=\"#000000\" font-family=\"Times,serif\" font-size=\"14.00\" text-anchor=\"middle\" x=\"760.5\" y=\"-7.8\">value = [11, 3382]</text>\n</g>\n<!-- 9&#45;&gt;11 -->\n<g class=\"edge\" id=\"edge11\">\n<title>9-&gt;11</title>\n<path d=\"M705.4678,-88.9777C713.4529,-79.9123 722.0862,-70.111 730.0944,-61.0192\" fill=\"none\" stroke=\"#000000\"/>\n<polygon fill=\"#000000\" points=\"732.9558,-63.066 736.9392,-53.2485 727.7029,-58.4391 732.9558,-63.066\" stroke=\"#000000\"/>\n</g>\n<!-- 13 -->\n<g class=\"node\" id=\"node14\">\n<title>13</title>\n<polygon fill=\"#e58139\" points=\"958,-53 841,-53 841,0 958,0 958,-53\" stroke=\"#000000\"/>\n<text fill=\"#000000\" font-family=\"Times,serif\" font-size=\"14.00\" text-anchor=\"middle\" x=\"899.5\" y=\"-37.8\">entropy = 0.014</text>\n<text fill=\"#000000\" font-family=\"Times,serif\" font-size=\"14.00\" text-anchor=\"middle\" x=\"899.5\" y=\"-22.8\">samples = 1630</text>\n<text fill=\"#000000\" font-family=\"Times,serif\" font-size=\"14.00\" text-anchor=\"middle\" x=\"899.5\" y=\"-7.8\">value = [1628, 2]</text>\n</g>\n<!-- 12&#45;&gt;13 -->\n<g class=\"edge\" id=\"edge13\">\n<title>12-&gt;13</title>\n<path d=\"M899.5,-88.9777C899.5,-80.7364 899.5,-71.887 899.5,-63.5153\" fill=\"none\" stroke=\"#000000\"/>\n<polygon fill=\"#000000\" points=\"903.0001,-63.2484 899.5,-53.2485 896.0001,-63.2485 903.0001,-63.2484\" stroke=\"#000000\"/>\n</g>\n<!-- 14 -->\n<g class=\"node\" id=\"node15\">\n<title>14</title>\n<polygon fill=\"#399de5\" points=\"1086.5,-53 976.5,-53 976.5,0 1086.5,0 1086.5,-53\" stroke=\"#000000\"/>\n<text fill=\"#000000\" font-family=\"Times,serif\" font-size=\"14.00\" text-anchor=\"middle\" x=\"1031.5\" y=\"-37.8\">entropy = 0.0</text>\n<text fill=\"#000000\" font-family=\"Times,serif\" font-size=\"14.00\" text-anchor=\"middle\" x=\"1031.5\" y=\"-22.8\">samples = 103</text>\n<text fill=\"#000000\" font-family=\"Times,serif\" font-size=\"14.00\" text-anchor=\"middle\" x=\"1031.5\" y=\"-7.8\">value = [0, 103]</text>\n</g>\n<!-- 12&#45;&gt;14 -->\n<g class=\"edge\" id=\"edge14\">\n<title>12-&gt;14</title>\n<path d=\"M946.0383,-88.9777C959.1901,-79.3629 973.4743,-68.9203 986.532,-59.3743\" fill=\"none\" stroke=\"#000000\"/>\n<polygon fill=\"#000000\" points=\"988.9042,-61.9757 994.9114,-53.2485 984.773,-56.3247 988.9042,-61.9757\" stroke=\"#000000\"/>\n</g>\n</g>\n</svg>"
          },
          "metadata": {
            "tags": []
          }
        }
      ]
    },
    {
      "cell_type": "markdown",
      "metadata": {
        "id": "dZUcVXk6uPcf"
      },
      "source": [
        "# Implementação Interativa\n",
        "Por: Thiago"
      ]
    },
    {
      "cell_type": "code",
      "metadata": {
        "id": "j0qprfv1TIKd"
      },
      "source": [
        "#Definindo a função de plotagem da árvore\n",
        "def plot_tree(crit, split, depth, min_split, min_leaf=0.2): \n",
        "  #Classificador da árvore de decisão\n",
        "  estimator = DecisionTreeClassifier(random_state = 0 \n",
        "                                    , criterion = crit\n",
        "                                    , splitter = split\n",
        "                                    , max_depth = depth\n",
        "                                    , min_samples_split=min_split\n",
        "                                    , min_samples_leaf=min_leaf)\n",
        "  \n",
        "  #Construindo um classificador de árvore de decisão a partir do conjunto de treinamento \n",
        "  estimator.fit(X_train, y_train)\n",
        "\n",
        "  #Definindo processo de impressão da árvore\n",
        "  graph = Source(tree.export_graphviz(estimator\n",
        "                                      , out_file=None\n",
        "                                      , feature_names=colunas\n",
        "                                      , filled = True))\n",
        "   \n",
        "  display(SVG(graph.pipe(format='svg'))) \n",
        "\n",
        "  #Retorna o classificador\n",
        "  return estimator\n",
        "\n",
        "#Definição da função Interativa\n",
        "inter = interactive(plot_tree \n",
        "   , crit = [\"gini\", \"entropy\"]\n",
        "   , split = [\"best\", \"random\"]\n",
        "   , depth=[1,2,3,4,5,6,7,8,9,10]\n",
        "   , min_split=(0.1,1)\n",
        "   , min_leaf=(0.1,0.5))\n",
        "\n",
        "#Plotagem da função Interativa\n",
        "display(inter)\n",
        "\n",
        "#(OBS : A árvore demora atualizar à cada interação)"
      ],
      "execution_count": null,
      "outputs": []
    },
    {
      "cell_type": "code",
      "metadata": {
        "id": "QW7Id1XAQwrv",
        "colab": {
          "base_uri": "https://localhost:8080/",
          "height": 581
        },
        "outputId": "94e15736-c4cc-4732-def7-e8b3a5f5612f"
      },
      "source": [
        "# Previsão da classe de teste \n",
        "predictions = estimator.predict(X_val)\n",
        "\n",
        "# Acurárica das previsões\n",
        "print(\"Acurácia média: \", estimator.score(X_val, y_val), \"\\n\")\n",
        "print(\"Matriz de confusão: \")\n",
        "print(confusion_matrix(y_val, predictions))\n",
        "print(\"\\n\")\n",
        "print(classification_report(y_val, predictions))\n",
        "skplt.metrics.plot_confusion_matrix(y_val, predictions, normalize=True)"
      ],
      "execution_count": null,
      "outputs": [
        {
          "output_type": "stream",
          "text": [
            "Acurácia média:  0.8854916161371678 \n",
            "\n",
            "Matriz de confusão: \n",
            "[[1687757  218565]\n",
            " [      7    2457]]\n",
            "\n",
            "\n",
            "              precision    recall  f1-score   support\n",
            "\n",
            "           0       1.00      0.89      0.94   1906322\n",
            "           1       0.01      1.00      0.02      2464\n",
            "\n",
            "    accuracy                           0.89   1908786\n",
            "   macro avg       0.51      0.94      0.48   1908786\n",
            "weighted avg       1.00      0.89      0.94   1908786\n",
            "\n"
          ],
          "name": "stdout"
        },
        {
          "output_type": "execute_result",
          "data": {
            "text/plain": [
              "<matplotlib.axes._subplots.AxesSubplot at 0x7f05861f7d10>"
            ]
          },
          "metadata": {
            "tags": []
          },
          "execution_count": 16
        },
        {
          "output_type": "display_data",
          "data": {
            "image/png": "[encoded data removed]",
            "text/plain": [
              "<Figure size 432x288 with 2 Axes>"
            ]
          },
          "metadata": {
            "tags": [],
            "needs_background": "light"
          }
        }
      ]
    }
  ]
}