{
  "nbformat": 4,
  "nbformat_minor": 0,
  "metadata": {
    "colab": {
      "name": "2020.02_AP_04_ArvDecisão_AED_Eduardo_Thiago_Wendel.ipynb",
      "provenance": [],
      "collapsed_sections": [
        "-_Rom_E8Yrt2",
        "4dZV_3fGZNpr",
        "vaTR91taZQcH",
        "ao9brJj5T136",
        "JvDJ7aaTUBu5",
        "ueNal_8vVLWI",
        "KhINV2lZXrvw",
        "TcZ7n-_HwIQZ"
      ]
    },
    "kernelspec": {
      "name": "python3",
      "display_name": "Python 3"
    },
    "language_info": {
      "name": "python"
    }
  },
  "cells": [
    {
      "cell_type": "markdown",
      "metadata": {
        "id": "t9we-KiwSP51"
      },
      "source": [
        "**Instituto de Informática - UFG**\n",
        "\n",
        "Disciplina: Inteligência Artificial\n",
        "\n",
        "Prof. Cedric Luiz de Carvalho\n",
        "\n",
        "\n",
        "Grupo (A)\n",
        "\n",
        "---\n",
        "\n",
        "\n",
        "Aluna(o): Eduardo Barros Pimenta - Gerente\n",
        "\n",
        "---\n",
        "\n",
        "Aluna(o): Thiago Emanuell Vieira Moura - Engenheiro de Conhecimento\n",
        "\n",
        "---\n",
        "\n",
        "Aluna(o): Wendel Marques de Jesus Souza - Analista de Dados\n",
        "\n",
        "---"
      ]
    },
    {
      "cell_type": "markdown",
      "metadata": {
        "id": "e0IEfqwfSX5N"
      },
      "source": [
        "# Objetivos deste artefato"
      ]
    },
    {
      "cell_type": "markdown",
      "metadata": {
        "id": "SfGRAAi2Sbnd"
      },
      "source": [
        "O objetivo geral é a obtenção de *insights* sobre o conjunto de dados.  Para tanto, serão utilizadas técnicas de visualização de dados e alguns cálculos estátisticos básicos. Essa etapa é chamada de análise exploratória de dados (AED). Por meio dela, é possível também encontrar problemas, padrões e relacionamentos que poderão apoiar a etapa de pré-processamento, que antecede a implementação. "
      ]
    },
    {
      "cell_type": "markdown",
      "metadata": {
        "id": "-_Rom_E8Yrt2"
      },
      "source": [
        "# Descrição geral da base de dados"
      ]
    },
    {
      "cell_type": "markdown",
      "metadata": {
        "id": "4dZV_3fGZNpr"
      },
      "source": [
        "### O conjunto de dados"
      ]
    },
    {
      "cell_type": "markdown",
      "metadata": {
        "id": "gr7zeqakY-Qp"
      },
      "source": [
        "É um conjunto de dados sintético gerado usando o simulador chamado PaySim. PaySim usa dados agregados do conjunto de dados privado para gerar um conjunto de dados sintético que se assemelha à operação normal de transações e injeta comportamento malicioso para avaliar posteriormente o desempenho dos métodos de detecção de fraude.\n",
        "\n",
        "Os logs originais foram fornecidos por uma empresa multinacional, fornecedora do serviço financeiro móvel que atualmente opera em mais de 14 países em todo o mundo. O conjunto de dados sintético é reduzido em 1/4 do conjunto de dados original\n",
        "\n",
        "Tradução livre da descrição disponível em [conjunto de dados financeiros sintéticos para detecção de fraude\n",
        "](https://www.kaggle.com/ntnu-testimon/paysim1)."
      ]
    },
    {
      "cell_type": "markdown",
      "metadata": {
        "id": "vaTR91taZQcH"
      },
      "source": [
        "### Headers"
      ]
    },
    {
      "cell_type": "markdown",
      "metadata": {
        "id": "MCYDQOyUZXQx"
      },
      "source": [
        "Este é um exemplo de 1 linha com explicação de cabeçalhos:\n",
        "\n",
        "\n",
        "**1,\tCASH_OUT,\t181.00,\tC840083671,\t181.0,\t0.00,\tC38997010,\t21182.0,\t0.0,\t1,\t0**\n",
        "\n",
        "Cada campo corresponde a respectivamente:\n",
        "\n",
        "*  **step** - mapeia uma unidade de tempo no mundo real. Neste caso, 1 etapa corresponde a 1 hora de tempo. Total de etapas 744 (simulação de 30 dias).\n",
        "\n",
        "* **tipo** - CASH-IN, CASH-OUT, DEBIT, PAYMENT ou TRANSFER.\n",
        "\n",
        "* **montante** - montante da transação em moeda local.\n",
        "\n",
        "* **nameOrig** - cliente que iniciou a transação\n",
        "\n",
        "* **oldbalanceOrg** - saldo inicial antes da transação\n",
        "\n",
        "* **newbalanceOrig** - novo saldo após a transação\n",
        "\n",
        "* **nameDest** - cliente que é o destinatário da transação\n",
        "\n",
        "* **oldbalanceDest** - destinatário do saldo inicial antes da transação. Observe que não há informações para clientes que começam com M (Comerciantes).\n",
        "newbalanceDest - novo destinatário do saldo após a transação. Observe que não há informações para clientes que começam com M (Comerciantes).\n",
        "\n",
        "* **isFraud** - São as transações feitas pelos agentes fraudulentos dentro da simulação. Neste conjunto de dados específico, o comportamento fraudulento dos agentes visa lucrar ao assumir o controle das contas dos clientes e tentar esvaziar os fundos transferindo para outra conta e retirando do sistema.\n",
        "\n",
        "* **isFlaggedFraud** - O modelo de negócios visa controlar as transferências em massa de uma conta para outra e sinaliza tentativas ilegais. Uma tentativa ilegal neste conjunto de dados é uma tentativa de transferir mais de 200.000 em uma única transação.\n"
      ]
    },
    {
      "cell_type": "markdown",
      "metadata": {
        "id": "ao9brJj5T136"
      },
      "source": [
        "# Passos preliminares"
      ]
    },
    {
      "cell_type": "markdown",
      "metadata": {
        "id": "78jz3gvIn6Tp"
      },
      "source": [
        "###Bibliotecas utilizadas"
      ]
    },
    {
      "cell_type": "code",
      "metadata": {
        "id": "ebUQXRyyTwDU"
      },
      "source": [
        "#biblitoecas utilizadas na etada AED\n",
        "import pandas as pd\n",
        "import numpy as np\n",
        "import seaborn as sns\n",
        "import matplotlib.pyplot as plt\n",
        "import warnings \n",
        "warnings.filterwarnings('ignore') #evita que warnings sejam mostrados\n",
        "from sklearn.preprocessing import LabelEncoder"
      ],
      "execution_count": null,
      "outputs": []
    },
    {
      "cell_type": "markdown",
      "metadata": {
        "id": "Z30w6iF1n-Jy"
      },
      "source": [
        "### Leitura dos dados"
      ]
    },
    {
      "cell_type": "code",
      "metadata": {
        "id": "8WGBT3NPUBIh"
      },
      "source": [
        "#Leitura dos dados\n",
        "df = pd.read_csv('/content/drive/MyDrive/2020.2/Inteligência Artificial (IA)/Trabalhos/00. Árvores de Decisão/BaseDeDados/PS_20174392719_1491204439457_log.csv')"
      ],
      "execution_count": null,
      "outputs": []
    },
    {
      "cell_type": "markdown",
      "metadata": {
        "id": "ixNi1L46TtBT"
      },
      "source": [
        "# Análise exploratória dos dados"
      ]
    },
    {
      "cell_type": "markdown",
      "metadata": {
        "id": "JvDJ7aaTUBu5"
      },
      "source": [
        "### Informações básicas sobre o DataFrame\n",
        "Dimensionalidade e descrição estatística"
      ]
    },
    {
      "cell_type": "code",
      "metadata": {
        "colab": {
          "base_uri": "https://localhost:8080/",
          "height": 224
        },
        "id": "CDeeAfgXU2cc",
        "outputId": "a56e90ea-fd7d-449d-aa44-04a565eb027c"
      },
      "source": [
        "#Verificação de algumas linhas \n",
        "df.head()"
      ],
      "execution_count": null,
      "outputs": [
        {
          "output_type": "execute_result",
          "data": {
            "text/html": [
              "<div>\n",
              "<style scoped>\n",
              "    .dataframe tbody tr th:only-of-type {\n",
              "        vertical-align: middle;\n",
              "    }\n",
              "\n",
              "    .dataframe tbody tr th {\n",
              "        vertical-align: top;\n",
              "    }\n",
              "\n",
              "    .dataframe thead th {\n",
              "        text-align: right;\n",
              "    }\n",
              "</style>\n",
              "<table border=\"1\" class=\"dataframe\">\n",
              "  <thead>\n",
              "    <tr style=\"text-align: right;\">\n",
              "      <th></th>\n",
              "      <th>step</th>\n",
              "      <th>type</th>\n",
              "      <th>amount</th>\n",
              "      <th>nameOrig</th>\n",
              "      <th>oldbalanceOrg</th>\n",
              "      <th>newbalanceOrig</th>\n",
              "      <th>nameDest</th>\n",
              "      <th>oldbalanceDest</th>\n",
              "      <th>newbalanceDest</th>\n",
              "      <th>isFraud</th>\n",
              "      <th>isFlaggedFraud</th>\n",
              "    </tr>\n",
              "  </thead>\n",
              "  <tbody>\n",
              "    <tr>\n",
              "      <th>0</th>\n",
              "      <td>1</td>\n",
              "      <td>PAYMENT</td>\n",
              "      <td>9839.64</td>\n",
              "      <td>C1231006815</td>\n",
              "      <td>170136.0</td>\n",
              "      <td>160296.36</td>\n",
              "      <td>M1979787155</td>\n",
              "      <td>0.0</td>\n",
              "      <td>0.0</td>\n",
              "      <td>0</td>\n",
              "      <td>0</td>\n",
              "    </tr>\n",
              "    <tr>\n",
              "      <th>1</th>\n",
              "      <td>1</td>\n",
              "      <td>PAYMENT</td>\n",
              "      <td>1864.28</td>\n",
              "      <td>C1666544295</td>\n",
              "      <td>21249.0</td>\n",
              "      <td>19384.72</td>\n",
              "      <td>M2044282225</td>\n",
              "      <td>0.0</td>\n",
              "      <td>0.0</td>\n",
              "      <td>0</td>\n",
              "      <td>0</td>\n",
              "    </tr>\n",
              "    <tr>\n",
              "      <th>2</th>\n",
              "      <td>1</td>\n",
              "      <td>TRANSFER</td>\n",
              "      <td>181.00</td>\n",
              "      <td>C1305486145</td>\n",
              "      <td>181.0</td>\n",
              "      <td>0.00</td>\n",
              "      <td>C553264065</td>\n",
              "      <td>0.0</td>\n",
              "      <td>0.0</td>\n",
              "      <td>1</td>\n",
              "      <td>0</td>\n",
              "    </tr>\n",
              "    <tr>\n",
              "      <th>3</th>\n",
              "      <td>1</td>\n",
              "      <td>CASH_OUT</td>\n",
              "      <td>181.00</td>\n",
              "      <td>C840083671</td>\n",
              "      <td>181.0</td>\n",
              "      <td>0.00</td>\n",
              "      <td>C38997010</td>\n",
              "      <td>21182.0</td>\n",
              "      <td>0.0</td>\n",
              "      <td>1</td>\n",
              "      <td>0</td>\n",
              "    </tr>\n",
              "    <tr>\n",
              "      <th>4</th>\n",
              "      <td>1</td>\n",
              "      <td>PAYMENT</td>\n",
              "      <td>11668.14</td>\n",
              "      <td>C2048537720</td>\n",
              "      <td>41554.0</td>\n",
              "      <td>29885.86</td>\n",
              "      <td>M1230701703</td>\n",
              "      <td>0.0</td>\n",
              "      <td>0.0</td>\n",
              "      <td>0</td>\n",
              "      <td>0</td>\n",
              "    </tr>\n",
              "  </tbody>\n",
              "</table>\n",
              "</div>"
            ],
            "text/plain": [
              "   step      type    amount  ... newbalanceDest  isFraud  isFlaggedFraud\n",
              "0     1   PAYMENT   9839.64  ...            0.0        0               0\n",
              "1     1   PAYMENT   1864.28  ...            0.0        0               0\n",
              "2     1  TRANSFER    181.00  ...            0.0        1               0\n",
              "3     1  CASH_OUT    181.00  ...            0.0        1               0\n",
              "4     1   PAYMENT  11668.14  ...            0.0        0               0\n",
              "\n",
              "[5 rows x 11 columns]"
            ]
          },
          "metadata": {
            "tags": []
          },
          "execution_count": 3
        }
      ]
    },
    {
      "cell_type": "code",
      "metadata": {
        "colab": {
          "base_uri": "https://localhost:8080/"
        },
        "id": "HY3AHP8SUTzR",
        "outputId": "3a239bbc-4145-4e67-db16-856f6677627a"
      },
      "source": [
        "#Verificação da dimensionalidade do DataFrame\n",
        "df.shape"
      ],
      "execution_count": null,
      "outputs": [
        {
          "output_type": "execute_result",
          "data": {
            "text/plain": [
              "(6362620, 11)"
            ]
          },
          "metadata": {
            "tags": []
          },
          "execution_count": 4
        }
      ]
    },
    {
      "cell_type": "code",
      "metadata": {
        "colab": {
          "base_uri": "https://localhost:8080/"
        },
        "id": "3vRBEbwPUdqw",
        "outputId": "2e0b5559-4929-4d6a-f445-4366c55bb622"
      },
      "source": [
        "#Informações dos atributos\n",
        "df.info()"
      ],
      "execution_count": null,
      "outputs": [
        {
          "output_type": "stream",
          "text": [
            "<class 'pandas.core.frame.DataFrame'>\n",
            "RangeIndex: 6362620 entries, 0 to 6362619\n",
            "Data columns (total 11 columns):\n",
            " #   Column          Dtype  \n",
            "---  ------          -----  \n",
            " 0   step            int64  \n",
            " 1   type            object \n",
            " 2   amount          float64\n",
            " 3   nameOrig        object \n",
            " 4   oldbalanceOrg   float64\n",
            " 5   newbalanceOrig  float64\n",
            " 6   nameDest        object \n",
            " 7   oldbalanceDest  float64\n",
            " 8   newbalanceDest  float64\n",
            " 9   isFraud         int64  \n",
            " 10  isFlaggedFraud  int64  \n",
            "dtypes: float64(5), int64(3), object(3)\n",
            "memory usage: 534.0+ MB\n"
          ],
          "name": "stdout"
        }
      ]
    },
    {
      "cell_type": "code",
      "metadata": {
        "colab": {
          "base_uri": "https://localhost:8080/",
          "height": 317
        },
        "id": "BZf6o92ohsN-",
        "outputId": "51bd41bd-fdbb-4388-9b2a-dbe2307db13a"
      },
      "source": [
        "#Descrição estatística de cada recurso\n",
        "df.describe()"
      ],
      "execution_count": null,
      "outputs": [
        {
          "output_type": "execute_result",
          "data": {
            "text/html": [
              "<div>\n",
              "<style scoped>\n",
              "    .dataframe tbody tr th:only-of-type {\n",
              "        vertical-align: middle;\n",
              "    }\n",
              "\n",
              "    .dataframe tbody tr th {\n",
              "        vertical-align: top;\n",
              "    }\n",
              "\n",
              "    .dataframe thead th {\n",
              "        text-align: right;\n",
              "    }\n",
              "</style>\n",
              "<table border=\"1\" class=\"dataframe\">\n",
              "  <thead>\n",
              "    <tr style=\"text-align: right;\">\n",
              "      <th></th>\n",
              "      <th>step</th>\n",
              "      <th>amount</th>\n",
              "      <th>oldbalanceOrg</th>\n",
              "      <th>newbalanceOrig</th>\n",
              "      <th>oldbalanceDest</th>\n",
              "      <th>newbalanceDest</th>\n",
              "      <th>isFraud</th>\n",
              "      <th>isFlaggedFraud</th>\n",
              "    </tr>\n",
              "  </thead>\n",
              "  <tbody>\n",
              "    <tr>\n",
              "      <th>count</th>\n",
              "      <td>6.362620e+06</td>\n",
              "      <td>6.362620e+06</td>\n",
              "      <td>6.362620e+06</td>\n",
              "      <td>6.362620e+06</td>\n",
              "      <td>6.362620e+06</td>\n",
              "      <td>6.362620e+06</td>\n",
              "      <td>6.362620e+06</td>\n",
              "      <td>6.362620e+06</td>\n",
              "    </tr>\n",
              "    <tr>\n",
              "      <th>mean</th>\n",
              "      <td>2.433972e+02</td>\n",
              "      <td>1.798619e+05</td>\n",
              "      <td>8.338831e+05</td>\n",
              "      <td>8.551137e+05</td>\n",
              "      <td>1.100702e+06</td>\n",
              "      <td>1.224996e+06</td>\n",
              "      <td>1.290820e-03</td>\n",
              "      <td>2.514687e-06</td>\n",
              "    </tr>\n",
              "    <tr>\n",
              "      <th>std</th>\n",
              "      <td>1.423320e+02</td>\n",
              "      <td>6.038582e+05</td>\n",
              "      <td>2.888243e+06</td>\n",
              "      <td>2.924049e+06</td>\n",
              "      <td>3.399180e+06</td>\n",
              "      <td>3.674129e+06</td>\n",
              "      <td>3.590480e-02</td>\n",
              "      <td>1.585775e-03</td>\n",
              "    </tr>\n",
              "    <tr>\n",
              "      <th>min</th>\n",
              "      <td>1.000000e+00</td>\n",
              "      <td>0.000000e+00</td>\n",
              "      <td>0.000000e+00</td>\n",
              "      <td>0.000000e+00</td>\n",
              "      <td>0.000000e+00</td>\n",
              "      <td>0.000000e+00</td>\n",
              "      <td>0.000000e+00</td>\n",
              "      <td>0.000000e+00</td>\n",
              "    </tr>\n",
              "    <tr>\n",
              "      <th>25%</th>\n",
              "      <td>1.560000e+02</td>\n",
              "      <td>1.338957e+04</td>\n",
              "      <td>0.000000e+00</td>\n",
              "      <td>0.000000e+00</td>\n",
              "      <td>0.000000e+00</td>\n",
              "      <td>0.000000e+00</td>\n",
              "      <td>0.000000e+00</td>\n",
              "      <td>0.000000e+00</td>\n",
              "    </tr>\n",
              "    <tr>\n",
              "      <th>50%</th>\n",
              "      <td>2.390000e+02</td>\n",
              "      <td>7.487194e+04</td>\n",
              "      <td>1.420800e+04</td>\n",
              "      <td>0.000000e+00</td>\n",
              "      <td>1.327057e+05</td>\n",
              "      <td>2.146614e+05</td>\n",
              "      <td>0.000000e+00</td>\n",
              "      <td>0.000000e+00</td>\n",
              "    </tr>\n",
              "    <tr>\n",
              "      <th>75%</th>\n",
              "      <td>3.350000e+02</td>\n",
              "      <td>2.087215e+05</td>\n",
              "      <td>1.073152e+05</td>\n",
              "      <td>1.442584e+05</td>\n",
              "      <td>9.430367e+05</td>\n",
              "      <td>1.111909e+06</td>\n",
              "      <td>0.000000e+00</td>\n",
              "      <td>0.000000e+00</td>\n",
              "    </tr>\n",
              "    <tr>\n",
              "      <th>max</th>\n",
              "      <td>7.430000e+02</td>\n",
              "      <td>9.244552e+07</td>\n",
              "      <td>5.958504e+07</td>\n",
              "      <td>4.958504e+07</td>\n",
              "      <td>3.560159e+08</td>\n",
              "      <td>3.561793e+08</td>\n",
              "      <td>1.000000e+00</td>\n",
              "      <td>1.000000e+00</td>\n",
              "    </tr>\n",
              "  </tbody>\n",
              "</table>\n",
              "</div>"
            ],
            "text/plain": [
              "               step        amount  ...       isFraud  isFlaggedFraud\n",
              "count  6.362620e+06  6.362620e+06  ...  6.362620e+06    6.362620e+06\n",
              "mean   2.433972e+02  1.798619e+05  ...  1.290820e-03    2.514687e-06\n",
              "std    1.423320e+02  6.038582e+05  ...  3.590480e-02    1.585775e-03\n",
              "min    1.000000e+00  0.000000e+00  ...  0.000000e+00    0.000000e+00\n",
              "25%    1.560000e+02  1.338957e+04  ...  0.000000e+00    0.000000e+00\n",
              "50%    2.390000e+02  7.487194e+04  ...  0.000000e+00    0.000000e+00\n",
              "75%    3.350000e+02  2.087215e+05  ...  0.000000e+00    0.000000e+00\n",
              "max    7.430000e+02  9.244552e+07  ...  1.000000e+00    1.000000e+00\n",
              "\n",
              "[8 rows x 8 columns]"
            ]
          },
          "metadata": {
            "tags": []
          },
          "execution_count": 6
        }
      ]
    },
    {
      "cell_type": "markdown",
      "metadata": {
        "id": "-fmI9qwdUgw-"
      },
      "source": [
        "Há tipos *int, float e object.*\n",
        "\n",
        "Possui 6.362.620 linhas (transações) e 11 colunas (atributos)."
      ]
    },
    {
      "cell_type": "markdown",
      "metadata": {
        "id": "ueNal_8vVLWI"
      },
      "source": [
        "### Valores faltantes e linhas duplicadas"
      ]
    },
    {
      "cell_type": "code",
      "metadata": {
        "colab": {
          "base_uri": "https://localhost:8080/"
        },
        "id": "KGGxjtjIVPSr",
        "outputId": "da753376-6b4c-4479-82a0-ab2294abb064"
      },
      "source": [
        "#Verificação de valores missing\n",
        "for coluna in df.columns:\n",
        "    print(\"Qtd. de valores faltantes em {}: {}\".format(coluna, df[coluna].isna().sum()))"
      ],
      "execution_count": null,
      "outputs": [
        {
          "output_type": "stream",
          "text": [
            "Qtd. de valores faltantes em step: 0\n",
            "Qtd. de valores faltantes em type: 0\n",
            "Qtd. de valores faltantes em amount: 0\n",
            "Qtd. de valores faltantes em nameOrig: 0\n",
            "Qtd. de valores faltantes em oldbalanceOrg: 0\n",
            "Qtd. de valores faltantes em newbalanceOrig: 0\n",
            "Qtd. de valores faltantes em nameDest: 0\n",
            "Qtd. de valores faltantes em oldbalanceDest: 0\n",
            "Qtd. de valores faltantes em newbalanceDest: 0\n",
            "Qtd. de valores faltantes em isFraud: 0\n",
            "Qtd. de valores faltantes em isFlaggedFraud: 0\n"
          ],
          "name": "stdout"
        }
      ]
    },
    {
      "cell_type": "code",
      "metadata": {
        "id": "-3EhUrYRVSAx"
      },
      "source": [
        "#Eliminação de valores missing (caso seja necessário)\n",
        "df.dropna(inplace=True)"
      ],
      "execution_count": null,
      "outputs": []
    },
    {
      "cell_type": "code",
      "metadata": {
        "colab": {
          "base_uri": "https://localhost:8080/",
          "height": 49
        },
        "id": "qTpYhxR9WPP7",
        "outputId": "8aed4164-cda0-453a-813f-7fd0608e3e65"
      },
      "source": [
        "#Eliminação de duplicates\n",
        "df[df.duplicated()]"
      ],
      "execution_count": null,
      "outputs": [
        {
          "output_type": "execute_result",
          "data": {
            "text/html": [
              "<div>\n",
              "<style scoped>\n",
              "    .dataframe tbody tr th:only-of-type {\n",
              "        vertical-align: middle;\n",
              "    }\n",
              "\n",
              "    .dataframe tbody tr th {\n",
              "        vertical-align: top;\n",
              "    }\n",
              "\n",
              "    .dataframe thead th {\n",
              "        text-align: right;\n",
              "    }\n",
              "</style>\n",
              "<table border=\"1\" class=\"dataframe\">\n",
              "  <thead>\n",
              "    <tr style=\"text-align: right;\">\n",
              "      <th></th>\n",
              "      <th>step</th>\n",
              "      <th>type</th>\n",
              "      <th>amount</th>\n",
              "      <th>nameOrig</th>\n",
              "      <th>oldbalanceOrg</th>\n",
              "      <th>newbalanceOrig</th>\n",
              "      <th>nameDest</th>\n",
              "      <th>oldbalanceDest</th>\n",
              "      <th>newbalanceDest</th>\n",
              "      <th>isFraud</th>\n",
              "      <th>isFlaggedFraud</th>\n",
              "    </tr>\n",
              "  </thead>\n",
              "  <tbody>\n",
              "  </tbody>\n",
              "</table>\n",
              "</div>"
            ],
            "text/plain": [
              "Empty DataFrame\n",
              "Columns: [step, type, amount, nameOrig, oldbalanceOrg, newbalanceOrig, nameDest, oldbalanceDest, newbalanceDest, isFraud, isFlaggedFraud]\n",
              "Index: []"
            ]
          },
          "metadata": {
            "tags": []
          },
          "execution_count": 27
        }
      ]
    },
    {
      "cell_type": "code",
      "metadata": {
        "id": "ctVuLcT4O3p3"
      },
      "source": [
        "#Remoção de duplicates, se necessário\n",
        "df.drop_duplicates(keep=False, inplace=True)"
      ],
      "execution_count": null,
      "outputs": []
    },
    {
      "cell_type": "code",
      "metadata": {
        "colab": {
          "base_uri": "https://localhost:8080/"
        },
        "id": "ECcPmmv6PADG",
        "outputId": "c2696a97-8a3a-4fe8-a91d-d4d7ecbb87c3"
      },
      "source": [
        "df.shape()"
      ],
      "execution_count": null,
      "outputs": [
        {
          "output_type": "execute_result",
          "data": {
            "text/plain": [
              "(6362620, 11)"
            ]
          },
          "metadata": {
            "tags": []
          },
          "execution_count": 10
        }
      ]
    },
    {
      "cell_type": "markdown",
      "metadata": {
        "id": "WO5Ou20fVc8c"
      },
      "source": [
        "Como base nos resultados, é possível afirmar que a base de dados não possui valores faltantes ou linhas duplicadas. "
      ]
    },
    {
      "cell_type": "markdown",
      "metadata": {
        "id": "YPkpKTNoXlNJ"
      },
      "source": [
        "### Análise dos atributos\n",
        "\n",
        "O processo de análise foi guiado por 4 principais questões. São elas:\n",
        "* O conjunto de dados é balanceado?\n",
        "* Qual é a taxa de fraude por hora do dia?\n",
        "* Em quais operações ocorrem fraudes?\n",
        "* Qual é a correlação entre cada atributo?"
      ]
    },
    {
      "cell_type": "markdown",
      "metadata": {
        "id": "KhINV2lZXrvw"
      },
      "source": [
        "#### isFraud e isFlaggedFraud\n",
        "**O conjunto de dados é balanceado?**"
      ]
    },
    {
      "cell_type": "markdown",
      "metadata": {
        "id": "gEWLmTCFi9b2"
      },
      "source": [
        "Após a análise do contexto do problema e da origem do conjunto de dados, vamos considerar que:\n",
        "* isFraud indica as transações reais de fraude;\n",
        "* isFlaggedFraud indica transações que foram sinalizadas pelo fato de utrapassarem certo limite estabelecido (tentativa de transferir mais de 200.000 em uma única transação)."
      ]
    },
    {
      "cell_type": "code",
      "metadata": {
        "colab": {
          "base_uri": "https://localhost:8080/"
        },
        "id": "3dGCmuNIXj-F",
        "outputId": "d0cbfc85-8907-40fd-e072-bc52662d27d6"
      },
      "source": [
        "#Compração da quantidades de fraudes (ou possível tentativa de fraude) com a quantidade total de transações\n",
        "print('isFraud:')\n",
        "print(df.isFraud.value_counts())\n",
        "\n",
        "print('\\n\\nisFlaggedFraud:')\n",
        "print(df.isFlaggedFraud.value_counts())"
      ],
      "execution_count": null,
      "outputs": [
        {
          "output_type": "stream",
          "text": [
            "isFraud:\n",
            "0    6354407\n",
            "1       8213\n",
            "Name: isFraud, dtype: int64\n",
            "\n",
            "\n",
            "isFlaggedFraud:\n",
            "0    6362604\n",
            "1         16\n",
            "Name: isFlaggedFraud, dtype: int64\n"
          ],
          "name": "stdout"
        }
      ]
    },
    {
      "cell_type": "markdown",
      "metadata": {
        "id": "C11pLHWTQRV0"
      },
      "source": [
        "\n",
        "Vamos verificar essas questões nos gráficos."
      ]
    },
    {
      "cell_type": "code",
      "metadata": {
        "colab": {
          "base_uri": "https://localhost:8080/",
          "height": 307
        },
        "id": "MRmquBJizk5P",
        "outputId": "6b9bba8a-7ff8-40f5-d031-f7d3a3704841"
      },
      "source": [
        "#Análise visual da váriavel 'isFraud'\n",
        "sns.countplot(df['isFraud'])"
      ],
      "execution_count": null,
      "outputs": [
        {
          "output_type": "execute_result",
          "data": {
            "text/plain": [
              "<matplotlib.axes._subplots.AxesSubplot at 0x7f93ff104c90>"
            ]
          },
          "metadata": {
            "tags": []
          },
          "execution_count": 30
        },
        {
          "output_type": "display_data",
          "data": {
            "image/png": "[encoded data removed]",
            "text/plain": [
              "<Figure size 432x288 with 1 Axes>"
            ]
          },
          "metadata": {
            "tags": [],
            "needs_background": "light"
          }
        }
      ]
    },
    {
      "cell_type": "code",
      "metadata": {
        "colab": {
          "base_uri": "https://localhost:8080/",
          "height": 307
        },
        "id": "WMFyM-TGbJQu",
        "outputId": "c0859f6a-3e84-43ae-bdaa-2cb9b4174ab0"
      },
      "source": [
        "#Análise visual da váriavel 'isFlaggedFraud'\n",
        "sns.countplot(df['isFlaggedFraud'])"
      ],
      "execution_count": null,
      "outputs": [
        {
          "output_type": "execute_result",
          "data": {
            "text/plain": [
              "<matplotlib.axes._subplots.AxesSubplot at 0x7f93f33bdb10>"
            ]
          },
          "metadata": {
            "tags": []
          },
          "execution_count": 31
        },
        {
          "output_type": "display_data",
          "data": {
            "image/png": "[encoded data removed]",
            "text/plain": [
              "<Figure size 432x288 with 1 Axes>"
            ]
          },
          "metadata": {
            "tags": [],
            "needs_background": "light"
          }
        }
      ]
    },
    {
      "cell_type": "code",
      "metadata": {
        "colab": {
          "base_uri": "https://localhost:8080/"
        },
        "id": "LEcycF27elHB",
        "outputId": "c57b2312-1b95-4434-aff9-c698a82b5b3f"
      },
      "source": [
        "#Cálculo da representatividade das transações fraudulentas\n",
        "porcentagem_fraudes = (df.isFraud.value_counts()[1]*100/df.isFraud.value_counts()[0])\n",
        "porcentagem_fraudes"
      ],
      "execution_count": null,
      "outputs": [
        {
          "output_type": "execute_result",
          "data": {
            "text/plain": [
              "0.129248881917699"
            ]
          },
          "metadata": {
            "tags": []
          },
          "execution_count": 13
        }
      ]
    },
    {
      "cell_type": "markdown",
      "metadata": {
        "id": "gt73fwt-YXMn"
      },
      "source": [
        "O número total de transações é 6.362.620, das quais 8.213 são fraudes e 6.354.407 não são transações fraudulentas. Isso significa, como cálculado anteriormente, que aproximadamente 0,13% são transações fraudulentas.  \n",
        "\n",
        "Além disso, o indicador *isFlaggedFraud* sinalizou apenas 16 transações do total de 6.362.620. \n",
        "\n",
        "Esse resutlados mostram que este é um conjunto de dados desequilibrado.\n"
      ]
    },
    {
      "cell_type": "markdown",
      "metadata": {
        "id": "TcZ7n-_HwIQZ"
      },
      "source": [
        "#### Step vs. Taxa de fraude\n",
        "**Qual a taxa de fraude por hora do dia?**"
      ]
    },
    {
      "cell_type": "markdown",
      "metadata": {
        "id": "Tk24OmcvwQ5Z"
      },
      "source": [
        "**Step** mapeia uma unidade de tempo no mundo real. Assim, 1 *step* corresponde a 1 hora de tempo. Total de etapas 744 (simulação de 30 dias). Nesse sentido, podemos tentar encontrar um padrão no que diz respeito à tempestividade das tentativas de fraude."
      ]
    },
    {
      "cell_type": "code",
      "metadata": {
        "id": "kZEjkgM9xutL",
        "colab": {
          "base_uri": "https://localhost:8080/",
          "height": 265
        },
        "outputId": "6426727d-2747-4c65-e5d0-d55634bd860a"
      },
      "source": [
        "#transforma step (1 a 744) em horas do dia (0 a 24)\n",
        "tmp = pd.DataFrame()\n",
        "tmp = df.copy()\n",
        "tmp['hora_do_dia'] = tmp.step%24\n",
        "\n",
        "#calcula a quantidade de transacoes por hora\n",
        "contagem_transacoes_por_hora = tmp.groupby('hora_do_dia')['isFraud'].count()\n",
        "#calcula a qtd de fraudes por hora\n",
        "soma_fraudes_por_hora = tmp.groupby('hora_do_dia')['isFraud'].sum()\n",
        "\n",
        "fraudes_por_hora = pd.concat([soma_fraudes_por_hora, contagem_transacoes_por_hora],axis=1)\n",
        "fraudes_por_hora.columns = ['fraudes','transacoes']\n",
        "fraudes_por_hora['taxa_de_fraude'] = fraudes_por_hora.fraudes/fraudes_por_hora.transacoes\n",
        "\n",
        "# Create bars\n",
        "bars = fraudes_por_hora.index\n",
        "x_pos = np.arange(len(bars))\n",
        "height = fraudes_por_hora.taxa_de_fraude\n",
        "\n",
        "# Create names on the x-axis\n",
        "plt.bar(x_pos, height, color=(0.2, 0.4, 0.6, 1))\n",
        "plt.xticks(x_pos, bars)\n",
        "# tmp.drop(columns=['hora_do_dia'],inplace=True)\n",
        "plt.show()\n"
      ],
      "execution_count": null,
      "outputs": [
        {
          "output_type": "display_data",
          "data": {
            "image/png": "[encoded data removed]",
            "text/plain": [
              "<Figure size 432x288 with 1 Axes>"
            ]
          },
          "metadata": {
            "tags": [],
            "needs_background": "light"
          }
        }
      ]
    },
    {
      "cell_type": "markdown",
      "metadata": {
        "id": "oHKwD2gg5wS7"
      },
      "source": [
        "O gráfico anterior mostra que as maiores taxas de fraude estão entre 3 horas da manhã e 5 horas da manhã. \n",
        "\n",
        "**Este resultado significa que há uma quantidade maior de fraudes nesse período do dia? Vamos verificar!**"
      ]
    },
    {
      "cell_type": "code",
      "metadata": {
        "colab": {
          "base_uri": "https://localhost:8080/"
        },
        "id": "ffKO4oy1WS-Y",
        "outputId": "ad6bb9fd-fe44-4ef6-c908-7c2260953946"
      },
      "source": [
        "#quantidade de transações totais entre 3am e 5am\n",
        "contagem_transacoes_por_hora[3:6]"
      ],
      "execution_count": null,
      "outputs": [
        {
          "output_type": "execute_result",
          "data": {
            "text/plain": [
              "hora_do_dia\n",
              "3    2007\n",
              "4    1241\n",
              "5    1641\n",
              "Name: isFraud, dtype: int64"
            ]
          },
          "metadata": {
            "tags": []
          },
          "execution_count": 33
        }
      ]
    },
    {
      "cell_type": "code",
      "metadata": {
        "colab": {
          "base_uri": "https://localhost:8080/"
        },
        "id": "9_wG_kd2WayS",
        "outputId": "5811e56c-d78c-445f-f545-a064eb2a8960"
      },
      "source": [
        "#quantidade de transações entre 13h e 15h \n",
        "contagem_transacoes_por_hora[13:15]"
      ],
      "execution_count": null,
      "outputs": [
        {
          "output_type": "execute_result",
          "data": {
            "text/plain": [
              "hora_do_dia\n",
              "13    468474\n",
              "14    439653\n",
              "Name: isFraud, dtype: int64"
            ]
          },
          "metadata": {
            "tags": []
          },
          "execution_count": 35
        }
      ]
    },
    {
      "cell_type": "code",
      "metadata": {
        "colab": {
          "base_uri": "https://localhost:8080/",
          "height": 421
        },
        "id": "U-iFYKMDZsi3",
        "outputId": "48e84104-16ad-45aa-c280-5e32081ffb32"
      },
      "source": [
        "#Plotagem para verificar se existem uma tendência entre transações vs. hora do dia \n",
        "figsize=(10,6)\n",
        "plt.subplots(figsize=figsize)\n",
        "plt.plot(range(len(fraudes_por_hora)), \n",
        "         fraudes_por_hora.transacoes,\n",
        "         'r.'\n",
        "         )\n",
        "plt.xlabel('Hora do dia')\n",
        "plt.ylabel('Transações')\n",
        "plt.title('Transações X hora do dia')\n",
        "plt.grid(True)\n",
        "plt.show()\n",
        "plt.tight_layout()"
      ],
      "execution_count": null,
      "outputs": [
        {
          "output_type": "display_data",
          "data": {
            "image/png": "[encoded data removed]",
            "text/plain": [
              "<Figure size 720x432 with 1 Axes>"
            ]
          },
          "metadata": {
            "tags": [],
            "needs_background": "light"
          }
        },
        {
          "output_type": "display_data",
          "data": {
            "text/plain": [
              "<Figure size 432x288 with 0 Axes>"
            ]
          },
          "metadata": {
            "tags": []
          }
        }
      ]
    },
    {
      "cell_type": "code",
      "metadata": {
        "colab": {
          "base_uri": "https://localhost:8080/",
          "height": 421
        },
        "id": "NzYnjcq1YFxu",
        "outputId": "9a41d5ad-c16f-47de-c505-b9bb59864ca0"
      },
      "source": [
        "#Plotagem para verificar se existem uma tendência entre hora do dia vs. qtd. de fraudes\n",
        "figsize=(10,6)\n",
        "plt.subplots(figsize=figsize)\n",
        "plt.plot(range(len(fraudes_por_hora)), \n",
        "         fraudes_por_hora.fraudes,\n",
        "         'r.'\n",
        "         )\n",
        "plt.xlabel('Hora do dia')\n",
        "plt.ylabel('Fraudes')\n",
        "plt.title('Fraudes X Hora do dia')\n",
        "plt.grid(True)\n",
        "plt.show()\n",
        "plt.tight_layout()"
      ],
      "execution_count": null,
      "outputs": [
        {
          "output_type": "display_data",
          "data": {
            "image/png": "[encoded data removed]",
            "text/plain": [
              "<Figure size 720x432 with 1 Axes>"
            ]
          },
          "metadata": {
            "tags": [],
            "needs_background": "light"
          }
        },
        {
          "output_type": "display_data",
          "data": {
            "text/plain": [
              "<Figure size 432x288 with 0 Axes>"
            ]
          },
          "metadata": {
            "tags": []
          }
        }
      ]
    },
    {
      "cell_type": "code",
      "metadata": {
        "colab": {
          "base_uri": "https://localhost:8080/"
        },
        "id": "KNL6uEo_XMYk",
        "outputId": "f475aca1-357d-4518-8765-3ceed834e31a"
      },
      "source": [
        "#Média da quantidade de fraudes realizadas \n",
        "print(round(fraudes_por_hora['fraudes'].mean(), 0))"
      ],
      "execution_count": null,
      "outputs": [
        {
          "output_type": "stream",
          "text": [
            "342.0\n"
          ],
          "name": "stdout"
        }
      ]
    },
    {
      "cell_type": "markdown",
      "metadata": {
        "id": "JXnoSBx-W9xU"
      },
      "source": [
        "Como podemos observar, a quantidade de fraudes é, em média, 342. Este resultado, em consonância com os gráficos anteriores, mostra que as maiores taxas de fraude estão entre 3 horas da manhã e 5 horas da manhã porque a quantidade de transações nesse período é significativamente menor."
      ]
    },
    {
      "cell_type": "markdown",
      "metadata": {
        "id": "pep-Ba6Ad5SV"
      },
      "source": [
        "#### Tipos de transações\n",
        "**Em quais operações ocorrem fraudes?**"
      ]
    },
    {
      "cell_type": "markdown",
      "metadata": {
        "id": "rBQkTmtcd9Ur"
      },
      "source": [
        "Como ilustrado abaixo, existem 5 tipos de transações."
      ]
    },
    {
      "cell_type": "code",
      "metadata": {
        "id": "Hsr7rgoreD_j",
        "colab": {
          "base_uri": "https://localhost:8080/",
          "height": 308
        },
        "outputId": "ec8698c6-f857-498c-fd5e-1950fbf4bfc1"
      },
      "source": [
        "# Verificação das características das categorias 'type'\n",
        "df.type.value_counts()\n",
        "sns.countplot(df.type)"
      ],
      "execution_count": null,
      "outputs": [
        {
          "output_type": "execute_result",
          "data": {
            "text/plain": [
              "<matplotlib.axes._subplots.AxesSubplot at 0x7f20c1bb4950>"
            ]
          },
          "metadata": {
            "tags": []
          },
          "execution_count": 51
        },
        {
          "output_type": "display_data",
          "data": {
            "image/png": "[encoded data removed]",
            "text/plain": [
              "<Figure size 432x288 with 1 Axes>"
            ]
          },
          "metadata": {
            "tags": [],
            "needs_background": "light"
          }
        }
      ]
    },
    {
      "cell_type": "markdown",
      "metadata": {
        "id": "VhvRiy-GiOc7"
      },
      "source": [
        "Em quais tipos de transação acontecem fraudes? "
      ]
    },
    {
      "cell_type": "code",
      "metadata": {
        "id": "-7ZHpCadeCAD",
        "colab": {
          "base_uri": "https://localhost:8080/",
          "height": 235
        },
        "outputId": "2009286b-0b02-41ea-ab06-96bb2b34bb79"
      },
      "source": [
        "#Groupby type\n",
        "df.groupby('type')['isFraud','isFlaggedFraud'].sum()"
      ],
      "execution_count": null,
      "outputs": [
        {
          "output_type": "execute_result",
          "data": {
            "text/html": [
              "<div>\n",
              "<style scoped>\n",
              "    .dataframe tbody tr th:only-of-type {\n",
              "        vertical-align: middle;\n",
              "    }\n",
              "\n",
              "    .dataframe tbody tr th {\n",
              "        vertical-align: top;\n",
              "    }\n",
              "\n",
              "    .dataframe thead th {\n",
              "        text-align: right;\n",
              "    }\n",
              "</style>\n",
              "<table border=\"1\" class=\"dataframe\">\n",
              "  <thead>\n",
              "    <tr style=\"text-align: right;\">\n",
              "      <th></th>\n",
              "      <th>isFraud</th>\n",
              "      <th>isFlaggedFraud</th>\n",
              "    </tr>\n",
              "    <tr>\n",
              "      <th>type</th>\n",
              "      <th></th>\n",
              "      <th></th>\n",
              "    </tr>\n",
              "  </thead>\n",
              "  <tbody>\n",
              "    <tr>\n",
              "      <th>CASH_IN</th>\n",
              "      <td>0</td>\n",
              "      <td>0</td>\n",
              "    </tr>\n",
              "    <tr>\n",
              "      <th>CASH_OUT</th>\n",
              "      <td>4116</td>\n",
              "      <td>0</td>\n",
              "    </tr>\n",
              "    <tr>\n",
              "      <th>DEBIT</th>\n",
              "      <td>0</td>\n",
              "      <td>0</td>\n",
              "    </tr>\n",
              "    <tr>\n",
              "      <th>PAYMENT</th>\n",
              "      <td>0</td>\n",
              "      <td>0</td>\n",
              "    </tr>\n",
              "    <tr>\n",
              "      <th>TRANSFER</th>\n",
              "      <td>4097</td>\n",
              "      <td>16</td>\n",
              "    </tr>\n",
              "  </tbody>\n",
              "</table>\n",
              "</div>"
            ],
            "text/plain": [
              "          isFraud  isFlaggedFraud\n",
              "type                             \n",
              "CASH_IN         0               0\n",
              "CASH_OUT     4116               0\n",
              "DEBIT           0               0\n",
              "PAYMENT         0               0\n",
              "TRANSFER     4097              16"
            ]
          },
          "metadata": {
            "tags": []
          },
          "execution_count": 52
        }
      ]
    },
    {
      "cell_type": "markdown",
      "metadata": {
        "id": "04OPgQwXc97H"
      },
      "source": [
        "Vamos verificar visual o resultado da tabela anterior."
      ]
    },
    {
      "cell_type": "code",
      "metadata": {
        "id": "-utffZMAiGHp",
        "colab": {
          "base_uri": "https://localhost:8080/",
          "height": 283
        },
        "outputId": "25368bd2-dfb4-4a79-b761-c132664618a7"
      },
      "source": [
        "sns.barplot(x=df.type.unique(),y=df.groupby(\"type\")[\"isFraud\"].sum())"
      ],
      "execution_count": null,
      "outputs": [
        {
          "output_type": "execute_result",
          "data": {
            "text/plain": [
              "<matplotlib.axes._subplots.AxesSubplot at 0x7f20c18c2690>"
            ]
          },
          "metadata": {
            "tags": []
          },
          "execution_count": 53
        },
        {
          "output_type": "display_data",
          "data": {
            "image/png": "[encoded data removed]",
            "text/plain": [
              "<Figure size 432x288 with 1 Axes>"
            ]
          },
          "metadata": {
            "tags": [],
            "needs_background": "light"
          }
        }
      ]
    },
    {
      "cell_type": "code",
      "metadata": {
        "id": "A8wy-3jBiJDI",
        "colab": {
          "base_uri": "https://localhost:8080/",
          "height": 283
        },
        "outputId": "f059f578-d0c4-463b-b9a4-0d00e95a5796"
      },
      "source": [
        "sns.barplot(x=df.type.unique(),y=df.groupby(\"type\")[\"isFlaggedFraud\"].sum())"
      ],
      "execution_count": null,
      "outputs": [
        {
          "output_type": "execute_result",
          "data": {
            "text/plain": [
              "<matplotlib.axes._subplots.AxesSubplot at 0x7f20c178ac50>"
            ]
          },
          "metadata": {
            "tags": []
          },
          "execution_count": 54
        },
        {
          "output_type": "display_data",
          "data": {
            "image/png": "[encoded data removed]",
            "text/plain": [
              "<Figure size 432x288 with 1 Axes>"
            ]
          },
          "metadata": {
            "tags": [],
            "needs_background": "light"
          }
        }
      ]
    },
    {
      "cell_type": "markdown",
      "metadata": {
        "id": "K-UEbN86f4jK"
      },
      "source": [
        "Dos cincos possíveis tipos de transações, fraudes ocorrem apenas em 2 tipos de transações: ***transfer*** e ***cash_out*** (em *isFraud*). \n",
        "\n",
        "O indicador *isFlaggedFraud* sinalizou fraudes em apenas um tipo de operação, a saber, ***transfer***."
      ]
    },
    {
      "cell_type": "markdown",
      "metadata": {
        "id": "lQJUyVyGkvAe"
      },
      "source": [
        "### Análise de correlação\n",
        "**Qual é a correlação entre cada atributo?** "
      ]
    },
    {
      "cell_type": "code",
      "metadata": {
        "id": "lEprlM8CkyyW",
        "colab": {
          "base_uri": "https://localhost:8080/"
        },
        "outputId": "0315f1a2-9b49-42f6-e67b-60486efa880d"
      },
      "source": [
        "#Explorando as correlações com isFraud\n",
        "df.corr()['isFraud'].sort_values(ascending=False)"
      ],
      "execution_count": null,
      "outputs": [
        {
          "output_type": "execute_result",
          "data": {
            "text/plain": [
              "isFraud           1.000000\n",
              "amount            0.076688\n",
              "isFlaggedFraud    0.044109\n",
              "step              0.031578\n",
              "oldbalanceOrg     0.010154\n",
              "newbalanceDest    0.000535\n",
              "oldbalanceDest   -0.005885\n",
              "newbalanceOrig   -0.008148\n",
              "Name: isFraud, dtype: float64"
            ]
          },
          "metadata": {
            "tags": []
          },
          "execution_count": 61
        }
      ]
    },
    {
      "cell_type": "code",
      "metadata": {
        "id": "vX_upBaRk0_T",
        "colab": {
          "base_uri": "https://localhost:8080/"
        },
        "outputId": "24739dff-5710-4995-f02c-86b917927238"
      },
      "source": [
        "#Explorando as correlações com isFlaggedFraud\n",
        "df.corr()['isFlaggedFraud'].sort_values(ascending=False)"
      ],
      "execution_count": null,
      "outputs": [
        {
          "output_type": "execute_result",
          "data": {
            "text/plain": [
              "isFlaggedFraud    1.000000\n",
              "isFraud           0.044109\n",
              "amount            0.012295\n",
              "oldbalanceOrg     0.003835\n",
              "newbalanceOrig    0.003776\n",
              "step              0.003277\n",
              "oldbalanceDest   -0.000513\n",
              "newbalanceDest   -0.000529\n",
              "Name: isFlaggedFraud, dtype: float64"
            ]
          },
          "metadata": {
            "tags": []
          },
          "execution_count": 62
        }
      ]
    },
    {
      "cell_type": "code",
      "metadata": {
        "id": "yMkSgtEhYmDn"
      },
      "source": [
        "# df.corr(method='spearman')"
      ],
      "execution_count": null,
      "outputs": []
    },
    {
      "cell_type": "code",
      "metadata": {
        "id": "VDmwHw1Gk3Ug",
        "colab": {
          "base_uri": "https://localhost:8080/",
          "height": 468
        },
        "outputId": "f82f7399-4322-4ff8-a4cc-24dff50293d8"
      },
      "source": [
        "#Mapa de calor das features\n",
        "f, ax = plt.subplots(figsize=(12,6))\n",
        "sns.heatmap(df.corr(), annot=True, fmt='.2f')"
      ],
      "execution_count": null,
      "outputs": [
        {
          "output_type": "execute_result",
          "data": {
            "text/plain": [
              "<matplotlib.axes._subplots.AxesSubplot at 0x7f93f30e1a90>"
            ]
          },
          "metadata": {
            "tags": []
          },
          "execution_count": 40
        },
        {
          "output_type": "display_data",
          "data": {
            "image/png": "[encoded data removed]",
            "text/plain": [
              "<Figure size 864x432 with 2 Axes>"
            ]
          },
          "metadata": {
            "tags": [],
            "needs_background": "light"
          }
        }
      ]
    },
    {
      "cell_type": "markdown",
      "metadata": {
        "id": "uD66S1Wd88U7"
      },
      "source": [
        "Quanto maior o valor da correlação entre cada variável, o gráfico fica  mais claro."
      ]
    },
    {
      "cell_type": "markdown",
      "metadata": {
        "id": "bxesXzrb8_DX"
      },
      "source": [
        "# Problemas encontrados"
      ]
    },
    {
      "cell_type": "markdown",
      "metadata": {
        "id": "Xj4rgJjbLe6L"
      },
      "source": [
        "#### isFlaggedFraud não é acionada"
      ]
    },
    {
      "cell_type": "code",
      "metadata": {
        "id": "TWO9kwEE8-nt",
        "colab": {
          "base_uri": "https://localhost:8080/"
        },
        "outputId": "c3443245-b605-4417-e386-637d7bdbfc26"
      },
      "source": [
        "#Verificação de: \"O modelo de negócios visa controlar as transferências em massa de uma conta para outra e sinaliza tentativas ilegais. \n",
        "                  #Uma tentativa ilegal neste conjunto de dados é uma tentativa de transferir mais de 200.000 em uma única transação.\"\n",
        "                  \n",
        "df_filtered = df[(df.type == 'TRANSFER') & (df.amount >= 200000)]\n",
        "len(df_filtered)"
      ],
      "execution_count": null,
      "outputs": [
        {
          "output_type": "execute_result",
          "data": {
            "text/plain": [
              "409110"
            ]
          },
          "metadata": {
            "tags": []
          },
          "execution_count": 65
        }
      ]
    },
    {
      "cell_type": "markdown",
      "metadata": {
        "id": "5E_fBnpRLiqS"
      },
      "source": [
        "Por definição, quando há uma tentativa de transferir (operação *transfer*) um valor igual ou superior a 200 mil em apenas uma transação, *isFlaggedFraud* é acionada. Entretanto, como mostar o resultado anterior, isso não acontece em um total de 409.110 transações.\n",
        "\n",
        "\n",
        "Caso seja esse um dos atributos selecionados para treinar o modelo, uma possível solução seria alterar *isFlaggedFraud* de acordo com o limite estabelecido. Porém, pode não ser uma prática correta. O ideal seria verificar as razões pelas quais a origem dos dados- nesse caso, o simulador, não acionou a *flag*."
      ]
    },
    {
      "cell_type": "markdown",
      "metadata": {
        "id": "RwqZ44hbTcbz"
      },
      "source": [
        "#### Conjunto de dados desbalanceado"
      ]
    },
    {
      "cell_type": "markdown",
      "metadata": {
        "id": "7iWNnpexTqar"
      },
      "source": [
        "Como visto na etapa *Análise dos atributos*, do número total de transações (6.362.620) apenas 0,13% são transações frauldulentas.\n",
        "\n",
        "Uma solução será apresentada na etapa de pré-processamento."
      ]
    }
  ]
}